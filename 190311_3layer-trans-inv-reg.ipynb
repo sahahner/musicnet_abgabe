{
 "cells": [
  {
   "cell_type": "markdown",
   "metadata": {},
   "source": [
    "## Version: \n",
    "- 44,100 Hz sample rate \n",
    "- 0.01 regularization\n",
    "- 300,000 iterations\n",
    "- 0.95 learning rate decay"
   ]
  },
  {
   "cell_type": "markdown",
   "metadata": {},
   "source": [
    "### 0. Import the packages"
   ]
  },
  {
   "cell_type": "code",
   "execution_count": 41,
   "metadata": {},
   "outputs": [],
   "source": [
    "import os,sys,shutil,mmap\n",
    "import pickle as pickle\n",
    "import numpy as np                                       # fast vectors and matrices\n",
    "import matplotlib.pyplot as plt                          # plotting\n",
    "from scipy.fftpack import fft\n",
    "\n",
    "import time\n",
    "\n",
    "sys.path.insert(0,'lib/')\n",
    "import config\n",
    "\n",
    "from sklearn.metrics import average_precision_score\n",
    "\n",
    "import tensorflow as tf\n",
    "\n",
    "import mir_eval\n",
    "\n",
    "%matplotlib inline\n",
    "\n",
    "notebook_reference = str(190311)"
   ]
  },
  {
   "cell_type": "code",
   "execution_count": 2,
   "metadata": {},
   "outputs": [],
   "source": [
    "debugging = False\n",
    "delete_ids = [2560, 1792, 2562, 2506, 2564, 2566, 1793, 2568, 2570, 2571, 2572, 2573, 2575, 2576, 2302, 2581, 2582, \n",
    "              2586, 2075, 2076, 2077, 2590, 2079, 2080, 2081, 2594, 2595, 2596, 2603, 2678, 2397, 2608, 2611, 2614, \n",
    "              2104, 2105, 2619, 2620, 2621, 2622, 2112, 2113, 2114, 2627, 2116, 2629, 2118, 2119, 2632, 2633, 2127, \n",
    "              2131, 2138, 2319, 2140, 2405, 2659, 2148, 2149, 2150, 2151, 2154, 2155, 2156, 2157, 2158, 2159, 2160, \n",
    "              2161, 2677, 2166, 2167, 2168, 2169, 2239, 2325, 2177, 2178, 2179, 2180, 1729, 2186, 2242, 2194, 2195, \n",
    "              2196, 1829, 2198, 2200, 2201, 2202, 2203, 2204, 2330, 2207, 2208, 2209, 2210, 2211, 2212, 2213, 2214, \n",
    "              2215, 2588, 2218, 2219, 2220, 2221, 2222, 2224, 2225, 2227, 2228, 2229, 2230, 2231, 2232, 2234, 2591, \n",
    "              2237, 2238, 1727, 1728, 2241, 1730, 2243, 2244, 1733, 1734, 2593, 2248, 1739, 2240, 2082, 1742, 2083, \n",
    "              1749, 1750, 1751, 1752, 1755, 1756, 1757, 1758, 1760, 1763, 1764, 1765, 1766, 1768, 2282, 1771, 1772, \n",
    "              1773, 1775, 1776, 1777, 2292, 2293, 2294, 2295, 2296, 2297, 1919, 1788, 1789, 1790, 2304, 2305, 2307, \n",
    "              2308, 2310, 2313, 2314, 2315, 1805, 2318, 1807, 2320, 2322, 1811, 1812, 1813, 1817, 1818, 2334, 2335, \n",
    "              2336, 1828, 2341, 2342, 2343, 2567, 2345, 2346, 1835, 2348, 2350, 2491, 2357, 2358, 2359, 2364, 2365, \n",
    "              2366, 2368, 2371, 2372, 2373, 2374, 2529, 2376, 2377, 2379, 2443, 2381, 2383, 2384, 1873, 2388, 2389, \n",
    "              2390, 2391, 2392, 2393, 2618, 2398, 2403, 2404, 1893, 2406, 2410, 2411, 2415, 2417, 2147, 2451, 2420, \n",
    "              2422, 2423, 2424, 1916, 2538, 1918, 2431, 2432, 2433, 1922, 1923, 2436, 2441, 2442, 1931, 1932, 2626, \n",
    "              1735, 2285, 1859, 2247, 2117, 2288, 2466, 2444, 2289, 2472, 2473, 2476, 2477, 2478, 2480, 2481, 2482, \n",
    "              2483, 2462, 2486, 2487, 2488, 2490, 2463, 2492, 2494, 2555, 2497, 1822, 2501, 2502, 2504, 2505, 2078, 2507]"
   ]
  },
  {
   "cell_type": "markdown",
   "metadata": {},
   "source": [
    "### 1. Import the data\n",
    "Import the recording and labels of the 331 recordings from the data base.\n",
    "\n",
    "#### 1.1 Import the labels of the data set.\n",
    "The 331 labels are saved in a dictionary whose\n",
    "- keys are integers (the ids of the recordings)\n",
    "- values are intervaltrees (for the different intervals of the recording it gives the played notes between 1 and 128)"
   ]
  },
  {
   "cell_type": "code",
   "execution_count": 4,
   "metadata": {},
   "outputs": [],
   "source": [
    "with open(config.labels_path, 'rb') as f:\n",
    "    labels = pickle.load(f)"
   ]
  },
  {
   "cell_type": "code",
   "execution_count": 5,
   "metadata": {},
   "outputs": [
    {
     "name": "stdout",
     "output_type": "stream",
     "text": [
      "331 labels\n"
     ]
    }
   ],
   "source": [
    "print(len(labels), 'labels')"
   ]
  },
  {
   "cell_type": "code",
   "execution_count": 6,
   "metadata": {},
   "outputs": [
    {
     "name": "stdout",
     "output_type": "stream",
     "text": [
      "2239\n",
      "<class 'intervaltree.intervaltree.IntervalTree'>\n"
     ]
    }
   ],
   "source": [
    "for key, value in labels.items() :\n",
    "    if key == 2239:\n",
    "        # id of the recording\n",
    "        print (key)\n",
    "        # intervaltree containing for each note intervals in which it is played\n",
    "        print (type(value))"
   ]
  },
  {
   "cell_type": "markdown",
   "metadata": {},
   "source": [
    "#### 1.2 Import recordings\n",
    "\n",
    "Create a dictionary containing the data (recordings). Use Memory-mapped file objects.\n",
    "For each recording data[rec_id] is a tuple:\n",
    "1. data[rec_id][0] is the memory-mapped file object to the recording. It can be accesed by \n",
    "~~~~~~\n",
    "np.frombuffer(data[rec_id][0], dtype=np.float32).copy()\n",
    "~~~~~~\n",
    "2. data[rec_id][1] is its length (float)"
   ]
  },
  {
   "cell_type": "code",
   "execution_count": 7,
   "metadata": {},
   "outputs": [],
   "source": [
    "sz_float = 4"
   ]
  },
  {
   "cell_type": "code",
   "execution_count": 8,
   "metadata": {},
   "outputs": [],
   "source": [
    "data = dict()\n",
    "for record in os.listdir(config.records_path):\n",
    "    fd = os.open(config.records_path + record, os.O_RDONLY)\n",
    "    buff = mmap.mmap(fd, 0, mmap.MAP_SHARED, mmap.PROT_READ)\n",
    "    data[int(record[:-4])] = (buff, len(buff)/sz_float)\n",
    "    os.close(fd)"
   ]
  },
  {
   "cell_type": "code",
   "execution_count": 9,
   "metadata": {},
   "outputs": [
    {
     "name": "stdout",
     "output_type": "stream",
     "text": [
      "Key: 2494 , Format: <class 'int'>\n",
      "Value: (<mmap.mmap object at 0x7f38d8a542b8>, 13100544.0)\n",
      "1. Entry: Memory-mapped file objects , <mmap.mmap object at 0x7f38d8a4f660>\n",
      "For example:\n",
      "[0.00036621 0.00039673 0.00036621 0.00036621 0.00033569 0.00033569\n",
      " 0.00036621 0.00036621 0.00036621 0.00033569 0.00036621 0.00039673]\n",
      "2. Entry: length of recording 5293440.0 , Type: <class 'float'>\n"
     ]
    }
   ],
   "source": [
    "for key, value in data.items() :\n",
    "    if key == 2494:\n",
    "        # id of the recording\n",
    "        print ('Key:',key,', Format:',type(key))\n",
    "        # its value is a tuple\n",
    "        print ('Value:',value)\n",
    "        # 1. value: reference to recording\n",
    "        print (\"1. Entry: Memory-mapped file objects ,\", data[2239][0])\n",
    "        # to access content use:\n",
    "        x = np.frombuffer(data[2239][0], dtype=np.float32).copy()\n",
    "        print('For example:')\n",
    "        print(x[3005:3017])\n",
    "        print (\"2. Entry: length of recording\",str(data[2239][1]),\", Type:\",type(data[2239][1]))\n",
    "        #print(len(x))"
   ]
  },
  {
   "cell_type": "markdown",
   "metadata": {},
   "source": [
    "#### 1.3 Split up in the test and train set"
   ]
  },
  {
   "cell_type": "code",
   "execution_count": 10,
   "metadata": {},
   "outputs": [
    {
     "name": "stdout",
     "output_type": "stream",
     "text": [
      "There are 11 samples in the test set\n",
      "There are 320 samples in the train set\n"
     ]
    }
   ],
   "source": [
    "extended_test_set = True\n",
    "use_mirex = True\n",
    "    \n",
    "# use the small or big test set\n",
    "if extended_test_set:\n",
    "    test_ids = config.test_ids_ext\n",
    "else:\n",
    "    test_ids = config.test_ids\n",
    "\n",
    "# include the mirex dev set in test results\n",
    "if use_mirex:\n",
    "    test_ids = test_ids + config.mirex_id\n",
    "\n",
    "train_ids = [rec_id for rec_id in labels.keys() if rec_id not in test_ids]\n",
    "\n",
    "if debugging == True:\n",
    "    train_ids = [rec_id for rec_id in train_ids if rec_id not in delete_ids]\n",
    "\n",
    "\n",
    "print('There are {} samples in the test set'.format(len(test_ids)))\n",
    "print('There are {} samples in the train set'.format(len(train_ids)))"
   ]
  },
  {
   "cell_type": "markdown",
   "metadata": {},
   "source": [
    "### 2. Preprocessing\n",
    "\n",
    "The input data (recordings) are normalized and the possible note range is defines to 128 notes. The lowest note is ..., the highest ... ."
   ]
  },
  {
   "cell_type": "code",
   "execution_count": 11,
   "metadata": {},
   "outputs": [],
   "source": [
    "# Normalize the recordings\n",
    "normalize = True\n",
    "# Possible notes are from range [base_note, base_note + m)\n",
    "base_note = 0\n",
    "mm = 128"
   ]
  },
  {
   "cell_type": "markdown",
   "metadata": {},
   "source": [
    "#### 2.1 Data augmentation\n",
    "\n",
    "Always make two small changes to input data by randomly stretching or shrinking our input audio that are not noticable by human hearing, but augment the data set:\n",
    "1. Pitch-shift in the frequency domain: Randomly  shifting  each data points in a minibatch by an integral number of semitones. This reinforces the architectural structure of the translation-invariant network.\n",
    "2. Jittering: continuous shift to each data point. This makes the models more robust to tuning variation between recordings --> regularization\n",
    "\n",
    "Define a function for extracting a sequence and its label as well as applying the data augmentation."
   ]
  },
  {
   "cell_type": "code",
   "execution_count": 12,
   "metadata": {},
   "outputs": [],
   "source": [
    "# pitching: stretching or shrinking our input audio with linear interpolation\n",
    "pitch_transforms=5 # =/- 5 semitones\n",
    "jitter=.1"
   ]
  },
  {
   "cell_type": "markdown",
   "metadata": {},
   "source": [
    "Pitch-shifting corresponds to a multiplication by $2^{1/12}$ (an octave is equal to 12 semitones and corresponds to a factor 2 in the frequency domain) for each semirone.\n",
    "\n",
    "A scaling factor in the frequency domain implies also a scaling factor in the time domain. (speeding up the recording $\\to$ higher frequency $\\to$ sounds higher.\n"
   ]
  },
  {
   "cell_type": "code",
   "execution_count": 13,
   "metadata": {},
   "outputs": [],
   "source": [
    "# function to obtain one data sample from recordings\n",
    "# input:\n",
    "# - rec_id: the id of the recording\n",
    "# - s: frame-number to extract\n",
    "# - window: windowsize\n",
    "# - pitchshift: shift the label by pitchshift halftones\n",
    "# - scaling_factor: scaling factor in frequency domain (includes corrections because of pitch shift and jitter)\n",
    "# - normalize: boolean\n",
    "# output\n",
    "# - x: audio segment of length window\n",
    "# - y: labels, 0-1-vector of length mm\n",
    "def get_data(rec_id,s,window,pitch_shift,scaling_factor, normalize=True):\n",
    "   \n",
    "    x = np.frombuffer(data[rec_id][0][s*sz_float:int(\n",
    "        s+scaling_factor*window)*sz_float], dtype=np.float32).copy()\n",
    "    \n",
    "    if normalize: \n",
    "        x /= np.linalg.norm(x) + config.epsilon\n",
    "\n",
    "    xp = np.arange(window,dtype=np.float32)\n",
    "    # interpolate the discrete function (np.arange(len(x)), x) at the points (scaling_factor*xp)\n",
    "    x = np.interp(scaling_factor*xp,np.arange(len(x),dtype=np.float32),x).astype(np.float32)\n",
    "    # real-valued audio frame with values in the range [−1,1], sampled at 44.1 kHz\n",
    "    # -> x has length window\n",
    "    \n",
    "    y = np.zeros(mm)\n",
    "    # select center of frame\n",
    "    for label in labels[rec_id][s+scaling_factor*window/2]:\n",
    "        y[label.data[1]+pitch_shift-base_note] = 1 # apply pitch shift here (in frequency domain)\n",
    "    \n",
    "    return x,y"
   ]
  },
  {
   "cell_type": "markdown",
   "metadata": {},
   "source": [
    "#### 2.1 Batch-selection\n",
    "Create the training batch applying the above explained methods for Data augmentation"
   ]
  },
  {
   "cell_type": "code",
   "execution_count": 14,
   "metadata": {},
   "outputs": [],
   "source": [
    "# function to create an input batch for one training step\n",
    "# input:\n",
    "# - model_stats: model_results-class containing training_ids\n",
    "# - batch_size (integer)\n",
    "# - window: window-length\n",
    "# - pitch_transforms: integer in [-5,5], number of maximum semitones shifted\n",
    "# - jitter: float in [-0.1,0.1], tuning variation\n",
    "# output:\n",
    "# - xmb: batch for a training step, size: (batch_size,1,window,1)\n",
    "# - ymb: corresponding labels to the batch xmb, size: (batch_size,1,mm)\n",
    "def get_training_batch(model_stats, batch_size, window, pitch_transforms=0, jitter=0):\n",
    "    # arrays for input data (batch)\n",
    "    xmbatch = np.empty([batch_size,1,window,1],dtype=np.float32)\n",
    "    ymbatch = np.empty([batch_size,1,mm],dtype=np.float32)\n",
    "        \n",
    "    # picking randomly batch_size recordings\n",
    "    rec_ids = [model_stats.train_ids[r] for r in \\\n",
    "               np.random.randint(0,len(model_stats.train_ids),batch_size)]\n",
    "        \n",
    "    if pitch_transforms > 0:\n",
    "        transform_type = np.random.randint(-pitch_transforms,\n",
    "                                           pitch_transforms,batch_size)\n",
    "\n",
    "    if jitter > 0:\n",
    "        jitter_amount = np.random.uniform(-jitter,jitter,batch_size)\n",
    "\n",
    "    for i in range(batch_size):\n",
    "        scaling_factor = 1\n",
    "        shift = 0\n",
    "        if pitch_transforms > 0:\n",
    "            shift = transform_type[i]\n",
    "            # half-step has a frequency ratio of 2^(1/12)\n",
    "            # (shift + jitter_amount) halfsteps are shifted\n",
    "            if jitter > 0:\n",
    "                scaling_factor = (2.**((shift+jitter_amount[i])/12.))\n",
    "            else:\n",
    "                # only shift the halftones from pitch_transform\n",
    "                scaling_factor = (2.**(shift/12.))\n",
    "        \n",
    "        # multiply in frequency domain by scaling_factor\n",
    "        \n",
    "        # pick a frame for training randomly\n",
    "        s = np.random.randint(0,data[rec_ids[i]][1]-scaling_factor*window)\n",
    "        xmbatch[i,0,:,0],ymbatch[i,0,:] = get_data(rec_ids[i],s,window,pitch_shift=shift,scaling_factor=scaling_factor)\n",
    "        \n",
    "    return xmbatch, ymbatch"
   ]
  },
  {
   "cell_type": "markdown",
   "metadata": {},
   "source": [
    "#### 2.3 Creation of Training and Test set for protocolling\n",
    "\n",
    "Routines that create sample for the protcoling:\n",
    "1. Routine to obtain the training samples from numpy-file.\n",
    "2. Routine to obtain test samples given the recording IDs of the test samples."
   ]
  },
  {
   "cell_type": "code",
   "execution_count": 15,
   "metadata": {},
   "outputs": [],
   "source": [
    "\n",
    "# function to obtain training sample which is already saved in \n",
    "# numpy fromat in file. only normalization is necessary.\n",
    "# input:\n",
    "# - d: window size (integer)\n",
    "# - normalize: boolean\n",
    "# output:\n",
    "# - Xtrain: training sample of size (15000, 1, d, 1)\n",
    "# - Ytrain: corresponding labels of size (15000, 128)\n",
    "def get_training_sample(d=16384, normalize=True):\n",
    "    cachex = config.tmp + 'Xtrain_ext{}.npy'.format(d)\n",
    "    cachey = config.tmp + 'Ytrain_ext{}.npy'.format(d)\n",
    "    #shape Xtrain: (15000, 1, 16384, 1)\n",
    "    #shape Ytrain: (15000, 128)\n",
    "    if os.path.exists(cachex) and os.path.exists(cachey):\n",
    "        Xtrain = np.load(cachex)\n",
    "        Ytrain = np.load(cachey)\n",
    "    else:\n",
    "        print(cachex)\n",
    "        print(cachey)\n",
    "        raise Exception('Unimplemented')\n",
    "\n",
    "    if normalize:\n",
    "        Xtrain = Xtrain.reshape(len(Xtrain),1,d,1)\n",
    "        for i in range(len(Xtrain)):\n",
    "            Xtrain[i] /= np.linalg.norm(Xtrain[i]) + config.epsilon\n",
    "\n",
    "    return Xtrain,Ytrain\n",
    "\n",
    "\n",
    "# function to obtain test sample using get_data(). every sample is split \n",
    "# up in count sequences.\n",
    "# input:\n",
    "# - rec_ids: ids of test samples\n",
    "# - window: size of the input frame\n",
    "# - count: number of sequences to be created for each sample\n",
    "# - fixed_stride: -1 (stride is adapted to sample) or nonnegative integer\n",
    "# - pitch_shift: value by which recording is stretched or shrinked\n",
    "# output:\n",
    "# - Xtest: test sample of size (count*len(rec_ids),1,window,1)\n",
    "# - Ytest: corresponding labels of size (count*len(rec_ids),mm)\n",
    "def get_test_sample(rec_ids, window, count, fixed_stride=-1, pitch_shift=0):\n",
    "    Xtest = np.zeros([count*len(rec_ids),1,window,1])\n",
    "    Ytest = np.zeros([count*len(rec_ids),mm])\n",
    "    offset = 44100\n",
    "    # calculate scaling factor\n",
    "    sf = 2.**(pitch_shift/12.)\n",
    "    # for every sample create 1000 sequences\n",
    "    for i in range(len(rec_ids)):\n",
    "        X = np.zeros([count,1,window,1])\n",
    "        Y = np.zeros([count,mm])\n",
    "        # calculate teh stride in case it is not fixed\n",
    "        stride = (data[rec_ids[i]][1]-offset-int(sf*window))/count if fixed_stride==-1 else fixed_stride\n",
    "        for j in range(count):\n",
    "            X[j,0,:,0],Y[j] = get_data(rec_ids[i],int(offset+j*stride),window,pitch_shift=int(round(pitch_shift)),scaling_factor=sf)\n",
    "        \n",
    "        Xtest[i*count:(i+1)*count] = X\n",
    "        Ytest[i*count:(i+1)*count] = Y\n",
    "    return Xtest, Ytest"
   ]
  },
  {
   "cell_type": "markdown",
   "metadata": {},
   "source": [
    "Save the results, losses, precicions and weights at each protocol point inside a class."
   ]
  },
  {
   "cell_type": "code",
   "execution_count": 16,
   "metadata": {},
   "outputs": [],
   "source": [
    "class model_results():\n",
    "    def __init__(self, test_ids, train_ids):\n",
    "        # weights\n",
    "        self.weights = dict()\n",
    "        # step\n",
    "        self.iter = 0\n",
    "        # result statistics\n",
    "        self.stats = dict()\n",
    "        self.stats['iter'] = [False,'{:<8}',[]]\n",
    "        # time that has passed since last record\n",
    "        self.stats['time'] = [True,'{:<8.0f}',[]]\n",
    "        self.stats['lr'] = [False,'{:<8.6f}',[]]\n",
    "        # mean squared errors\n",
    "        self.stats['mse_train_1'] = [True,'{:<16.6f}',[]]\n",
    "        self.stats['mse_train'] = [True,'{:<16.6f}',[]]\n",
    "        self.stats['mse_test'] = [True,'{:<16.6f}',[]]\n",
    "        # precicions\n",
    "        self.stats['avp_train'] = [True,'{:<16.6f}',[]]\n",
    "        self.stats['avp_test'] = [True,'{:<16.6f}',[]]\n",
    "        \n",
    "        self.averages = []\n",
    "        \n",
    "        self.test_ids = test_ids\n",
    "        self.train_ids = train_ids\n",
    "\n",
    "    # Register the weights inside the list w_list. \n",
    "    # The list name_list contains the corresponding names of the wariables in w_list\n",
    "    def register_weights(self, w_list, name_list):\n",
    "        if len(w_list) != len(name_list):\n",
    "            print(\"error: input lists need to have same length\")\n",
    "            \n",
    "        for ii in range(len(w_list)):\n",
    "            w = w_list[ii]\n",
    "            name = name_list[ii]\n",
    "            # register the norm of the weights\n",
    "            self.stats['n'+name] = [False,'{:<8.3f}',[]] \n",
    "            # register the weights\n",
    "            self.weights[name] = w\n",
    "            \n",
    "        return None\n",
    "        \n",
    "model_stats = model_results(test_ids, train_ids)\n"
   ]
  },
  {
   "cell_type": "markdown",
   "metadata": {},
   "source": [
    "### 4. Error measures\n",
    "Define the error measures for comparing the correct labeling Y with the extimated labeling Y_hat.\n",
    "Both labelings are of size (mm) for each segment. The errors are calculated at each protocol point for the training and the test set.\n",
    "1. Mean Squared Error: When applying the model to a sequence or sequences the mean squared error is calculated directly by applying the tensorflow function.\n",
    "~~~~~~~~~~~~~~~~~~~~~\n",
    "tf.reduce_mean(tf.nn.l2_loss( Y_hat - Y ))\n",
    "~~~~~~~~~~~~~~~~~~~~~\n",
    "2. Average Precision: The average precision is calculated with the metric function from the sklear package.\n",
    "~~~~~~~~~~~~~~~~~~~~~\n",
    "sklearn.metrics.average_precision_score\n",
    "~~~~~~~~~~~~~~~~~~~~~\n"
   ]
  },
  {
   "cell_type": "markdown",
   "metadata": {},
   "source": [
    "### 5. Define the graph\n",
    "\n",
    "Define batch size (batch_size segments at each training step). Also define a small factor wscale to scale the weights. Regularization can be avoided."
   ]
  },
  {
   "cell_type": "code",
   "execution_count": 17,
   "metadata": {},
   "outputs": [],
   "source": [
    "batch_size=150\n",
    "if debugging == True:\n",
    "    batch_size = 5\n",
    "out = 1"
   ]
  },
  {
   "cell_type": "markdown",
   "metadata": {},
   "source": [
    "#### 5.1 Define layers"
   ]
  },
  {
   "cell_type": "markdown",
   "metadata": {},
   "source": [
    "#### First layer: \n",
    "\n",
    "Lenth of the input (segment) is window=16384. Compute a strided convolution with a d=4096-sample recptive field and a stride=512 sample stride. Since every segment has 16384 samples there are 25 regions for each frame.\n",
    "\n",
    "After the convolution for each region a filterbank computation is calculated. \n",
    "As a filter a log=spaced filterbank is chosen (k=512 sine and cosine filters with logarithmically spaced frequencies from 50 hz to 6000 hz) which is going to be applied to all the regions of the convolution of size d=4096"
   ]
  },
  {
   "cell_type": "code",
   "execution_count": 18,
   "metadata": {},
   "outputs": [],
   "source": [
    "# variables for input layer\n",
    "\n",
    "# input size of segment, predict notes played at midpoint of segment\n",
    "window=16384\n",
    "# size of regions that outputs the convolution from layer one (receptive field)\n",
    "dd = 4096\n",
    "#stride for first layer convolution\n",
    "stride=512\n",
    "# --> 25 regions\n",
    "\n",
    "# variables for filterbank (= first layer)\n",
    "# number of nodes in first layer (by filterbank get from dd nodes to kk nodes)\n",
    "kk = 512 "
   ]
  },
  {
   "cell_type": "code",
   "execution_count": 19,
   "metadata": {},
   "outputs": [],
   "source": [
    "def create_filters(d,k):\n",
    "    # create k filters\n",
    "    # d is the length of the receptive field (input)\n",
    "    x = np.linspace(0, 2*np.pi, d, endpoint=False)\n",
    "    wsin = np.empty((1,d,1,k), dtype=np.float32)\n",
    "    wcos = np.empty((1,d,1,k), dtype=np.float32)\n",
    "    start_freq = 50.\n",
    "    end_freq = 6000.\n",
    "    num_cycles = start_freq*d/44100.                                          \n",
    "    scaling_ind = np.log(end_freq/start_freq)/k\n",
    "    window_mask = 1.0-1.0*np.cos(x)\n",
    "    for ind in range(k):\n",
    "        wsin[0,:,0,ind] = window_mask*np.sin(np.exp(ind*scaling_ind)*num_cycles*x)\n",
    "        wcos[0,:,0,ind] = window_mask*np.cos(np.exp(ind*scaling_ind)*num_cycles*x)\n",
    "            \n",
    "    return wsin,wcos"
   ]
  },
  {
   "cell_type": "markdown",
   "metadata": {},
   "source": [
    "#### Second layer:"
   ]
  },
  {
   "cell_type": "code",
   "execution_count": 20,
   "metadata": {},
   "outputs": [],
   "source": [
    "# variables for second layer\n",
    "d2_x = 1          # lvl2 input dims_x\n",
    "d2_y = 128          # lvl2 input dims_y\n",
    "k2 = 128        # num lvl2 filters\n",
    "stride_y = 2    # lvl2 stride"
   ]
  },
  {
   "cell_type": "markdown",
   "metadata": {},
   "source": [
    "#### Third layer:"
   ]
  },
  {
   "cell_type": "code",
   "execution_count": 21,
   "metadata": {},
   "outputs": [],
   "source": [
    "# variables for third layer\n",
    "d3_x = 25 # lvl3 input dims_x\n",
    "d3_y = 1 # lvl3 input dims_y (fully connected)\n",
    "k3 = 4096 # num lvl3 filters"
   ]
  },
  {
   "cell_type": "markdown",
   "metadata": {},
   "source": [
    "Calculate the sizes of nodes at each layer"
   ]
  },
  {
   "cell_type": "code",
   "execution_count": 22,
   "metadata": {},
   "outputs": [
    {
     "name": "stdout",
     "output_type": "stream",
     "text": [
      "First layer regions: (25,512)\n",
      "Second layer regions: (25,193)\n",
      "Third layer regions: (1,193)\n"
     ]
    }
   ],
   "source": [
    "num_regions  = int(1 + (window-dd)/stride)\n",
    "print ('First layer regions: ({},{})'.format(num_regions,kk))\n",
    "num_regions2_x  = int(1 + (num_regions-d2_x)/1)\n",
    "num_regions2_y = int(1 + (kk-d2_y)/stride_y)\n",
    "print ('Second layer regions: ({},{})'.format(num_regions2_x,num_regions2_y))\n",
    "num_regions3_x = int(1 + (num_regions2_x - d3_x)/1)\n",
    "num_regions3_y = int(1 + (num_regions2_y - d3_y)/1)\n",
    "print ('Third layer regions: ({},{})'.format(num_regions3_x,num_regions3_y))\n",
    "\n",
    "# create filters (shape: (1, 4096, 1, 512)) = number of regions x size of region\n",
    "wsin,wcos = create_filters(dd,kk)"
   ]
  },
  {
   "cell_type": "markdown",
   "metadata": {},
   "source": [
    "#### 5.2 Define tf.Graph()\n",
    "Set it all together and define the graph.\n",
    "\n",
    "For evaluation not the trained weights, but its moving averages with decay 0.9998 are utilized. The shadow variables are maintained by tf.train.ExponentialMovingAverage. In the block for evaluating the direct model their values are retrieved."
   ]
  },
  {
   "cell_type": "code",
   "execution_count": 23,
   "metadata": {},
   "outputs": [
    {
     "name": "stdout",
     "output_type": "stream",
     "text": [
      "---- Weights ----\n",
      "w <tf.Variable 'parameters/w:0' shape=(1, 128, 1, 128) dtype=float32_ref>\n",
      "w2 <tf.Variable 'parameters/w2:0' shape=(25, 1, 128, 4096) dtype=float32_ref>\n",
      "beta <tf.Variable 'parameters/beta:0' shape=(790528, 128) dtype=float32_ref>\n",
      "---- Layers ----\n",
      "zx Tensor(\"queued_model/add:0\", shape=(?, 1, 25, 512), dtype=float32)\n",
      "z2 Tensor(\"queued_model/Relu:0\", shape=(?, 128, 25, 193), dtype=float32)\n",
      "z3 Tensor(\"queued_model/Relu_1:0\", shape=(?, 4096, 1, 193), dtype=float32)\n",
      "y Tensor(\"queued_model/MatMul:0\", shape=(150, 128), dtype=float32)\n",
      "loss Tensor(\"queued_model/Mean:0\", shape=(), dtype=float32)\n"
     ]
    }
   ],
   "source": [
    "tf.set_random_seed(999)\n",
    "\n",
    "#end_learning_rate = .00001/3/3/3\n",
    "starter_learning_rate = .00001\n",
    "mom = .95\n",
    "\n",
    "beta_reg = 0.01\n",
    "\n",
    "graph = tf.Graph()\n",
    "\n",
    "with graph.as_default():\n",
    "     \n",
    "    # if the input is a batch\n",
    "    with tf.variable_scope('data_queue'):\n",
    "        xb = tf.placeholder(tf.float32, shape=[None, 1, window+(out-1)*stride, 1])\n",
    "        yb = tf.placeholder(tf.float32, shape=[None, out, mm])\n",
    "\n",
    "        xq, yq = xb, yb\n",
    "        \n",
    "    # if the input is just one segment\n",
    "    with tf.variable_scope('direct_data'):\n",
    "        xd = tf.placeholder(tf.float32, shape=[None,1,window,1])\n",
    "        yd = tf.placeholder(tf.float32, shape=[None, mm])\n",
    "    \n",
    "    print ('---- Weights ----')\n",
    "    with tf.variable_scope('parameters'): #glorot  \n",
    "        w = tf.get_variable('w', [d2_x,d2_y,1,k2]) # 1 x 128 x 1 x 128 (16.384 values)\n",
    "        print ('w',w)\n",
    "        w2 = tf.get_variable('w2', [d3_x,d3_y,k2,k3]) # 25 x 1 x 128 x 4096 (13.107.200 values)\n",
    "        print ('w2',w2)\n",
    "        beta = tf.get_variable('beta', [int(num_regions3_x*num_regions3_y*k3),mm]) # (1*193*4096) x 128 (101.187.584 values)\n",
    "        print ('beta',beta)\n",
    "        model_stats.register_weights([w,w2,beta],['w','w2','beta'])\n",
    "\n",
    "    print ('---- Layers ----')\n",
    "    with tf.variable_scope('queued_model'):\n",
    "        zx = tf.square(tf.nn.conv2d(xq,wsin,strides=[1,1,stride,1],padding='VALID')) \\\n",
    "           + tf.square(tf.nn.conv2d(xq,wcos,strides=[1,1,stride,1],padding='VALID'))\n",
    "        print ('zx',zx)\n",
    "        z2 = tf.nn.relu(tf.nn.conv2d(tf.log(zx+10e-15),w,strides=[1,1,1,stride_y],padding='VALID',data_format='NCHW'))\n",
    "        print ('z2',z2)\n",
    "        z3 = tf.nn.relu(tf.nn.conv2d(z2,w2,strides=[1,1,1,1],padding='VALID',data_format='NCHW'))\n",
    "        print ('z3',z3)\n",
    "        y = tf.matmul(tf.reshape(z3,[batch_size,int(num_regions3_x*num_regions3_y*k3)]),beta)\n",
    "        print ('y',y)\n",
    "        loss = tf.reduce_mean(tf.nn.l2_loss(y-tf.reshape(yq,[batch_size,mm])))\n",
    "        print ('loss',loss)\n",
    "            \n",
    "    # learning rate decay\n",
    "    global_step = tf.Variable(0, trainable=False)\n",
    "    lr = tf.train.exponential_decay(starter_learning_rate, global_step, 10000, 0.95, staircase=True)\n",
    "\n",
    "    reg = tf.nn.l2_loss(w) + tf.nn.l2_loss(w2) + tf.nn.l2_loss(beta)\n",
    "\n",
    "    opt_op = tf.train.MomentumOptimizer(lr,mom).minimize(tf.reduce_mean(loss + beta_reg*reg), global_step=global_step)\n",
    "    \n",
    "    # Create an ExponentialMovingAverage object\n",
    "    ema = tf.train.ExponentialMovingAverage(decay=0.9998)\n",
    "    \n",
    "    with tf.control_dependencies([opt_op]):\n",
    "        training_op = ema.apply([w, w2, beta])\n",
    "    \n",
    "    with tf.variable_scope('direct_model'):\n",
    "        # use ema.average(var) to return the average of variable var\n",
    "        wavg = ema.average(w)\n",
    "        w2avg = ema.average(w2)\n",
    "        betaavg = ema.average(beta)\n",
    "\n",
    "        direct_zx = tf.square(tf.nn.conv2d(xd,wsin,strides=[1,1,stride,1],padding='VALID')) \\\n",
    "                + tf.square(tf.nn.conv2d(xd,wcos,strides=[1,1,stride,1],padding='VALID'))\n",
    "        direct_z2 = tf.nn.relu(tf.nn.conv2d(tf.log(direct_zx+10e-15),wavg,strides=[1,1,1,stride_y],padding='VALID',data_format='NCHW'))\n",
    "        direct_z3 = tf.nn.relu(tf.nn.conv2d(direct_z2,w2avg,strides=[1,1,1,1],padding='VALID',data_format='NCHW'))\n",
    "        direct_y = tf.matmul(tf.reshape(direct_z3,[tf.shape(xd)[0],int(num_regions3_x*num_regions3_y*k3)]),betaavg)\n",
    "        direct_loss = tf.reduce_mean(tf.nn.l2_loss(direct_y-yd))\n",
    "        "
   ]
  },
  {
   "cell_type": "markdown",
   "metadata": {},
   "source": [
    "#### 5.3 Evaluation of the graph\n",
    "\n",
    "For the aplication of the neuronal network a moving average of the weights is used. Therefore, a different function for evaluation is used.\n",
    "\n",
    "Inside the function predict_direct_model the mean squared error is calculated directly."
   ]
  },
  {
   "cell_type": "code",
   "execution_count": 24,
   "metadata": {},
   "outputs": [],
   "source": [
    "# function for prediction without training that splits up the whole set\n",
    "# in small subsets to prevent errors of type \"ResourceExhaustedError\"\n",
    "# input: \n",
    "# - sess: the actual session\n",
    "# - X: sample, size: (n,1,window,1)\n",
    "# - Y: corresponding labels, size: (n,mm)\n",
    "# output:\n",
    "#  Yhat: prediction, size: (n,mm)\n",
    "#  mse: Mean Squared Error when comparing Y and Yhat\n",
    "def predict_direct_model(sess, X, Y):\n",
    "    Yhat = np.empty((len(X),mm))\n",
    "    subdiv = 100\n",
    "    subset = X.shape[0]/subdiv\n",
    "    mse = 0\n",
    "    for j in range(subdiv):\n",
    "        Yhat[int(subset*j):int(subset*(j+1))], se = sess.run([direct_y,direct_loss], \n",
    "                                                         feed_dict={xd: X[int(subset*j):int(subset*(j+1))],\n",
    "                                                                    yd: Y[int(subset*j):int(subset*(j+1))]})\n",
    "        mse += se\n",
    "\n",
    "    return Yhat, mse/float(subdiv)"
   ]
  },
  {
   "cell_type": "markdown",
   "metadata": {},
   "source": [
    "### 6. Training"
   ]
  },
  {
   "cell_type": "code",
   "execution_count": 24,
   "metadata": {},
   "outputs": [],
   "source": [
    "if debugging == True:\n",
    "    num_steps = 5\n",
    "    control_step = 1\n",
    "else:\n",
    "    num_steps = 300000\n",
    "    control_step = 1000\n",
    "\n",
    "gpu_memory_growth = False"
   ]
  },
  {
   "cell_type": "code",
   "execution_count": 25,
   "metadata": {},
   "outputs": [],
   "source": [
    "# arrays for input data (batch)\n",
    "xmb = np.empty([batch_size,1,window,1],dtype=np.float32)\n",
    "ymb = np.empty([batch_size,1,mm],dtype=np.float32)"
   ]
  },
  {
   "cell_type": "code",
   "execution_count": 26,
   "metadata": {},
   "outputs": [],
   "source": [
    "# train saver\n",
    "saver = tf.train.Saver({'wavg': wavg, 'w2avg': w2avg, 'betaavg': betaavg})"
   ]
  },
  {
   "cell_type": "code",
   "execution_count": 27,
   "metadata": {},
   "outputs": [
    {
     "name": "stdout",
     "output_type": "stream",
     "text": [
      "Initialized\n",
      "iter\t test_squ_loss\t test_avg_prec\t train_squ_loss\t train_avg_prec\t regularization\t time (in s)\n",
      "1 \t 246.55195496 \t 0.0176381 \t 340.18234253 \t 0.0217515 \t 253.11946 \t 31.70181584\n",
      "1001 \t 130.38121849 \t 0.02888717 \t 218.4153186 \t 0.03648819 \t 356.1115 \t 495.70083785\n",
      "2001 \t 128.43350399 \t 0.04476062 \t 215.22413528 \t 0.05922177 \t 355.23907 \t 495.55893731\n",
      "3001 \t 124.43698349 \t 0.17438758 \t 209.18399521 \t 0.22024525 \t 354.27664 \t 493.3543334\n",
      "4001 \t 117.86273445 \t 0.45673067 \t 199.20055649 \t 0.47504747 \t 353.1125 \t 494.32345629\n",
      "5001 \t 110.03727905 \t 0.56663212 \t 187.12594131 \t 0.56663827 \t 352.00272 \t 494.81141233\n",
      "6001 \t 102.09441299 \t 0.60505757 \t 174.78120911 \t 0.60087094 \t 350.87793 \t 494.46966887\n",
      "7001 \t 94.71134552 \t 0.62733442 \t 163.07450668 \t 0.62155302 \t 349.7526 \t 494.98899412\n",
      "8001 \t 88.50901434 \t 0.64563621 \t 153.0508606 \t 0.63853601 \t 348.664 \t 495.2165308\n",
      "9001 \t 83.3354459 \t 0.66143061 \t 144.50317352 \t 0.65306761 \t 347.59204 \t 495.67126298\n",
      "10001 \t 78.93146065 \t 0.67401027 \t 137.04291176 \t 0.66418588 \t 346.6146 \t 495.72882628\n",
      "11001 \t 75.36878296 \t 0.68496112 \t 130.85522484 \t 0.67366069 \t 345.6447 \t 494.98582959\n",
      "12001 \t 72.5716258 \t 0.69378192 \t 125.94771935 \t 0.68143877 \t 344.671 \t 495.32962465\n",
      "13001 \t 70.32074484 \t 0.70088396 \t 122.02915245 \t 0.68791676 \t 343.7174 \t 496.56246758\n",
      "14001 \t 68.50030832 \t 0.70613121 \t 118.92912659 \t 0.69302549 \t 342.77673 \t 495.87011981\n",
      "15001 \t 66.87577972 \t 0.71034242 \t 116.28066841 \t 0.69731647 \t 341.85114 \t 497.37743783\n",
      "16001 \t 65.5724155 \t 0.71383073 \t 114.0590509 \t 0.70094822 \t 340.98572 \t 496.78291774\n",
      "17001 \t 64.62140318 \t 0.71708242 \t 112.33958336 \t 0.70411288 \t 340.07086 \t 494.91741776\n",
      "18001 \t 63.89750841 \t 0.71970737 \t 110.95366119 \t 0.70667922 \t 339.22464 \t 494.82636666\n",
      "19001 \t 63.23140312 \t 0.72256539 \t 109.65339874 \t 0.70951706 \t 338.3554 \t 496.41825175\n",
      "20001 \t 62.56503628 \t 0.7254703 \t 108.37877876 \t 0.71249624 \t 337.4596 \t 496.80455017\n",
      "21001 \t 61.91024279 \t 0.72859422 \t 107.21590942 \t 0.71533416 \t 336.61786 \t 497.12092948\n",
      "22001 \t 61.35009911 \t 0.73141208 \t 106.22892097 \t 0.71795565 \t 335.7853 \t 497.304286\n",
      "23001 \t 60.80783384 \t 0.73433137 \t 105.32457603 \t 0.72051996 \t 334.94373 \t 496.18637776\n",
      "24001 \t 60.31861305 \t 0.737126 \t 104.49754631 \t 0.72291268 \t 334.1167 \t 498.15342474\n",
      "25001 \t 59.95203772 \t 0.73923546 \t 103.84274673 \t 0.72490727 \t 333.32727 \t 497.69402051\n",
      "26001 \t 59.61751692 \t 0.74118089 \t 103.2504052 \t 0.72674119 \t 332.50482 \t 497.51833344\n",
      "27001 \t 59.2782305 \t 0.74321026 \t 102.66677017 \t 0.72860056 \t 331.67014 \t 498.62605691\n",
      "28001 \t 58.96089485 \t 0.74515873 \t 102.13432518 \t 0.73033472 \t 330.8295 \t 498.36165428\n",
      "29001 \t 58.70625647 \t 0.7465867 \t 101.66593658 \t 0.73183368 \t 330.02124 \t 496.73465371\n",
      "30001 \t 58.48038187 \t 0.74782582 \t 101.23572975 \t 0.73323334 \t 329.19766 \t 499.33963823\n",
      "31001 \t 58.25776762 \t 0.7491992 \t 100.83513748 \t 0.73461132 \t 328.37097 \t 496.13631177\n",
      "32001 \t 58.06730465 \t 0.7502414 \t 100.46782349 \t 0.73575965 \t 327.58542 \t 496.62635207\n",
      "33001 \t 57.8546319 \t 0.75151785 \t 100.10430519 \t 0.73691631 \t 326.80148 \t 497.39370799\n",
      "34001 \t 57.69405695 \t 0.75239639 \t 99.79561928 \t 0.73803194 \t 326.00638 \t 499.38193822\n",
      "35001 \t 57.53100555 \t 0.75346851 \t 99.51085342 \t 0.7390645 \t 325.2576 \t 497.73996854\n",
      "36001 \t 57.40066662 \t 0.75424628 \t 99.25035896 \t 0.74002918 \t 324.47034 \t 497.11605167\n",
      "37001 \t 57.28013041 \t 0.75497707 \t 98.97929794 \t 0.74103768 \t 323.6809 \t 497.43667436\n",
      "38001 \t 57.17252964 \t 0.75564266 \t 98.74792953 \t 0.74188294 \t 322.90393 \t 498.50347543\n",
      "39001 \t 57.05792143 \t 0.75630726 \t 98.53968506 \t 0.74268237 \t 322.1114 \t 497.44869089\n",
      "40001 \t 56.97263884 \t 0.7568253 \t 98.36767365 \t 0.74344822 \t 321.37683 \t 497.78876281\n",
      "41001 \t 56.87928091 \t 0.75722183 \t 98.1355249 \t 0.74431938 \t 320.61914 \t 498.57702017\n",
      "42001 \t 56.77849413 \t 0.7578364 \t 97.93939087 \t 0.74508021 \t 319.87732 \t 497.61683345\n",
      "43001 \t 56.69091893 \t 0.75848636 \t 97.7640799 \t 0.74579609 \t 319.13873 \t 499.33294272\n",
      "44001 \t 56.60473678 \t 0.75907132 \t 97.56180458 \t 0.74660171 \t 318.44043 \t 498.59478188\n",
      "45001 \t 56.52159061 \t 0.75962772 \t 97.36084023 \t 0.74739401 \t 317.72845 \t 498.36912847\n",
      "46001 \t 56.43561932 \t 0.76023748 \t 97.19434814 \t 0.74804864 \t 316.99115 \t 498.2035675\n",
      "47001 \t 56.36426052 \t 0.76070003 \t 97.0056958 \t 0.7487941 \t 316.2971 \t 500.0582819\n",
      "48001 \t 56.28431967 \t 0.76129802 \t 96.83394005 \t 0.74946856 \t 315.60724 \t 500.08076549\n",
      "49001 \t 56.22204869 \t 0.76168777 \t 96.66184624 \t 0.75016814 \t 314.89322 \t 503.99719167\n",
      "50001 \t 56.14543067 \t 0.76218795 \t 96.49523125 \t 0.75081701 \t 314.22125 \t 502.51222348\n",
      "51001 \t 56.07111878 \t 0.76268652 \t 96.33191048 \t 0.75146048 \t 313.5348 \t 501.47246575\n",
      "52001 \t 55.97971251 \t 0.76330294 \t 96.14102448 \t 0.75218615 \t 312.87262 \t 578.64142323\n",
      "53001 \t 55.91220591 \t 0.76378311 \t 95.99179977 \t 0.75279686 \t 312.1833 \t 761.73115754\n",
      "54001 \t 55.83745409 \t 0.76436321 \t 95.85429237 \t 0.75342073 \t 311.55225 \t 857.63777733\n",
      "55001 \t 55.7746431 \t 0.76478488 \t 95.71326698 \t 0.7540702 \t 310.89307 \t 938.68342161\n",
      "56001 \t 55.7193177 \t 0.76513857 \t 95.58986229 \t 0.75461222 \t 310.24915 \t 710.75142527\n",
      "57001 \t 55.6843051 \t 0.76533467 \t 95.49441689 \t 0.75510514 \t 309.651 \t 617.91228819\n",
      "58001 \t 55.63346333 \t 0.7656435 \t 95.34758102 \t 0.75571187 \t 309.00348 \t 587.5838213\n",
      "59001 \t 55.58380331 \t 0.76598673 \t 95.2245826 \t 0.75626868 \t 308.36475 \t 576.6695745\n",
      "60001 \t 55.51210869 \t 0.76661247 \t 95.10602119 \t 0.75685043 \t 307.74847 \t 573.58666706\n",
      "61001 \t 55.46744787 \t 0.76694684 \t 94.97857307 \t 0.75741476 \t 307.11365 \t 570.87584138\n",
      "62001 \t 55.42261223 \t 0.76727227 \t 94.85794556 \t 0.75791862 \t 306.48978 \t 572.40749073\n",
      "63001 \t 55.3725808 \t 0.76756326 \t 94.70943871 \t 0.75845351 \t 305.8704 \t 570.79552841\n",
      "64001 \t 55.33320317 \t 0.76774056 \t 94.57967743 \t 0.75898178 \t 305.2563 \t 568.28065777\n",
      "65001 \t 55.28438761 \t 0.76797663 \t 94.46046402 \t 0.75947276 \t 304.68262 \t 570.7196939\n",
      "66001 \t 55.26517346 \t 0.76815652 \t 94.38792313 \t 0.75984514 \t 304.11847 \t 572.90063596\n",
      "67001 \t 55.22275684 \t 0.76842765 \t 94.2959594 \t 0.76022672 \t 303.50772 \t 571.70830703\n",
      "68001 \t 55.17530827 \t 0.76863297 \t 94.16944855 \t 0.76070716 \t 302.91595 \t 571.46261191\n",
      "69001 \t 55.13748577 \t 0.76883642 \t 94.06578712 \t 0.76112139 \t 302.31842 \t 576.61961174\n",
      "70001 \t 55.10879393 \t 0.76891072 \t 93.9732547 \t 0.76153706 \t 301.74286 \t 578.66113853\n",
      "71001 \t 55.07587345 \t 0.76905263 \t 93.88103439 \t 0.76192048 \t 301.1704 \t 573.86162019\n",
      "72001 \t 55.04264762 \t 0.7692292 \t 93.79645584 \t 0.76229161 \t 300.5942 \t 574.99170828\n",
      "73001 \t 54.99350178 \t 0.76947899 \t 93.67438881 \t 0.7627895 \t 300.027 \t 575.83232999\n",
      "74001 \t 54.97056593 \t 0.7695882 \t 93.57582748 \t 0.76318913 \t 299.45166 \t 579.27588654\n",
      "75001 \t 54.93731186 \t 0.76970731 \t 93.47875221 \t 0.76367759 \t 298.8927 \t 593.36881685\n",
      "76001 \t 54.90209528 \t 0.76983801 \t 93.37028023 \t 0.76420625 \t 298.33524 \t 532.3882165\n",
      "77001 \t 54.86631868 \t 0.77008294 \t 93.26874344 \t 0.76472163 \t 297.8009 \t 515.97634697\n",
      "78001 \t 54.82403446 \t 0.77039062 \t 93.16073494 \t 0.76523621 \t 297.27118 \t 509.48114872\n",
      "79001 \t 54.78733541 \t 0.77064379 \t 93.08009621 \t 0.7656258 \t 296.73352 \t 505.56718278\n",
      "80001 \t 54.761234 \t 0.77084391 \t 93.01573067 \t 0.76595343 \t 296.18872 \t 506.33495307\n",
      "81001 \t 54.73462747 \t 0.77098572 \t 92.93052742 \t 0.7663842 \t 295.67133 \t 504.34307456\n",
      "82001 \t 54.69339501 \t 0.77127908 \t 92.82630348 \t 0.76676839 \t 295.13336 \t 500.44479442\n",
      "83001 \t 54.6616264 \t 0.77150957 \t 92.73139938 \t 0.76720197 \t 294.61554 \t 500.64793134\n",
      "84001 \t 54.64900521 \t 0.77154973 \t 92.65265701 \t 0.76757337 \t 294.08502 \t 501.46845055\n",
      "85001 \t 54.62343419 \t 0.77166736 \t 92.56026314 \t 0.76798064 \t 293.5652 \t 500.97690201\n",
      "86001 \t 54.59542435 \t 0.77188358 \t 92.47698914 \t 0.76831785 \t 293.06058 \t 501.19970393\n",
      "87001 \t 54.56783418 \t 0.77208497 \t 92.39322418 \t 0.76868848 \t 292.5614 \t 500.84174895\n",
      "88001 \t 54.55183699 \t 0.77215522 \t 92.31517311 \t 0.76903324 \t 292.05255 \t 500.88130116\n",
      "89001 \t 54.5466993 \t 0.77217194 \t 92.24439377 \t 0.76937167 \t 291.55872 \t 500.84708905\n",
      "90001 \t 54.52498369 \t 0.77224477 \t 92.15514832 \t 0.76970108 \t 291.0481 \t 498.47363663\n",
      "91001 \t 54.50172812 \t 0.7724694 \t 92.06818962 \t 0.77013987 \t 290.57776 \t 498.34599996\n",
      "92001 \t 54.48518841 \t 0.77262714 \t 91.99410515 \t 0.77048315 \t 290.08112 \t 499.47664237\n",
      "93001 \t 54.4473596 \t 0.77288616 \t 91.91472168 \t 0.77076726 \t 289.59296 \t 499.49569631\n"
     ]
    },
    {
     "name": "stdout",
     "output_type": "stream",
     "text": [
      "94001 \t 54.43201113 \t 0.77294949 \t 91.81788666 \t 0.7712122 \t 289.08765 \t 499.61610436\n",
      "95001 \t 54.40058547 \t 0.7731064 \t 91.75217361 \t 0.77145645 \t 288.61697 \t 501.80698133\n",
      "96001 \t 54.38962749 \t 0.77312133 \t 91.69533592 \t 0.77172596 \t 288.1338 \t 500.18945241\n",
      "97001 \t 54.37403378 \t 0.7732716 \t 91.64192581 \t 0.77201753 \t 287.68527 \t 500.84734035\n",
      "98001 \t 54.36069569 \t 0.77330108 \t 91.5586644 \t 0.77239556 \t 287.22858 \t 500.74550939\n",
      "99001 \t 54.33510327 \t 0.77340157 \t 91.48211708 \t 0.77267657 \t 286.75342 \t 501.37213588\n",
      "100001 \t 54.31995394 \t 0.77358426 \t 91.45161667 \t 0.77279022 \t 286.31158 \t 501.11437845\n",
      "101001 \t 54.30034754 \t 0.77376791 \t 91.40010712 \t 0.77303322 \t 285.8281 \t 501.22218776\n",
      "102001 \t 54.27506725 \t 0.77401786 \t 91.32048256 \t 0.773356 \t 285.3976 \t 501.08979893\n",
      "103001 \t 54.27105631 \t 0.77398829 \t 91.24708252 \t 0.77370173 \t 284.93335 \t 501.65452576\n",
      "104001 \t 54.24059367 \t 0.77413331 \t 91.15356155 \t 0.77406462 \t 284.48285 \t 502.01194835\n",
      "105001 \t 54.22653979 \t 0.77420943 \t 91.08959267 \t 0.77433299 \t 284.05255 \t 500.82230186\n",
      "106001 \t 54.20102996 \t 0.77432772 \t 91.01228241 \t 0.77465089 \t 283.61993 \t 502.18066359\n",
      "107001 \t 54.22534478 \t 0.77406946 \t 90.99652504 \t 0.77474267 \t 283.18018 \t 501.68220878\n",
      "108001 \t 54.22108779 \t 0.77405103 \t 90.96988083 \t 0.77486433 \t 282.7627 \t 501.6946857\n",
      "109001 \t 54.21117298 \t 0.77403107 \t 90.90479362 \t 0.77512303 \t 282.33572 \t 500.86106062\n",
      "110001 \t 54.17814975 \t 0.77432673 \t 90.85117096 \t 0.77538781 \t 281.90314 \t 501.02012348\n",
      "111001 \t 54.1489115 \t 0.7746811 \t 90.7812014 \t 0.77569486 \t 281.4783 \t 501.54411602\n",
      "112001 \t 54.12615801 \t 0.77494848 \t 90.72142021 \t 0.77601123 \t 281.05502 \t 502.1150229\n",
      "113001 \t 54.11235376 \t 0.77505137 \t 90.66026527 \t 0.77632822 \t 280.62115 \t 502.89606833\n",
      "114001 \t 54.09322341 \t 0.77519462 \t 90.58008202 \t 0.77663035 \t 280.2256 \t 502.18640947\n",
      "115001 \t 54.07738673 \t 0.77530821 \t 90.53512848 \t 0.776833 \t 279.81744 \t 499.78846097\n",
      "116001 \t 54.05008024 \t 0.77550079 \t 90.45493225 \t 0.77711012 \t 279.41675 \t 501.10415435\n",
      "117001 \t 54.04840954 \t 0.77539413 \t 90.38872879 \t 0.77742187 \t 278.99982 \t 501.25244021\n",
      "118001 \t 54.05340064 \t 0.77522917 \t 90.33389626 \t 0.77769509 \t 278.61902 \t 500.66893911\n",
      "119001 \t 54.04795255 \t 0.77517681 \t 90.27970665 \t 0.77798647 \t 278.22964 \t 501.03279042\n",
      "120001 \t 54.02450364 \t 0.77534391 \t 90.20509254 \t 0.7783089 \t 277.82693 \t 499.47701073\n",
      "121001 \t 54.00874528 \t 0.77543607 \t 90.14904228 \t 0.77855213 \t 277.43427 \t 501.00356174\n",
      "122001 \t 54.00917727 \t 0.77539772 \t 90.0874102 \t 0.77881563 \t 277.04834 \t 502.38556266\n",
      "123001 \t 54.00008649 \t 0.77544609 \t 90.04112442 \t 0.77900642 \t 276.66876 \t 501.57355142\n",
      "124001 \t 53.96486225 \t 0.77577595 \t 89.97099045 \t 0.77934111 \t 276.27896 \t 501.42021298\n",
      "125001 \t 53.93911124 \t 0.77606202 \t 89.90852257 \t 0.77966403 \t 275.9105 \t 502.05714965\n",
      "126001 \t 53.91940532 \t 0.77623906 \t 89.85299904 \t 0.77990596 \t 275.54156 \t 502.01427865\n",
      "127001 \t 53.90776165 \t 0.77640377 \t 89.78978363 \t 0.78021363 \t 275.14764 \t 502.45744848\n",
      "128001 \t 53.89141806 \t 0.77656038 \t 89.73197617 \t 0.78049497 \t 274.79608 \t 502.95550513\n",
      "129001 \t 53.87510414 \t 0.7767763 \t 89.69338203 \t 0.78075486 \t 274.42163 \t 501.73326397\n",
      "130001 \t 53.84868133 \t 0.77688685 \t 89.62866066 \t 0.78106047 \t 274.04388 \t 502.84419394\n",
      "131001 \t 53.82502737 \t 0.77709303 \t 89.57129395 \t 0.78131875 \t 273.6677 \t 501.86980987\n",
      "132001 \t 53.79620869 \t 0.77733772 \t 89.5330584 \t 0.78146516 \t 273.2905 \t 501.71500802\n",
      "133001 \t 53.77475067 \t 0.77746001 \t 89.49292633 \t 0.78165346 \t 272.9373 \t 501.79079533\n",
      "134001 \t 53.73600215 \t 0.77781705 \t 89.42898224 \t 0.78190227 \t 272.58398 \t 502.37481833\n",
      "135001 \t 53.69923372 \t 0.77811113 \t 89.3711834 \t 0.78217172 \t 272.24557 \t 501.67586899\n",
      "136001 \t 53.6851227 \t 0.77824745 \t 89.31797661 \t 0.78238279 \t 271.89746 \t 502.03400588\n",
      "137001 \t 53.67233491 \t 0.77833888 \t 89.26157364 \t 0.78257382 \t 271.5473 \t 501.43466353\n",
      "138001 \t 53.65791397 \t 0.77841451 \t 89.21286636 \t 0.78276073 \t 271.19183 \t 501.38749719\n",
      "139001 \t 53.6314275 \t 0.77858289 \t 89.16151871 \t 0.78297959 \t 270.83014 \t 503.21655846\n",
      "140001 \t 53.62888681 \t 0.77856939 \t 89.10822464 \t 0.78324673 \t 270.4795 \t 502.61338902\n",
      "141001 \t 53.6340567 \t 0.7785892 \t 89.07209518 \t 0.78343992 \t 270.16385 \t 503.02960157\n",
      "142001 \t 53.61750817 \t 0.77873779 \t 89.01062935 \t 0.78370716 \t 269.8284 \t 503.4353137\n",
      "143001 \t 53.60657857 \t 0.77879129 \t 88.95310028 \t 0.7840041 \t 269.50793 \t 503.46504116\n",
      "144001 \t 53.61074739 \t 0.77883942 \t 88.90562935 \t 0.78424858 \t 269.19016 \t 503.3097496\n",
      "145001 \t 53.60731833 \t 0.77887703 \t 88.85784134 \t 0.7844562 \t 268.85767 \t 502.70406771\n",
      "146001 \t 53.60744952 \t 0.7788652 \t 88.79465378 \t 0.78467252 \t 268.52045 \t 503.84460568\n",
      "147001 \t 53.60353456 \t 0.77885083 \t 88.75165573 \t 0.7848247 \t 268.19205 \t 502.24889398\n",
      "148001 \t 53.5887116 \t 0.77898761 \t 88.69616219 \t 0.78503606 \t 267.8791 \t 503.1388979\n",
      "149001 \t 53.54828239 \t 0.77921782 \t 88.63006508 \t 0.78523374 \t 267.56088 \t 502.12931132\n",
      "150001 \t 53.51371656 \t 0.77948096 \t 88.57906052 \t 0.78538458 \t 267.234 \t 503.19434595\n",
      "151001 \t 53.48883081 \t 0.77971545 \t 88.52824852 \t 0.78563393 \t 266.91724 \t 503.62165475\n",
      "152001 \t 53.4831238 \t 0.77981724 \t 88.48632133 \t 0.7858471 \t 266.59784 \t 503.68812394\n",
      "153001 \t 53.4724326 \t 0.77988158 \t 88.44570938 \t 0.78600692 \t 266.2975 \t 503.29028249\n",
      "154001 \t 53.45654066 \t 0.77998264 \t 88.40429878 \t 0.78619302 \t 265.98395 \t 503.26338935\n",
      "155001 \t 53.47738012 \t 0.77981348 \t 88.38268105 \t 0.78634531 \t 265.68448 \t 503.85941529\n",
      "156001 \t 53.47832782 \t 0.77979163 \t 88.33406372 \t 0.78657632 \t 265.3757 \t 503.06670189\n",
      "157001 \t 53.47713255 \t 0.77975375 \t 88.28317406 \t 0.78680288 \t 265.08215 \t 503.45454431\n",
      "158001 \t 53.47070321 \t 0.77976897 \t 88.24021141 \t 0.78698319 \t 264.78656 \t 502.65881968\n",
      "159001 \t 53.452882 \t 0.77990984 \t 88.18937515 \t 0.78720867 \t 264.50073 \t 502.28424406\n",
      "160001 \t 53.45856676 \t 0.77982091 \t 88.15480659 \t 0.78739862 \t 264.20026 \t 502.41634059\n",
      "161001 \t 53.45207247 \t 0.77981118 \t 88.09828705 \t 0.7876606 \t 263.8964 \t 503.59230447\n",
      "162001 \t 53.44737287 \t 0.77978811 \t 88.04765083 \t 0.78782572 \t 263.6064 \t 502.98784018\n",
      "163001 \t 53.42795975 \t 0.77991113 \t 88.00960609 \t 0.78798423 \t 263.33405 \t 502.62373066\n",
      "164001 \t 53.43052727 \t 0.77991356 \t 87.98537468 \t 0.78818602 \t 263.0567 \t 502.87918663\n",
      "165001 \t 53.43085031 \t 0.77986249 \t 87.9348542 \t 0.78839106 \t 262.76923 \t 503.39116454\n",
      "166001 \t 53.40789047 \t 0.78003438 \t 87.88100319 \t 0.78865069 \t 262.4709 \t 502.16745043\n",
      "167001 \t 53.40219419 \t 0.78000993 \t 87.82641823 \t 0.78885618 \t 262.1809 \t 503.77153015\n",
      "168001 \t 53.400889 \t 0.78000662 \t 87.79158363 \t 0.78908472 \t 261.90247 \t 503.95570827\n",
      "169001 \t 53.38931615 \t 0.78009441 \t 87.73629967 \t 0.78935006 \t 261.64383 \t 502.75223422\n",
      "170001 \t 53.36616066 \t 0.78029911 \t 87.68780602 \t 0.7895814 \t 261.3553 \t 502.35642385\n",
      "171001 \t 53.37293354 \t 0.78023699 \t 87.66069298 \t 0.78975537 \t 261.08606 \t 502.83029437\n",
      "172001 \t 53.36866921 \t 0.78028286 \t 87.62623619 \t 0.78994359 \t 260.8133 \t 501.4864924\n",
      "173001 \t 53.35484672 \t 0.78035626 \t 87.57323135 \t 0.79015441 \t 260.54236 \t 502.21574306\n",
      "174001 \t 53.34739212 \t 0.78042709 \t 87.5362529 \t 0.79033104 \t 260.26486 \t 502.58262205\n",
      "175001 \t 53.32410197 \t 0.7806463 \t 87.47267426 \t 0.79056156 \t 260.00433 \t 503.16198683\n",
      "176001 \t 53.3164592 \t 0.78078012 \t 87.45980286 \t 0.7906293 \t 259.7307 \t 503.74043512\n",
      "177001 \t 53.30981448 \t 0.78095393 \t 87.42597908 \t 0.79081462 \t 259.467 \t 503.87118387\n",
      "178001 \t 53.28612267 \t 0.78103217 \t 87.36119247 \t 0.79096021 \t 259.20557 \t 503.619174\n",
      "179001 \t 53.28358951 \t 0.78093433 \t 87.33427559 \t 0.79107681 \t 258.95172 \t 503.0706501\n",
      "180001 \t 53.2702708 \t 0.78098363 \t 87.291064 \t 0.7912958 \t 258.69376 \t 502.01573753\n",
      "181001 \t 53.25872778 \t 0.78110079 \t 87.25474945 \t 0.79153441 \t 258.4411 \t 503.73800015\n",
      "182001 \t 53.24586417 \t 0.78123424 \t 87.20987511 \t 0.79172852 \t 258.19095 \t 502.6708827\n",
      "183001 \t 53.23776568 \t 0.78137499 \t 87.14970108 \t 0.79199052 \t 257.94836 \t 502.93123078\n",
      "184001 \t 53.24098498 \t 0.78148899 \t 87.12191963 \t 0.79215835 \t 257.72076 \t 503.54926348\n",
      "185001 \t 53.22861733 \t 0.78165276 \t 87.08275421 \t 0.79231278 \t 257.4821 \t 502.88305235\n",
      "186001 \t 53.22515542 \t 0.78171777 \t 87.06780693 \t 0.79241826 \t 257.23044 \t 502.19760227\n",
      "187001 \t 53.22410106 \t 0.78172027 \t 87.04865242 \t 0.79250408 \t 256.98557 \t 502.70089889\n",
      "188001 \t 53.20338472 \t 0.78187042 \t 86.99731705 \t 0.79266927 \t 256.7362 \t 503.18326664\n"
     ]
    },
    {
     "name": "stdout",
     "output_type": "stream",
     "text": [
      "189001 \t 53.1897296 \t 0.78200568 \t 86.95731064 \t 0.79285849 \t 256.49878 \t 502.27405357\n",
      "190001 \t 53.18702877 \t 0.78207447 \t 86.91770607 \t 0.79302122 \t 256.26562 \t 503.50961328\n",
      "191001 \t 53.17835513 \t 0.78217483 \t 86.87982597 \t 0.79317528 \t 256.02698 \t 503.98735046\n",
      "192001 \t 53.15197686 \t 0.7824208 \t 86.82589737 \t 0.79337208 \t 255.78613 \t 502.67641091\n",
      "193001 \t 53.13654026 \t 0.78252385 \t 86.76813446 \t 0.79361454 \t 255.55534 \t 502.20358753\n",
      "194001 \t 53.13488024 \t 0.78255549 \t 86.71613503 \t 0.79386812 \t 255.3287 \t 504.33748436\n",
      "195001 \t 53.12041175 \t 0.78268808 \t 86.65804222 \t 0.79412784 \t 255.1015 \t 503.29979229\n",
      "196001 \t 53.11499281 \t 0.78266407 \t 86.60357712 \t 0.79424735 \t 254.86559 \t 502.58425403\n",
      "197001 \t 53.12366198 \t 0.78258313 \t 86.57005806 \t 0.79439627 \t 254.62779 \t 502.95724607\n",
      "198001 \t 53.12024288 \t 0.78261992 \t 86.53470314 \t 0.79457438 \t 254.42693 \t 502.76631641\n",
      "199001 \t 53.11786787 \t 0.78268866 \t 86.5172538 \t 0.79471677 \t 254.19565 \t 503.46387482\n",
      "200001 \t 53.10583415 \t 0.78278645 \t 86.48181252 \t 0.79488743 \t 253.96712 \t 503.92505074\n",
      "201001 \t 53.1088904 \t 0.78275477 \t 86.44513901 \t 0.79504777 \t 253.74596 \t 503.2113905\n",
      "202001 \t 53.09368499 \t 0.78285745 \t 86.39782257 \t 0.79527828 \t 253.53577 \t 502.84880805\n",
      "203001 \t 53.08603185 \t 0.7828395 \t 86.36267975 \t 0.79545658 \t 253.30643 \t 502.74236584\n",
      "204001 \t 53.05582042 \t 0.78309679 \t 86.31341164 \t 0.79564759 \t 253.0785 \t 503.28291416\n",
      "205001 \t 53.05050046 \t 0.78319786 \t 86.28601265 \t 0.795817 \t 252.87918 \t 502.94009399\n",
      "206001 \t 53.04647196 \t 0.78318056 \t 86.25007286 \t 0.79594833 \t 252.66476 \t 502.80128956\n",
      "207001 \t 53.0385934 \t 0.78317627 \t 86.21893288 \t 0.79601644 \t 252.45079 \t 501.31312108\n",
      "208001 \t 53.03110337 \t 0.78324321 \t 86.19443527 \t 0.7961166 \t 252.23553 \t 503.86274242\n",
      "209001 \t 53.02496031 \t 0.78330561 \t 86.17518692 \t 0.7962003 \t 252.03036 \t 502.85259247\n",
      "210001 \t 53.01883108 \t 0.78341738 \t 86.1290374 \t 0.79640644 \t 251.8292 \t 503.40406919\n",
      "211001 \t 53.02042382 \t 0.78343575 \t 86.07824837 \t 0.79663291 \t 251.62213 \t 502.35544896\n",
      "212001 \t 53.0118826 \t 0.78350261 \t 86.01626694 \t 0.79688098 \t 251.40979 \t 503.51042557\n",
      "213001 \t 53.00493527 \t 0.78346466 \t 85.97092628 \t 0.79701455 \t 251.20009 \t 502.22276664\n",
      "214001 \t 53.00503035 \t 0.78336804 \t 85.92707596 \t 0.79716872 \t 251.00784 \t 502.71145105\n",
      "215001 \t 53.00696624 \t 0.78332456 \t 85.89413574 \t 0.79732187 \t 250.80849 \t 502.96719193\n",
      "216001 \t 52.99710192 \t 0.78334751 \t 85.87106026 \t 0.79744183 \t 250.61037 \t 502.79169703\n",
      "217001 \t 53.00432898 \t 0.78331163 \t 85.83481491 \t 0.79761351 \t 250.42297 \t 503.77060676\n",
      "218001 \t 53.01100865 \t 0.78328388 \t 85.81194267 \t 0.7977161 \t 250.22728 \t 502.68264842\n",
      "219001 \t 53.0189052 \t 0.7831425 \t 85.78862022 \t 0.79783124 \t 250.02934 \t 501.79356813\n",
      "220001 \t 53.00105718 \t 0.78328795 \t 85.74995941 \t 0.79798674 \t 249.83136 \t 500.28214407\n",
      "221001 \t 52.98616487 \t 0.78338899 \t 85.70469101 \t 0.79817726 \t 249.64322 \t 497.71058989\n",
      "222001 \t 52.98121683 \t 0.78344247 \t 85.67463341 \t 0.79829338 \t 249.44183 \t 503.15238953\n",
      "223001 \t 52.97628657 \t 0.78347172 \t 85.63445915 \t 0.79845353 \t 249.26419 \t 503.94471884\n",
      "224001 \t 52.96542713 \t 0.78356109 \t 85.59401161 \t 0.79859301 \t 249.08362 \t 504.45221829\n",
      "225001 \t 52.95649646 \t 0.78365857 \t 85.57324661 \t 0.7987007 \t 248.89142 \t 503.40373278\n",
      "226001 \t 52.94695983 \t 0.78376924 \t 85.54478951 \t 0.79887757 \t 248.70671 \t 503.0568881\n",
      "227001 \t 52.9509199 \t 0.78369739 \t 85.5243232 \t 0.79903535 \t 248.5224 \t 504.02385664\n",
      "228001 \t 52.94376631 \t 0.78372586 \t 85.48346367 \t 0.79922887 \t 248.34929 \t 504.05358267\n",
      "229001 \t 52.93939613 \t 0.78365509 \t 85.4521611 \t 0.7993497 \t 248.16602 \t 504.1516335\n",
      "230001 \t 52.9341159 \t 0.78370469 \t 85.43814331 \t 0.79943566 \t 247.97612 \t 503.62921262\n",
      "231001 \t 52.93379525 \t 0.78372932 \t 85.40924973 \t 0.79950442 \t 247.79068 \t 502.55422449\n",
      "232001 \t 52.94375016 \t 0.78367546 \t 85.37822815 \t 0.79966404 \t 247.61295 \t 502.49894023\n",
      "233001 \t 52.92210932 \t 0.78386043 \t 85.32441292 \t 0.79983938 \t 247.44376 \t 502.41805196\n",
      "234001 \t 52.89367075 \t 0.78399161 \t 85.2753186 \t 0.80002269 \t 247.2746 \t 503.66568804\n",
      "235001 \t 52.90319295 \t 0.78383742 \t 85.25583168 \t 0.80016924 \t 247.09085 \t 502.52595782\n",
      "236001 \t 52.90184596 \t 0.7838172 \t 85.2285347 \t 0.800357 \t 246.91624 \t 503.72203374\n",
      "237001 \t 52.89670599 \t 0.78383729 \t 85.19243179 \t 0.80050211 \t 246.73215 \t 503.79539227\n",
      "238001 \t 52.88816526 \t 0.78396566 \t 85.15211525 \t 0.8006968 \t 246.56595 \t 503.19044352\n",
      "239001 \t 52.89503991 \t 0.78386236 \t 85.14349525 \t 0.80074862 \t 246.38142 \t 502.77501059\n",
      "240001 \t 52.90301782 \t 0.78382013 \t 85.13929817 \t 0.80082886 \t 246.21259 \t 502.73822308\n",
      "241001 \t 52.90701445 \t 0.78375455 \t 85.1297892 \t 0.80092483 \t 246.05084 \t 503.09993219\n",
      "242001 \t 52.90624763 \t 0.78372586 \t 85.09641106 \t 0.801013 \t 245.88652 \t 502.79801965\n",
      "243001 \t 52.89068707 \t 0.78387886 \t 85.0419442 \t 0.80122765 \t 245.7224 \t 501.53161907\n",
      "244001 \t 52.88910616 \t 0.78390676 \t 85.01874733 \t 0.80135869 \t 245.55066 \t 503.60248327\n",
      "245001 \t 52.88724675 \t 0.78385331 \t 84.99977951 \t 0.80145754 \t 245.38235 \t 503.79174471\n",
      "246001 \t 52.86941778 \t 0.78396851 \t 84.96175072 \t 0.80159819 \t 245.21808 \t 502.45291209\n",
      "247001 \t 52.8601356 \t 0.78404635 \t 84.92213326 \t 0.80176447 \t 245.05792 \t 503.39744067\n",
      "248001 \t 52.86117915 \t 0.7839439 \t 84.91918137 \t 0.80180886 \t 244.90138 \t 503.97636366\n",
      "249001 \t 52.87073341 \t 0.78383961 \t 84.90915192 \t 0.80188397 \t 244.74573 \t 503.36052823\n",
      "250001 \t 52.87145051 \t 0.78380373 \t 84.89345772 \t 0.80194116 \t 244.58482 \t 503.53719401\n",
      "251001 \t 52.86682554 \t 0.78383304 \t 84.85589172 \t 0.80203932 \t 244.42847 \t 502.97281575\n",
      "252001 \t 52.86261609 \t 0.78387846 \t 84.81562859 \t 0.80218244 \t 244.27591 \t 503.42640924\n",
      "253001 \t 52.85993626 \t 0.78397694 \t 84.79902245 \t 0.80226573 \t 244.10751 \t 502.51159239\n",
      "254001 \t 52.8465335 \t 0.78417151 \t 84.76569931 \t 0.80238074 \t 243.94073 \t 503.70777678\n",
      "255001 \t 52.83909623 \t 0.7842793 \t 84.73397903 \t 0.80251134 \t 243.7841 \t 504.01508856\n",
      "256001 \t 52.84136898 \t 0.78432041 \t 84.72601753 \t 0.80262139 \t 243.626 \t 504.64049077\n",
      "257001 \t 52.83346439 \t 0.78441402 \t 84.68458328 \t 0.80274239 \t 243.47906 \t 502.69880915\n",
      "258001 \t 52.82762491 \t 0.78447433 \t 84.64675903 \t 0.80288528 \t 243.33609 \t 502.75730968\n",
      "259001 \t 52.81961304 \t 0.78455154 \t 84.60853722 \t 0.80301833 \t 243.17914 \t 503.25511146\n",
      "260001 \t 52.81810222 \t 0.78453138 \t 84.57850426 \t 0.80312402 \t 243.02661 \t 504.25122285\n",
      "261001 \t 52.80511277 \t 0.78462966 \t 84.54417435 \t 0.80326446 \t 242.89 \t 502.8428247\n",
      "262001 \t 52.7903205 \t 0.78472766 \t 84.51524223 \t 0.80339914 \t 242.74028 \t 503.8602047\n",
      "263001 \t 52.7835801 \t 0.78480695 \t 84.47430801 \t 0.80355423 \t 242.59999 \t 504.22823787\n",
      "264001 \t 52.78609014 \t 0.78482702 \t 84.45617432 \t 0.80370132 \t 242.4637 \t 503.43563247\n",
      "265001 \t 52.78564858 \t 0.78471759 \t 84.42544586 \t 0.80384098 \t 242.32213 \t 503.85877204\n",
      "266001 \t 52.78058987 \t 0.78468979 \t 84.39748756 \t 0.80395345 \t 242.17552 \t 504.23115921\n",
      "267001 \t 52.77043877 \t 0.78468889 \t 84.37556885 \t 0.80403945 \t 242.04327 \t 502.82557631\n",
      "268001 \t 52.76483139 \t 0.78461529 \t 84.34207573 \t 0.80415491 \t 241.89328 \t 503.13849735\n",
      "269001 \t 52.77548778 \t 0.7844887 \t 84.31493683 \t 0.80431973 \t 241.7629 \t 502.3970747\n",
      "270001 \t 52.76437016 \t 0.78460517 \t 84.28946098 \t 0.80443612 \t 241.62538 \t 503.12718391\n",
      "271001 \t 52.76426815 \t 0.784608 \t 84.27455391 \t 0.8045526 \t 241.49023 \t 502.72677517\n",
      "272001 \t 52.76059237 \t 0.78467406 \t 84.25310188 \t 0.80472764 \t 241.35066 \t 503.21436691\n",
      "273001 \t 52.75601283 \t 0.78474897 \t 84.23541649 \t 0.80485798 \t 241.21007 \t 504.66273522\n",
      "274001 \t 52.75870579 \t 0.78475034 \t 84.22085709 \t 0.80488445 \t 241.06537 \t 513.00211263\n",
      "275001 \t 52.76414932 \t 0.78470489 \t 84.19223877 \t 0.80498498 \t 240.93442 \t 518.95845008\n",
      "276001 \t 52.76676147 \t 0.78473783 \t 84.16796104 \t 0.80510096 \t 240.80045 \t 517.7324779\n",
      "277001 \t 52.76314877 \t 0.78483151 \t 84.14696533 \t 0.80519143 \t 240.67801 \t 517.31410146\n",
      "278001 \t 52.75987692 \t 0.78489194 \t 84.12651367 \t 0.80531219 \t 240.54341 \t 516.82534838\n",
      "279001 \t 52.76384842 \t 0.78486519 \t 84.1080159 \t 0.80546255 \t 240.41428 \t 518.6573441\n",
      "280001 \t 52.75800867 \t 0.78487936 \t 84.08531013 \t 0.80553644 \t 240.28159 \t 517.66800618\n",
      "281001 \t 52.77554526 \t 0.78476691 \t 84.0927993 \t 0.80555558 \t 240.1524 \t 517.23153663\n",
      "282001 \t 52.77277369 \t 0.78471919 \t 84.0624897 \t 0.80559642 \t 240.01431 \t 517.20434642\n"
     ]
    },
    {
     "name": "stdout",
     "output_type": "stream",
     "text": [
      "283001 \t 52.76508385 \t 0.78480545 \t 84.02409714 \t 0.80573793 \t 239.88635 \t 517.70200038\n",
      "284001 \t 52.77173441 \t 0.78470386 \t 84.00095459 \t 0.80578523 \t 239.76695 \t 517.01409245\n",
      "285001 \t 52.77222985 \t 0.78467156 \t 83.97292145 \t 0.80589826 \t 239.63333 \t 516.54485369\n",
      "286001 \t 52.7658812 \t 0.78469038 \t 83.94851517 \t 0.80597753 \t 239.49963 \t 516.74999094\n",
      "287001 \t 52.75530361 \t 0.78474435 \t 83.92104607 \t 0.80608263 \t 239.38431 \t 518.39199495\n",
      "288001 \t 52.75384186 \t 0.78467057 \t 83.89684265 \t 0.80621299 \t 239.26021 \t 517.57649684\n",
      "289001 \t 52.75039518 \t 0.78469239 \t 83.87277351 \t 0.80633557 \t 239.13881 \t 516.32862425\n",
      "290001 \t 52.76936958 \t 0.78449942 \t 83.87452316 \t 0.80637124 \t 239.0116 \t 517.8482511\n",
      "291001 \t 52.76453977 \t 0.78451509 \t 83.85195282 \t 0.80644731 \t 238.88866 \t 516.16029739\n",
      "292001 \t 52.76675048 \t 0.78446919 \t 83.83403214 \t 0.80650854 \t 238.75964 \t 517.26474071\n",
      "293001 \t 52.76254913 \t 0.78451657 \t 83.80745934 \t 0.80664357 \t 238.6329 \t 517.75985599\n",
      "294001 \t 52.75805392 \t 0.78459719 \t 83.78357635 \t 0.80671244 \t 238.51482 \t 517.81100202\n",
      "295001 \t 52.74316425 \t 0.7847733 \t 83.76513786 \t 0.80677578 \t 238.39865 \t 518.28785729\n",
      "296001 \t 52.73811443 \t 0.78487489 \t 83.75351669 \t 0.8069257 \t 238.27989 \t 518.47544265\n",
      "297001 \t 52.71930562 \t 0.78516534 \t 83.72864449 \t 0.80710098 \t 238.16881 \t 521.14677095\n",
      "298001 \t 52.71527153 \t 0.78523176 \t 83.70891495 \t 0.80719793 \t 238.04819 \t 521.83862424\n",
      "299001 \t 52.71558753 \t 0.78522185 \t 83.69635284 \t 0.80725064 \t 237.92505 \t 520.78504205\n",
      "\n",
      "TRAINING DONE\n"
     ]
    }
   ],
   "source": [
    "with tf.Session(graph=graph) as session:\n",
    "    tf.global_variables_initializer().run()\n",
    "    print(\"Initialized\")\n",
    "    ptime = time.time()\n",
    "    tfconfig = tf.ConfigProto()\n",
    "    tfconfig.gpu_options.allow_growth=gpu_memory_growth\n",
    "    init_op = tf.global_variables_initializer()    \n",
    "    sess = tf.Session(config=tfconfig)\n",
    "    sess.run(init_op)\n",
    "    print ('iter\\t test_squ_loss\\t test_avg_prec\\t',\n",
    "           'train_squ_loss\\t train_avg_prec\\t regularization\\t time (in s)')\n",
    "    for step in range(num_steps):\n",
    "        #print('Step',step)\n",
    "        #print('There are {} samples in the test set'.format(len(model_stats.test_ids)))\n",
    "        #print('There are {} samples in the train set'.format(len(model_stats.train_ids)))\n",
    "       \n",
    "        xmb, ymb = get_training_batch(model_stats, batch_size, window, \n",
    "                                      pitch_transforms, jitter)\n",
    "        \n",
    "        # every 1000-nd step save the results           \n",
    "        if step%control_step==0:\n",
    "            # training step \n",
    "            # to check output the loss (save the loss but you cannot compare it with the mse_train)\n",
    "            _, np_loss, np_global_step, np_lr, reg_np = \\\n",
    "            sess.run([training_op, loss, global_step, lr, reg], \n",
    "                                     feed_dict={xb: xmb, yb: ymb})\n",
    "            \n",
    "            # A) run model on test set\n",
    "                        \n",
    "            # 1. get the test set\n",
    "            X,Y = get_test_sample(model_stats.test_ids, window, 1000)\n",
    "            Y = Y[:,base_note:base_note+mm] # in general without effect\n",
    "            # shape Xtest: (1000*len(test_ids), 1, 16384, 1)\n",
    "            # shape Ytest: (1000*len(test_ids), 128)\n",
    "            # extended test-set: 11 samples\n",
    "\n",
    "            \n",
    "            # 2. prediction of output and calculation of\n",
    "            # - MSE\n",
    "            # - average precision\n",
    "            Y_p, mse_test = predict_direct_model(sess, X, Y)\n",
    "            avp_test = average_precision_score(Y.flatten(), Y_p.flatten())\n",
    "            del X,Y,Y_p\n",
    "            \n",
    "            # B) run model on training set\n",
    "            \n",
    "            # 1. get training sample\n",
    "            X,Y = get_training_sample(window)\n",
    "            Y = Y[:,base_note:base_note+mm] # in general without effect\n",
    "            # shape Xtrain: (15000, 1, 16384, 1)\n",
    "            # shape Ytrain: (15000, 128)\n",
    "            \n",
    "            # 2. prediction of output and calculation of\n",
    "            # - MSE\n",
    "            # - average precision\n",
    "            Y_p, mse_train = predict_direct_model(sess, X, Y)\n",
    "            avp_train = average_precision_score(Y.flatten(), Y_p.flatten())\n",
    "            \n",
    "            del X,Y,Y_p\n",
    "            \n",
    "            # c) Print the temporary results\n",
    "            print (np_global_step,'\\t', round(mse_test,8),\n",
    "                    '\\t', round(avp_test,8),\n",
    "                    '\\t', round(mse_train,8),\n",
    "                    '\\t', round(avp_train,8),\n",
    "                    '\\t', round(reg_np,8),\n",
    "                    '\\t', round(time.time() - ptime,8))\n",
    "            \n",
    "            #D) Save the temporary results\n",
    "            model_stats.stats['iter'][2].append(np_global_step)\n",
    "            # protocol learning rate\n",
    "            model_stats.stats['lr'][2].append(np_lr)\n",
    "            # protocol runtime\n",
    "            model_stats.stats['time'][2].append(time.time() - ptime)\n",
    "            # protocol weights and its norms\n",
    "            weight_norms = dict()\n",
    "            for name, w in model_stats.weights.items():\n",
    "                weight_norms[name] = np.mean(np.linalg.norm(w.eval(session=sess),axis=0))\n",
    "            for name, norm in weight_norms.items():\n",
    "                model_stats.stats['n'+name][2].append(norm)\n",
    "            # protocol training errors     \n",
    "            track = []\n",
    "            model_stats.stats['mse_train_1'][2].append(np_loss)\n",
    "            model_stats.stats['mse_train'][2].append(mse_train)\n",
    "            track += [tf.summary.scalar('mse_train', mse_train)]\n",
    "            model_stats.stats['avp_train'][2].append(avp_train)\n",
    "            track += [tf.summary.scalar('avp_train', avp_train)]\n",
    "            # protocol test errors\n",
    "            model_stats.stats['mse_test'][2].append(mse_test)\n",
    "            track += [tf.summary.scalar('mse_test', mse_test)]\n",
    "            model_stats.stats['avp_test'][2].append(avp_test)\n",
    "            track += [tf.summary.scalar('avp_test', avp_test)]\n",
    "            ptime = time.time()\n",
    "            \n",
    "                   \n",
    "        else:\n",
    "            #training step \n",
    "            sess.run([training_op], feed_dict={xb: xmb, yb: ymb})\n",
    "        \n",
    "        if step/num_steps==0.5 or (step+1)/num_steps==1:\n",
    "            saver.save(sess, 'models/'+notebook_reference+'model', global_step=step)            \n",
    "        \n",
    "    print ('\\nTRAINING DONE')"
   ]
  },
  {
   "cell_type": "code",
   "execution_count": null,
   "metadata": {},
   "outputs": [],
   "source": []
  },
  {
   "cell_type": "code",
   "execution_count": null,
   "metadata": {},
   "outputs": [],
   "source": [
    "   "
   ]
  },
  {
   "cell_type": "markdown",
   "metadata": {},
   "source": [
    "### 7. Post Processing\n",
    "\n",
    "Define functions to save the model_results diccionary to a file and load it."
   ]
  },
  {
   "cell_type": "code",
   "execution_count": 25,
   "metadata": {},
   "outputs": [],
   "source": [
    "# in case diccionary should be printed\n",
    "def print_dict(dictionary):\n",
    "    for key, value in  dictionary.items():\n",
    "        print (key)\n",
    "        print (value)\n",
    "#print_dict(model_stats.stats)\n",
    "    \n",
    "#save diccionary\n",
    "def save_obj(obj, name ):\n",
    "    with open(name + '.pkl', 'wb') as f:\n",
    "        pickle.dump(obj, f, pickle.HIGHEST_PROTOCOL)\n",
    "\n",
    "# load diccionary\n",
    "def load_obj(name ):\n",
    "    with open(name + '.pkl', 'rb') as f:\n",
    "        return pickle.load(f)\n"
   ]
  },
  {
   "cell_type": "markdown",
   "metadata": {},
   "source": [
    "#### 7.1 Plots"
   ]
  },
  {
   "cell_type": "code",
   "execution_count": 29,
   "metadata": {},
   "outputs": [],
   "source": [
    "# save diccionary to have a look at outputs at other times\n",
    "#save_obj(model_stats.stats, 'results/'+notebook_reference+'_stats')"
   ]
  },
  {
   "cell_type": "code",
   "execution_count": 29,
   "metadata": {},
   "outputs": [],
   "source": [
    "results_stats = load_obj('results/'+notebook_reference+'_stats')\n",
    "\n",
    "# size of plots\n",
    "width = 20\n",
    "height = 13\n",
    "fontsize = 24\n",
    "control_step = 300000"
   ]
  },
  {
   "cell_type": "code",
   "execution_count": 31,
   "metadata": {},
   "outputs": [
    {
     "data": {
      "text/plain": [
       "Text(0.5, 0, 'Iteration')"
      ]
     },
     "execution_count": 31,
     "metadata": {},
     "output_type": "execute_result"
    },
    {
     "data": {
      "image/png": "[encoded data removed]",
      "text/plain": [
       "<Figure size 1440x936 with 2 Axes>"
      ]
     },
     "metadata": {
      "needs_background": "light"
     },
     "output_type": "display_data"
    }
   ],
   "source": [
    "iters_res = results_stats['iter'][2]\n",
    "time_res = results_stats['time'][2]\n",
    "lr_res = results_stats['lr'][2]\n",
    "\n",
    "plt.figure(figsize=(width, height))\n",
    "\n",
    "plt.rcParams['xtick.labelsize']=fontsize\n",
    "plt.rcParams['ytick.labelsize']=fontsize\n",
    "\n",
    "#plot time needed for 'control_step' steps\n",
    "plt.subplot(2, 1, 1)\n",
    "plt.title('Runtime and Learning Rate',fontsize=fontsize)\n",
    "plt.plot(iters_res[1:], time_res[1:], c=\"darkblue\")\n",
    "plt.ylabel('Runtime of last '+str(control_step)+' steps (sec)',fontsize=fontsize)\n",
    "plt.ylim( (0.9*np.min(time_res[1:]), 1.1*np.max(time_res[1:])))\n",
    "\n",
    "plt.subplot(2, 1, 2)\n",
    "plt.plot(iters_res[1:], lr_res[1:], c=\"darkblue\")\n",
    "plt.ylabel('Learning rate',fontsize=fontsize)\n",
    "plt.xlabel('Iteration',fontsize=fontsize)\n",
    "\n",
    "#plt.savefig('results/plots/'+notebook_reference+'_runtime_lr.png')"
   ]
  },
  {
   "cell_type": "code",
   "execution_count": 32,
   "metadata": {},
   "outputs": [
    {
     "data": {
      "text/plain": [
       "Text(0.5, 0, 'Iteration')"
      ]
     },
     "execution_count": 32,
     "metadata": {},
     "output_type": "execute_result"
    },
    {
     "data": {
      "image/png": "[encoded data removed]",
      "text/plain": [
       "<Figure size 1440x936 with 2 Axes>"
      ]
     },
     "metadata": {
      "needs_background": "light"
     },
     "output_type": "display_data"
    }
   ],
   "source": [
    "mse_train_res = results_stats['mse_train'][2]\n",
    "mse_test_res = results_stats['mse_test'][2]\n",
    "\n",
    "avp_train_res = results_stats['avp_train'][2]\n",
    "avp_test_res = results_stats['avp_test'][2]\n",
    "\n",
    "plt.figure(figsize=(width, height))\n",
    "\n",
    "#plot mean squared error\n",
    "plt.subplot(2, 1, 1)\n",
    "plt.title('Error and Precision')\n",
    "plt.plot(iters_res, mse_train_res, label='Training', c=\"c\")\n",
    "plt.plot(iters_res, mse_test_res, label='Test', c=\"darkblue\")\n",
    "plt.legend()\n",
    "plt.ylabel('Mean Square Error')\n",
    "\n",
    "#plot average precision\n",
    "plt.subplot(2, 1, 2)\n",
    "plt.plot(iters_res, avp_train_res, label='Training', c=\"c\")\n",
    "plt.plot(iters_res, avp_test_res, label='Test', c=\"darkblue\")\n",
    "plt.legend()\n",
    "plt.ylabel('Average Precision')\n",
    "plt.xlabel('Iteration')\n",
    "\n",
    "#plt.savefig('results/plots/'+notebook_reference+'_error_prec.png')"
   ]
  },
  {
   "cell_type": "code",
   "execution_count": 33,
   "metadata": {},
   "outputs": [
    {
     "data": {
      "image/png": "[encoded data removed]",
      "text/plain": [
       "<Figure size 1440x936 with 2 Axes>"
      ]
     },
     "metadata": {
      "needs_background": "light"
     },
     "output_type": "display_data"
    }
   ],
   "source": [
    "nw = results_stats['nw'][2]\n",
    "nw2 = results_stats['nw2'][2]\n",
    "nbeta = results_stats['nbeta'][2]\n",
    "\n",
    "#navg_w = results_stats['navg_w'][2]\n",
    "#navg_w2 = results_stats['navg_w2'][2]\n",
    "#navg_beta = results_stats['navg_beta'][2]\n",
    "\n",
    "plt.figure(figsize=(width, height))\n",
    "\n",
    "plt.subplot(2, 1, 1)\n",
    "#plt.title('Norm of the Weights of Hidden and Output Layer',fontsize=fontsize)\n",
    "plt.plot(iters_res, nw, label='2nd layer', c=\"darkblue\")\n",
    "plt.plot(iters_res, nw2, label='3rd layer', c=\"c\")\n",
    "\n",
    "plt.legend(fontsize=fontsize)\n",
    "plt.ylabel('l2-Norm',fontsize=fontsize)\n",
    "\n",
    "plt.subplot(2, 1, 2)\n",
    "#plt.plot(iters_res, navg_w, label='2nd layer')\n",
    "#plt.plot(iters_res, navg_w2, label='3rd layer')\n",
    "#plt.plot(iters_res, navg_beta, label='Output layer')\n",
    "plt.plot(iters_res, nbeta, label='Output layer', c=\"darkblue\")\n",
    "plt.legend(fontsize=fontsize)\n",
    "plt.ylabel('l2-Norm',fontsize=fontsize)\n",
    "plt.xlabel('Iteration',fontsize=fontsize)\n",
    "\n",
    "plt.savefig('results/plots/'+notebook_reference+'_weight_norms.png')"
   ]
  },
  {
   "cell_type": "code",
   "execution_count": null,
   "metadata": {},
   "outputs": [],
   "source": []
  },
  {
   "cell_type": "markdown",
   "metadata": {},
   "source": [
    "#### 7.2 Mirex Statistics\n",
    "\n",
    "Statistics that are necesarry for evaluation. The autuor used a threshold of 0.4 for calculation of error etc..."
   ]
  },
  {
   "cell_type": "code",
   "execution_count": 36,
   "metadata": {},
   "outputs": [],
   "source": [
    "def mirex_statistics(Y, Y_p, threshold=.5, base_note=0, mm=128):\n",
    "    \n",
    "    avp = average_precision_score(Y.flatten(), Y_p.flatten())\n",
    "\n",
    "    # we want zeros and ones\n",
    "    Yhat_p = Y_p>threshold\n",
    "    \n",
    "    # obtain frequencies\n",
    "    Yp_list = []\n",
    "    Y_list = []\n",
    "    \n",
    "    # for every sample\n",
    "    for i in range(len(Yhat_p)):\n",
    "        fhat = []\n",
    "        f = []\n",
    "        \n",
    "        for note in range(mm):\n",
    "            if Yhat_p[i][note] == 1:\n",
    "                fhat.append(440.*2**(((note+base_note) - 69.)/12.))\n",
    "            if Y[i][note] == 1:\n",
    "                f.append(440.*2**(((note+base_note) - 69.)/12.))\n",
    "\n",
    "        Yp_list.append(np.array(fhat))\n",
    "        Y_list.append(np.array(f))\n",
    "\n",
    "    # Precision, Recall, Accuracy, Substitution, Miss, False Alarm, and Total Error scores \n",
    "    # based both on raw frequency values and values mapped to a single octave (chroma)\n",
    "    \n",
    "    P,R,Acc,Esub,Emiss,Efa,Etot,cP,cR,cAcc,cEsub,cEmiss,cEfa,cEtot = \\\n",
    "    mir_eval.multipitch.metrics(np.arange(len(Y_list))/100., Y_list,\n",
    "                                np.arange(len(Yp_list))/100., Yp_list)\n",
    "\n",
    "\n",
    "    print('{:.2f}\\t{:.3f}\\t{:.3f}\\t{:.3f}\\t{:.3f}\\t{:.3f}\\t{:.3f}\\t{:.3f}\\t{:.3f}'.format(\n",
    "        threshold,100*avp,100*P,100*R,Acc,Etot,Esub,Emiss,Efa))\n",
    "\n",
    "    return avp,P,R,Acc,Etot"
   ]
  },
  {
   "cell_type": "markdown",
   "metadata": {},
   "source": [
    "Restore the model results"
   ]
  },
  {
   "cell_type": "code",
   "execution_count": 45,
   "metadata": {},
   "outputs": [
    {
     "name": "stdout",
     "output_type": "stream",
     "text": [
      "INFO:tensorflow:Restoring parameters from models_190311/190311model-299999\n",
      "Model restored.\n"
     ]
    }
   ],
   "source": [
    "tf.reset_default_graph()\n",
    "\n",
    "num_steps = 300000\n",
    "\n",
    "# Add ops to save and restore all the variables.\n",
    "saver = tf.train.Saver({'wavg': wavg, 'w2avg': w2avg, 'betaavg': betaavg})\n",
    "\n",
    "# Later, launch the model, use the saver to restore variables from disk, and\n",
    "# do some work with the model.\n",
    "with tf.Session(graph=graph) as sess:\n",
    "    # Restore variables from disk.\n",
    "    saver.restore(sess, 'models_'+notebook_reference+'/'+notebook_reference+'model-'+str(num_steps-1))\n",
    "    print(\"Model restored.\")\n",
    "    # Check the values of the variables\n",
    "\n",
    "    # A) run model on test set\n",
    "\n",
    "    # 1. get the test set\n",
    "    X, Y = get_test_sample(model_stats.test_ids, window, 1000)\n",
    "    Y = Y[:,base_note:base_note+mm] # in general without effect\n",
    "    # shape Xtest: (1000*len(test_ids), 1, 16384, 1)\n",
    "    # shape Ytest: (1000*len(test_ids), 128)\n",
    "    # extended test-set: 11 samples\n",
    "\n",
    "\n",
    "    # 2. prediction of output and calculation of\n",
    "    # - MSE\n",
    "    # - average precision\n",
    "    Y_p, mse_test = predict_direct_model(sess, X, Y)\n"
   ]
  },
  {
   "cell_type": "markdown",
   "metadata": {},
   "source": [
    "With the output of the test sample predicted calculate the mirex statistics:\n",
    "\n",
    "Average Precision (not from mireval), Precision, Recall, Accuracy, Total Error, Substitution, Miss, False Alarm"
   ]
  },
  {
   "cell_type": "code",
   "execution_count": 42,
   "metadata": {},
   "outputs": [
    {
     "name": "stdout",
     "output_type": "stream",
     "text": [
      "Thr\tAvgP\tP\tR\tAcc\tETot\tESub\tEmiss\tEfa\n",
      "0.30\t78.518\t66.382\t82.497\t0.582\t0.493\t0.099\t0.076\t0.318\n",
      "0.35\t78.518\t70.256\t78.851\t0.591\t0.445\t0.100\t0.111\t0.234\n",
      "0.40\t78.518\t73.545\t74.698\t0.589\t0.424\t0.098\t0.155\t0.171\n",
      "0.45\t78.518\t76.537\t70.100\t0.577\t0.423\t0.091\t0.208\t0.124\n",
      "0.50\t78.518\t79.279\t65.099\t0.556\t0.437\t0.082\t0.267\t0.088\n"
     ]
    }
   ],
   "source": [
    "print('Thr\\tAvgP\\tP\\tR\\tAcc\\tETot\\tESub\\tEmiss\\tEfa')\n",
    "for th in [.3, .35,.4, .45, .5]:\n",
    "    #print(\"When using threshold\",th)\n",
    "    avp,P,R,Acc,Etot = mirex_statistics(Y, Y_p, th)"
   ]
  },
  {
   "cell_type": "code",
   "execution_count": null,
   "metadata": {},
   "outputs": [],
   "source": []
  }
 ],
 "metadata": {
  "kernelspec": {
   "display_name": "Python 3",
   "language": "python",
   "name": "python3"
  },
  "language_info": {
   "codemirror_mode": {
    "name": "ipython",
    "version": 3
   },
   "file_extension": ".py",
   "mimetype": "text/x-python",
   "name": "python",
   "nbconvert_exporter": "python",
   "pygments_lexer": "ipython3",
   "version": "3.6.6"
  }
 },
 "nbformat": 4,
 "nbformat_minor": 2
}
