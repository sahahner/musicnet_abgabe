{
 "cells": [
  {
   "cell_type": "markdown",
   "metadata": {},
   "source": [
    "## Version SIGMOID-NOREG: \n",
    "- 44,100 Hz sample rate \n",
    "- NO regularization\n",
    "- 300,000 iterations\n",
    "- 0.95 learning rate decay\n",
    "- sigmoid output function\n",
    "- add a BIAS to output layer\n",
    "- learning rete 0.005\n",
    "\n"
   ]
  },
  {
   "cell_type": "markdown",
   "metadata": {},
   "source": [
    "### 0. Import the packages"
   ]
  },
  {
   "cell_type": "code",
   "execution_count": 75,
   "metadata": {},
   "outputs": [],
   "source": [
    "import os,sys,shutil,mmap\n",
    "import pickle as pickle\n",
    "import numpy as np                                       # fast vectors and matrices\n",
    "import matplotlib.pyplot as plt                          # plotting\n",
    "from scipy.fftpack import fft\n",
    "\n",
    "import time\n",
    "\n",
    "sys.path.insert(0,'lib/')\n",
    "import config\n",
    "\n",
    "from sklearn.metrics import average_precision_score\n",
    "\n",
    "import tensorflow as tf\n",
    "\n",
    "import mir_eval\n",
    "\n",
    "%matplotlib inline\n",
    "\n",
    "notebook_reference = str(190314)"
   ]
  },
  {
   "cell_type": "code",
   "execution_count": 2,
   "metadata": {},
   "outputs": [],
   "source": [
    "debugging = False\n",
    "delete_ids = [2560, 1792, 2562, 2506, 2564, 2566, 1793, 2568, 2570, 2571, 2572, 2573, 2575, 2576, 2302, 2581, 2582, \n",
    "              2586, 2075, 2076, 2077, 2590, 2079, 2080, 2081, 2594, 2595, 2596, 2603, 2678, 2397, 2608, 2611, 2614, \n",
    "              2104, 2105, 2619, 2620, 2621, 2622, 2112, 2113, 2114, 2627, 2116, 2629, 2118, 2119, 2632, 2633, 2127, \n",
    "              2131, 2138, 2319, 2140, 2405, 2659, 2148, 2149, 2150, 2151, 2154, 2155, 2156, 2157, 2158, 2159, 2160, \n",
    "              2161, 2677, 2166, 2167, 2168, 2169, 2239, 2325, 2177, 2178, 2179, 2180, 1729, 2186, 2242, 2194, 2195, \n",
    "              2196, 1829, 2198, 2200, 2201, 2202, 2203, 2204, 2330, 2207, 2208, 2209, 2210, 2211, 2212, 2213, 2214, \n",
    "              2215, 2588, 2218, 2219, 2220, 2221, 2222, 2224, 2225, 2227, 2228, 2229, 2230, 2231, 2232, 2234, 2591, \n",
    "              2237, 2238, 1727, 1728, 2241, 1730, 2243, 2244, 1733, 1734, 2593, 2248, 1739, 2240, 2082, 1742, 2083, \n",
    "              1749, 1750, 1751, 1752, 1755, 1756, 1757, 1758, 1760, 1763, 1764, 1765, 1766, 1768, 2282, 1771, 1772, \n",
    "              1773, 1775, 1776, 1777, 2292, 2293, 2294, 2295, 2296, 2297, 1919, 1788, 1789, 1790, 2304, 2305, 2307, \n",
    "              2308, 2310, 2313, 2314, 2315, 1805, 2318, 1807, 2320, 2322, 1811, 1812, 1813, 1817, 1818, 2334, 2335, \n",
    "              2336, 1828, 2341, 2342, 2343, 2567, 2345, 2346, 1835, 2348, 2350, 2491, 2357, 2358, 2359, 2364, 2365, \n",
    "              2366, 2368, 2371, 2372, 2373, 2374, 2529, 2376, 2377, 2379, 2443, 2381, 2383, 2384, 1873, 2388, 2389, \n",
    "              2390, 2391, 2392, 2393, 2618, 2398, 2403, 2404, 1893, 2406, 2410, 2411, 2415, 2417, 2147, 2451, 2420, \n",
    "              2422, 2423, 2424, 1916, 2538, 1918, 2431, 2432, 2433, 1922, 1923, 2436, 2441, 2442, 1931, 1932, 2626, \n",
    "              1735, 2285, 1859, 2247, 2117, 2288, 2466, 2444, 2289, 2472, 2473, 2476, 2477, 2478, 2480, 2481, 2482, \n",
    "              2483, 2462, 2486, 2487, 2488, 2490, 2463, 2492, 2494, 2555, 2497, 1822, 2501, 2502, 2504, 2505, 2078, 2507]"
   ]
  },
  {
   "cell_type": "markdown",
   "metadata": {},
   "source": [
    "### 1. Import the data\n",
    "Import the recording and labels of the 331 recordings from the data base.\n",
    "\n",
    "#### 1.1 Import the labels of the data set.\n",
    "The 331 labels are saved in a dictionary whose\n",
    "- keys are integers (the ids of the recordings)\n",
    "- values are intervaltrees (for the different intervals of the recording it gives the played notes between 1 and 128)"
   ]
  },
  {
   "cell_type": "code",
   "execution_count": 3,
   "metadata": {},
   "outputs": [],
   "source": [
    "with open(config.labels_path, 'rb') as f:\n",
    "    labels = pickle.load(f)"
   ]
  },
  {
   "cell_type": "code",
   "execution_count": 4,
   "metadata": {},
   "outputs": [
    {
     "name": "stdout",
     "output_type": "stream",
     "text": [
      "331 labels\n"
     ]
    }
   ],
   "source": [
    "print(len(labels), 'labels')"
   ]
  },
  {
   "cell_type": "code",
   "execution_count": 5,
   "metadata": {},
   "outputs": [
    {
     "name": "stdout",
     "output_type": "stream",
     "text": [
      "2239\n",
      "<class 'intervaltree.intervaltree.IntervalTree'>\n"
     ]
    }
   ],
   "source": [
    "for key, value in labels.items() :\n",
    "    if key == 2239:\n",
    "        # id of the recording\n",
    "        print (key)\n",
    "        # intervaltree containing for each note intervals in which it is played\n",
    "        print (type(value))"
   ]
  },
  {
   "cell_type": "markdown",
   "metadata": {},
   "source": [
    "#### 1.2 Import recordings\n",
    "\n",
    "Create a dictionary containing the data (recordings). Use Memory-mapped file objects.\n",
    "For each recording data[rec_id] is a tuple:\n",
    "1. data[rec_id][0] is the memory-mapped file object to the recording. It can be accesed by \n",
    "~~~~~~\n",
    "np.frombuffer(data[rec_id][0], dtype=np.float32).copy()\n",
    "~~~~~~\n",
    "2. data[rec_id][1] is its length (float)"
   ]
  },
  {
   "cell_type": "code",
   "execution_count": 6,
   "metadata": {},
   "outputs": [],
   "source": [
    "sz_float = 4"
   ]
  },
  {
   "cell_type": "code",
   "execution_count": 7,
   "metadata": {},
   "outputs": [],
   "source": [
    "data = dict()\n",
    "for record in os.listdir(config.records_path):\n",
    "    fd = os.open(config.records_path + record, os.O_RDONLY)\n",
    "    buff = mmap.mmap(fd, 0, mmap.MAP_SHARED, mmap.PROT_READ)\n",
    "    data[int(record[:-4])] = (buff, len(buff)/sz_float)\n",
    "    os.close(fd)"
   ]
  },
  {
   "cell_type": "code",
   "execution_count": 28,
   "metadata": {},
   "outputs": [
    {
     "name": "stdout",
     "output_type": "stream",
     "text": [
      "Key: 2494 , Format: <class 'int'>\n",
      "Value: (<mmap.mmap object at 0x7f11a245c228>, 13100544.0)\n",
      "1. Entry: Memory-mapped file objects , <mmap.mmap object at 0x7f11a24575d0>\n",
      "For example:\n",
      "[ 0.00036621  0.00039673  0.00036621  0.00036621  0.00033569  0.00033569\n",
      "  0.00036621  0.00036621  0.00036621  0.00033569  0.00036621  0.00039673]\n",
      "2. Entry: length of recording 5293440.0 , Type: <class 'float'>\n"
     ]
    }
   ],
   "source": [
    "for key, value in data.items() :\n",
    "    if key == 2494:\n",
    "        # id of the recording\n",
    "        print ('Key:',key,', Format:',type(key))\n",
    "        # its value is a tuple\n",
    "        print ('Value:',value)\n",
    "        # 1. value: reference to recording\n",
    "        print (\"1. Entry: Memory-mapped file objects ,\", data[2239][0])\n",
    "        # to access content use:\n",
    "        x = np.frombuffer(data[2239][0], dtype=np.float32).copy()\n",
    "        print('For example:')\n",
    "        print(x[3005:3017])\n",
    "        print (\"2. Entry: length of recording\",str(data[2239][1]),\", Type:\",type(data[2239][1]))\n",
    "        #print(len(x))"
   ]
  },
  {
   "cell_type": "markdown",
   "metadata": {},
   "source": [
    "#### 1.3 Split up in the test and train set"
   ]
  },
  {
   "cell_type": "code",
   "execution_count": 29,
   "metadata": {},
   "outputs": [
    {
     "name": "stdout",
     "output_type": "stream",
     "text": [
      "There are 11 samples in the test set\n",
      "There are 320 samples in the train set\n"
     ]
    }
   ],
   "source": [
    "extended_test_set = True\n",
    "use_mirex = True\n",
    "    \n",
    "# use the small or big test set\n",
    "if extended_test_set:\n",
    "    test_ids = config.test_ids_ext\n",
    "else:\n",
    "    test_ids = config.test_ids\n",
    "\n",
    "# include the mirex dev set in test results\n",
    "if use_mirex:\n",
    "    test_ids = test_ids + config.mirex_id\n",
    "\n",
    "train_ids = [rec_id for rec_id in labels.keys() if rec_id not in test_ids]\n",
    "\n",
    "if debugging == True:\n",
    "    train_ids = [rec_id for rec_id in train_ids if rec_id not in delete_ids]\n",
    "\n",
    "\n",
    "print('There are {} samples in the test set'.format(len(test_ids)))\n",
    "print('There are {} samples in the train set'.format(len(train_ids)))"
   ]
  },
  {
   "cell_type": "markdown",
   "metadata": {},
   "source": [
    "### 2. Preprocessing\n",
    "\n",
    "The input data (recordings) are normalized and the possible note range is defines to 128 notes. The lowest note is ..., the highest ... ."
   ]
  },
  {
   "cell_type": "code",
   "execution_count": 30,
   "metadata": {},
   "outputs": [],
   "source": [
    "# Normalize the recordings\n",
    "normalize = True\n",
    "# Possible notes are from range [base_note, base_note + m)\n",
    "base_note = 0\n",
    "mm = 128"
   ]
  },
  {
   "cell_type": "markdown",
   "metadata": {},
   "source": [
    "#### 2.1 Data augmentation\n",
    "\n",
    "Always make two small changes to input data by randomly stretching or shrinking our input audio that are not noticable by human hearing, but augment the data set:\n",
    "1. Pitch-shift in the frequency domain: Randomly  shifting  each data points in a minibatch by an integral number of semitones. This reinforces the architectural structure of the translation-invariant network.\n",
    "2. Jittering: continuous shift to each data point. This makes the models more robust to tuning variation between recordings --> regularization\n",
    "\n",
    "Define a function for extracting a sequence and its label as well as applying the data augmentation."
   ]
  },
  {
   "cell_type": "code",
   "execution_count": 31,
   "metadata": {},
   "outputs": [],
   "source": [
    "# pitching: stretching or shrinking our input audio with linear interpolation\n",
    "pitch_transforms=5 # =/- 5 semitones\n",
    "jitter=.1"
   ]
  },
  {
   "cell_type": "markdown",
   "metadata": {},
   "source": [
    "Pitch-shifting corresponds to a multiplication by $2^{1/12}$ (an octave is equal to 12 semitones and corresponds to a factor 2 in the frequency domain) for each semirone.\n",
    "\n",
    "A scaling factor in the frequency domain implies also a scaling factor in the time domain. (speeding up the recording $\\to$ higher frequency $\\to$ sounds higher.\n"
   ]
  },
  {
   "cell_type": "code",
   "execution_count": 32,
   "metadata": {},
   "outputs": [],
   "source": [
    "# function to obtain one data sample from recordings\n",
    "# input:\n",
    "# - rec_id: the id of the recording\n",
    "# - s: frame-number to extract\n",
    "# - window: windowsize\n",
    "# - pitchshift: shift the label by pitchshift halftones\n",
    "# - scaling_factor: scaling factor in frequency domain (includes corrections because of pitch shift and jitter)\n",
    "# - normalize: boolean\n",
    "# output\n",
    "# - x: audio segment of length window\n",
    "# - y: labels, 0-1-vector of length mm\n",
    "def get_data(rec_id,s,window,pitch_shift,scaling_factor, normalize=True):\n",
    "   \n",
    "    x = np.frombuffer(data[rec_id][0][s*sz_float:int(\n",
    "        s+scaling_factor*window)*sz_float], dtype=np.float32).copy()\n",
    "    \n",
    "    if normalize: \n",
    "        x /= np.linalg.norm(x) + config.epsilon\n",
    "\n",
    "    xp = np.arange(window,dtype=np.float32)\n",
    "    # interpolate the discrete function (np.arange(len(x)), x) at the points (scaling_factor*xp)\n",
    "    x = np.interp(scaling_factor*xp,np.arange(len(x),dtype=np.float32),x).astype(np.float32)\n",
    "    # real-valued audio frame with values in the range [−1,1], sampled at 44.1 kHz\n",
    "    # -> x has length window\n",
    "    \n",
    "    y = np.zeros(mm)\n",
    "    # select center of frame\n",
    "    for label in labels[rec_id][s+scaling_factor*window/2]:\n",
    "        y[label.data[1]+pitch_shift-base_note] = 1 # apply pitch shift here (in frequency domain)\n",
    "    \n",
    "    return x,y"
   ]
  },
  {
   "cell_type": "markdown",
   "metadata": {},
   "source": [
    "#### 2.1 Batch-selection\n",
    "Create the training batch applying the above explained methods for Data augmentation"
   ]
  },
  {
   "cell_type": "code",
   "execution_count": 33,
   "metadata": {},
   "outputs": [],
   "source": [
    "# function to create an input batch for one training step\n",
    "# input:\n",
    "# - model_stats: model_results-class containing training_ids\n",
    "# - batch_size (integer)\n",
    "# - window: window-length\n",
    "# - pitch_transforms: integer in [-5,5], number of maximum semitones shifted\n",
    "# - jitter: float in [-0.1,0.1], tuning variation\n",
    "# output:\n",
    "# - xmb: batch for a training step, size: (batch_size,1,window,1)\n",
    "# - ymb: corresponding labels to the batch xmb, size: (batch_size,1,mm)\n",
    "def get_training_batch(model_stats, batch_size, window, pitch_transforms=0, jitter=0):\n",
    "    # arrays for input data (batch)\n",
    "    xmbatch = np.empty([batch_size,1,window,1],dtype=np.float32)\n",
    "    ymbatch = np.empty([batch_size,1,mm],dtype=np.float32)\n",
    "        \n",
    "    # picking randomly batch_size recordings\n",
    "    rec_ids = [model_stats.train_ids[r] for r in \\\n",
    "               np.random.randint(0,len(model_stats.train_ids),batch_size)]\n",
    "        \n",
    "    if pitch_transforms > 0:\n",
    "        transform_type = np.random.randint(-pitch_transforms,\n",
    "                                           pitch_transforms,batch_size)\n",
    "\n",
    "    if jitter > 0:\n",
    "        jitter_amount = np.random.uniform(-jitter,jitter,batch_size)\n",
    "\n",
    "    for i in range(batch_size):\n",
    "        scaling_factor = 1\n",
    "        shift = 0\n",
    "        if pitch_transforms > 0:\n",
    "            shift = transform_type[i]\n",
    "            # half-step has a frequency ratio of 2^(1/12)\n",
    "            # (shift + jitter_amount) halfsteps are shifted\n",
    "            if jitter > 0:\n",
    "                scaling_factor = (2.**((shift+jitter_amount[i])/12.))\n",
    "            else:\n",
    "                # only shift the halftones from pitch_transform\n",
    "                scaling_factor = (2.**(shift/12.))\n",
    "        \n",
    "        # multiply in frequency domain by scaling_factor\n",
    "        \n",
    "        # pick a frame for training randomly\n",
    "        s = np.random.randint(0,data[rec_ids[i]][1]-scaling_factor*window)\n",
    "        xmbatch[i,0,:,0],ymbatch[i,0,:] = get_data(rec_ids[i],s,window,pitch_shift=shift,scaling_factor=scaling_factor)\n",
    "        \n",
    "    return xmbatch, ymbatch"
   ]
  },
  {
   "cell_type": "markdown",
   "metadata": {},
   "source": [
    "#### 2.3 Creation of Training and Test set for protocolling\n",
    "\n",
    "Routines that create sample for the protcoling:\n",
    "1. Routine to obtain the training samples from numpy-file.\n",
    "2. Routine to obtain test samples given the recording IDs of the test samples."
   ]
  },
  {
   "cell_type": "code",
   "execution_count": 34,
   "metadata": {},
   "outputs": [],
   "source": [
    "\n",
    "# function to obtain training sample which is already saved in \n",
    "# numpy fromat in file. only normalization is necessary.\n",
    "# input:\n",
    "# - d: window size (integer)\n",
    "# - normalize: boolean\n",
    "# output:\n",
    "# - Xtrain: training sample of size (15000, 1, d, 1)\n",
    "# - Ytrain: corresponding labels of size (15000, 128)\n",
    "def get_training_sample(d=16384, normalize=True):\n",
    "    cachex = config.tmp + 'Xtrain_ext{}.npy'.format(d)\n",
    "    cachey = config.tmp + 'Ytrain_ext{}.npy'.format(d)\n",
    "    #shape Xtrain: (15000, 1, 16384, 1)\n",
    "    #shape Ytrain: (15000, 128)\n",
    "    if os.path.exists(cachex) and os.path.exists(cachey):\n",
    "        Xtrain = np.load(cachex)\n",
    "        Ytrain = np.load(cachey)\n",
    "    else:\n",
    "        print(cachex)\n",
    "        print(cachey)\n",
    "        raise Exception('Unimplemented')\n",
    "\n",
    "    if normalize:\n",
    "        Xtrain = Xtrain.reshape(len(Xtrain),1,d,1)\n",
    "        for i in range(len(Xtrain)):\n",
    "            Xtrain[i] /= np.linalg.norm(Xtrain[i]) + config.epsilon\n",
    "\n",
    "    return Xtrain,Ytrain\n",
    "\n",
    "\n",
    "# function to obtain test sample using get_data(). every sample is split \n",
    "# up in count sequences.\n",
    "# input:\n",
    "# - rec_ids: ids of test samples\n",
    "# - window: size of the input frame\n",
    "# - count: number of sequences to be created for each sample\n",
    "# - fixed_stride: -1 (stride is adapted to sample) or nonnegative integer\n",
    "# - pitch_shift: value by which recording is stretched or shrinked\n",
    "# output:\n",
    "# - Xtest: test sample of size (count*len(rec_ids),1,window,1)\n",
    "# - Ytest: corresponding labels of size (count*len(rec_ids),mm)\n",
    "def get_test_sample(rec_ids, window, count, fixed_stride=-1, pitch_shift=0):\n",
    "    Xtest = np.zeros([count*len(rec_ids),1,window,1])\n",
    "    Ytest = np.zeros([count*len(rec_ids),mm])\n",
    "    offset = 44100\n",
    "    # calculate scaling factor\n",
    "    sf = 2.**(pitch_shift/12.)\n",
    "    # for every sample create 1000 sequences\n",
    "    for i in range(len(rec_ids)):\n",
    "        X = np.zeros([count,1,window,1])\n",
    "        Y = np.zeros([count,mm])\n",
    "        # calculate teh stride in case it is not fixed\n",
    "        stride = (data[rec_ids[i]][1]-offset-int(sf*window))/count if fixed_stride==-1 else fixed_stride\n",
    "        for j in range(count):\n",
    "            X[j,0,:,0],Y[j] = get_data(rec_ids[i],int(offset+j*stride),window,pitch_shift=int(round(pitch_shift)),scaling_factor=sf)\n",
    "        \n",
    "        Xtest[i*count:(i+1)*count] = X\n",
    "        Ytest[i*count:(i+1)*count] = Y\n",
    "    return Xtest, Ytest"
   ]
  },
  {
   "cell_type": "markdown",
   "metadata": {},
   "source": [
    "Save the results, losses, precicions and weights at each protocol point inside a class."
   ]
  },
  {
   "cell_type": "code",
   "execution_count": 48,
   "metadata": {},
   "outputs": [],
   "source": [
    "class model_results():\n",
    "    def __init__(self, test_ids, train_ids):\n",
    "        # weights\n",
    "        self.weights = dict()\n",
    "        # step\n",
    "        self.iter = 0\n",
    "        # result statistics\n",
    "        self.stats = dict()\n",
    "        self.stats['iter'] = [False,'{:<8}',[]]\n",
    "        # time that has passed since last record\n",
    "        self.stats['time'] = [True,'{:<8.0f}',[]]\n",
    "        self.stats['lr'] = [False,'{:<8.6f}',[]]\n",
    "        # mean squared errors\n",
    "        self.stats['mse_train_1'] = [True,'{:<16.6f}',[]]\n",
    "        self.stats['mse_train'] = [True,'{:<16.6f}',[]]\n",
    "        self.stats['mse_test'] = [True,'{:<16.6f}',[]]\n",
    "        # precicions\n",
    "        self.stats['avp_train'] = [True,'{:<16.6f}',[]]\n",
    "        self.stats['avp_test'] = [True,'{:<16.6f}',[]]\n",
    "        \n",
    "        self.averages = []\n",
    "        \n",
    "        self.test_ids = test_ids\n",
    "        self.train_ids = train_ids\n",
    "\n",
    "    # Register the weights inside the list w_list. \n",
    "    # The list name_list contains the corresponding names of the wariables in w_list\n",
    "    def register_weights(self, w_list, name_list):\n",
    "        if len(w_list) != len(name_list):\n",
    "            print(\"error: input lists need to have same length\")\n",
    "            \n",
    "        for ii in range(len(w_list)):\n",
    "            w = w_list[ii]\n",
    "            name = name_list[ii]\n",
    "            # register the norm of the weights\n",
    "            self.stats['n'+name] = [False,'{:<8.3f}',[]] \n",
    "            # register the weights\n",
    "            self.weights[name] = w\n",
    "            \n",
    "        return None\n",
    "        \n",
    "model_stats = model_results(test_ids, train_ids)\n"
   ]
  },
  {
   "cell_type": "markdown",
   "metadata": {},
   "source": [
    "### 4. Error measures\n",
    "Define the error measures for comparing the correct labeling Y with the extimated labeling Y_hat.\n",
    "Both labelings are of size (mm) for each segment. The errors are calculated at each protocol point for the training and the test set.\n",
    "1. Mean Squared Error: When applying the model to a sequence or sequences the mean squared error is calculated directly by applying the tensorflow function.\n",
    "~~~~~~~~~~~~~~~~~~~~~\n",
    "tf.reduce_mean(tf.nn.l2_loss( Y_hat - Y ))\n",
    "~~~~~~~~~~~~~~~~~~~~~\n",
    "2. Average Precision: The average precision is calculated with the metric function from the sklear package.\n",
    "~~~~~~~~~~~~~~~~~~~~~\n",
    "sklearn.metrics.average_precision_score\n",
    "~~~~~~~~~~~~~~~~~~~~~\n"
   ]
  },
  {
   "cell_type": "markdown",
   "metadata": {},
   "source": [
    "### 5. Define the graph\n",
    "\n",
    "Define batch size (batch_size segments at each training step). Also define a small factor wscale to scale the weights. Regularization can be avoided."
   ]
  },
  {
   "cell_type": "code",
   "execution_count": 49,
   "metadata": {},
   "outputs": [],
   "source": [
    "batch_size=150\n",
    "if debugging == True:\n",
    "    batch_size = 4\n",
    "out = 1"
   ]
  },
  {
   "cell_type": "markdown",
   "metadata": {},
   "source": [
    "#### 5.1 Define layers"
   ]
  },
  {
   "cell_type": "markdown",
   "metadata": {},
   "source": [
    "#### First layer: \n",
    "\n",
    "Lenth of the input (segment) is window=16384. Compute a strided convolution with a d=4096-sample recptive field and a stride=512 sample stride. Since every segment has 16384 samples there are 25 regions for each frame.\n",
    "\n",
    "After the convolution for each region a filterbank computation is calculated. \n",
    "As a filter a log=spaced filterbank is chosen (k=512 sine and cosine filters with logarithmically spaced frequencies from 50 hz to 6000 hz) which is going to be applied to all the regions of the convolution of size d=4096"
   ]
  },
  {
   "cell_type": "code",
   "execution_count": 50,
   "metadata": {},
   "outputs": [],
   "source": [
    "# variables for input layer\n",
    "\n",
    "# input size of segment, predict notes played at midpoint of segment\n",
    "window=16384\n",
    "# size of regions that outputs the convolution from layer one (receptive field)\n",
    "dd = 4096\n",
    "#stride for first layer convolution\n",
    "stride=512\n",
    "# --> 25 regions\n",
    "\n",
    "# variables for filterbank (= first layer)\n",
    "# number of nodes in first layer (by filterbank get from dd nodes to kk nodes)\n",
    "kk = 512 "
   ]
  },
  {
   "cell_type": "code",
   "execution_count": 51,
   "metadata": {},
   "outputs": [],
   "source": [
    "def create_filters(d,k):\n",
    "    # create k filters\n",
    "    # d is the length of the receptive field (input)\n",
    "    x = np.linspace(0, 2*np.pi, d, endpoint=False)\n",
    "    wsin = np.empty((1,d,1,k), dtype=np.float32)\n",
    "    wcos = np.empty((1,d,1,k), dtype=np.float32)\n",
    "    start_freq = 50.\n",
    "    end_freq = 6000.\n",
    "    num_cycles = start_freq*d/44100.                                          \n",
    "    scaling_ind = np.log(end_freq/start_freq)/k\n",
    "    window_mask = 1.0-1.0*np.cos(x)\n",
    "    for ind in range(k):\n",
    "        wsin[0,:,0,ind] = window_mask*np.sin(np.exp(ind*scaling_ind)*num_cycles*x)\n",
    "        wcos[0,:,0,ind] = window_mask*np.cos(np.exp(ind*scaling_ind)*num_cycles*x)\n",
    "            \n",
    "    return wsin,wcos"
   ]
  },
  {
   "cell_type": "markdown",
   "metadata": {},
   "source": [
    "#### Second layer:"
   ]
  },
  {
   "cell_type": "code",
   "execution_count": 52,
   "metadata": {},
   "outputs": [],
   "source": [
    "# variables for second layer\n",
    "d2_x = 1          # lvl2 input dims_x\n",
    "d2_y = 128          # lvl2 input dims_y\n",
    "k2 = 128        # num lvl2 filters\n",
    "stride_y = 2    # lvl2 stride"
   ]
  },
  {
   "cell_type": "markdown",
   "metadata": {},
   "source": [
    "#### Third layer:"
   ]
  },
  {
   "cell_type": "code",
   "execution_count": 53,
   "metadata": {},
   "outputs": [],
   "source": [
    "# variables for third layer\n",
    "d3_x = 25 # lvl3 input dims_x\n",
    "d3_y = 1 # lvl3 input dims_y (fully connected)\n",
    "k3 = 4096 # num lvl3 filters"
   ]
  },
  {
   "cell_type": "markdown",
   "metadata": {},
   "source": [
    "Calculate the sizes of nodes at each layer"
   ]
  },
  {
   "cell_type": "code",
   "execution_count": 54,
   "metadata": {},
   "outputs": [
    {
     "name": "stdout",
     "output_type": "stream",
     "text": [
      "First layer regions: (25,512)\n",
      "Second layer regions: (25,193)\n",
      "Third layer regions: (1,193)\n"
     ]
    }
   ],
   "source": [
    "num_regions  = int(1 + (window-dd)/stride)\n",
    "print ('First layer regions: ({},{})'.format(num_regions,kk))\n",
    "num_regions2_x  = int(1 + (num_regions-d2_x)/1)\n",
    "num_regions2_y = int(1 + (kk-d2_y)/stride_y)\n",
    "print ('Second layer regions: ({},{})'.format(num_regions2_x,num_regions2_y))\n",
    "num_regions3_x = int(1 + (num_regions2_x - d3_x)/1)\n",
    "num_regions3_y = int(1 + (num_regions2_y - d3_y)/1)\n",
    "print ('Third layer regions: ({},{})'.format(num_regions3_x,num_regions3_y))\n",
    "\n",
    "# create filters (shape: (1, 4096, 1, 512)) = number of regions x size of region\n",
    "wsin,wcos = create_filters(dd,kk)"
   ]
  },
  {
   "cell_type": "markdown",
   "metadata": {},
   "source": [
    "#### 5.2 Define tf.Graph()\n",
    "Set it all together and define the graph.\n",
    "\n",
    "For evaluation not the trained weights, but its moving averages with decay 0.9998 are utilized. The shadow variables are maintained by tf.train.ExponentialMovingAverage. In the block for evaluating the direct model their values are retrieved."
   ]
  },
  {
   "cell_type": "code",
   "execution_count": 55,
   "metadata": {},
   "outputs": [
    {
     "name": "stdout",
     "output_type": "stream",
     "text": [
      "---- Weights ----\n",
      "w <tf.Variable 'parameters/w:0' shape=(1, 128, 1, 128) dtype=float32_ref>\n",
      "w2 <tf.Variable 'parameters/w2:0' shape=(25, 1, 128, 4096) dtype=float32_ref>\n",
      "beta <tf.Variable 'parameters/beta:0' shape=(790529, 128) dtype=float32_ref>\n",
      "---- Layers ----\n",
      "zx Tensor(\"queued_model/add:0\", shape=(?, 1, 25, 512), dtype=float32)\n",
      "z2 Tensor(\"queued_model/Relu:0\", shape=(?, 128, 25, 193), dtype=float32)\n",
      "z3 Tensor(\"queued_model/Relu_1:0\", shape=(?, 4096, 1, 193), dtype=float32)\n",
      "y Tensor(\"queued_model/MatMul:0\", shape=(150, 128), dtype=float32)\n",
      "loss Tensor(\"queued_model/logistic_loss:0\", shape=(150, 128), dtype=float32)\n"
     ]
    }
   ],
   "source": [
    "tf.set_random_seed(999)\n",
    "\n",
    "#end_learning_rate = .00001/3/3/3\n",
    "starter_learning_rate = .005\n",
    "mom = .95\n",
    "\n",
    "beta_reg = 0.0\n",
    "\n",
    "graph = tf.Graph()\n",
    "\n",
    "with graph.as_default():\n",
    "     \n",
    "    # if the input is a batch\n",
    "    with tf.variable_scope('data_queue'):\n",
    "        xb = tf.placeholder(tf.float32, shape=[None, 1, window+(out-1)*stride, 1])\n",
    "        yb = tf.placeholder(tf.float32, shape=[None, out, mm])\n",
    "\n",
    "        xq, yq = xb, yb\n",
    "        \n",
    "    # if the input is just one segment\n",
    "    with tf.variable_scope('direct_data'):\n",
    "        xd = tf.placeholder(tf.float32, shape=[None,1,window,1])\n",
    "        yd = tf.placeholder(tf.float32, shape=[None, mm])\n",
    "    \n",
    "    print ('---- Weights ----')\n",
    "    with tf.variable_scope('parameters'): #glorot  \n",
    "        w = tf.get_variable('w', [d2_x,d2_y,1,k2]) # 1 x 128 x 1 x 128 (16.384 values)\n",
    "        print ('w',w)\n",
    "        w2 = tf.get_variable('w2', [d3_x,d3_y,k2,k3]) # 25 x 1 x 128 x 4096 (13.107.200 values)\n",
    "        print ('w2',w2)\n",
    "        beta = tf.get_variable('beta', [int(num_regions3_x*num_regions3_y*k3)+1,mm]) \n",
    "        # (1*193*4096+1) x 128 (101.187.584 + 128 values) BIAS!!\n",
    "        print ('beta',beta)\n",
    "        model_stats.register_weights([w,w2,beta],['w','w2','beta'])\n",
    "\n",
    "    print ('---- Layers ----')\n",
    "    with tf.variable_scope('queued_model'):\n",
    "        zx = tf.square(tf.nn.conv2d(xq,wsin,strides=[1,1,stride,1],padding='VALID')) \\\n",
    "           + tf.square(tf.nn.conv2d(xq,wcos,strides=[1,1,stride,1],padding='VALID'))\n",
    "        print ('zx',zx)\n",
    "        z2 = tf.nn.relu(tf.nn.conv2d(tf.log(zx+10e-15),w,strides=[1,1,1,stride_y],padding='VALID',data_format='NCHW'))\n",
    "        print ('z2',z2)\n",
    "        z3 = tf.nn.relu(tf.nn.conv2d(z2,w2,strides=[1,1,1,1],padding='VALID',data_format='NCHW'))\n",
    "        print ('z3',z3)\n",
    "        y = tf.matmul(\n",
    "            tf.concat([tf.reshape(z3,[batch_size,int(num_regions3_x*num_regions3_y*k3)]),\n",
    "                      tf.ones([batch_size,1], tf.float32)],1),beta)\n",
    "        print ('y',y)\n",
    "        #loss = tf.reduce_mean(tf.nn.l2_loss(y-tf.reshape(yq,[batch_size,mm])))\n",
    "        loss = tf.nn.sigmoid_cross_entropy_with_logits(labels=tf.reshape(yq,[batch_size,mm]), logits=y) \n",
    "        print ('loss',loss)\n",
    "            \n",
    "    # learning rate decay\n",
    "    global_step = tf.Variable(0, trainable=False)\n",
    "    lr = tf.train.exponential_decay(starter_learning_rate, global_step, 10000, 0.95, staircase=True)\n",
    "\n",
    "    reg = tf.nn.l2_loss(w) + tf.nn.l2_loss(w2) + tf.nn.l2_loss(beta)\n",
    "    \n",
    "    #opt_op = tf.train.MomentumOptimizer(lr,mom).minimize(tf.reduce_mean(loss + beta_reg*reg), global_step=global_step)\n",
    "    \n",
    "    opt_op = tf.train.MomentumOptimizer(lr,mom).minimize(tf.reduce_mean(loss), global_step=global_step)\n",
    "\n",
    "    \n",
    "    # Create an ExponentialMovingAverage object\n",
    "    ema = tf.train.ExponentialMovingAverage(decay=0.9998)\n",
    "    \n",
    "    with tf.control_dependencies([opt_op]):\n",
    "        training_op = ema.apply([w, w2, beta])\n",
    "    \n",
    "    with tf.variable_scope('direct_model'):\n",
    "        # use ema.average(var) to return the average of variable var\n",
    "        wavg = ema.average(w)\n",
    "        w2avg = ema.average(w2)\n",
    "        betaavg = ema.average(beta)\n",
    "\n",
    "        direct_zx = tf.square(tf.nn.conv2d(xd,wsin,strides=[1,1,stride,1],padding='VALID')) \\\n",
    "                + tf.square(tf.nn.conv2d(xd,wcos,strides=[1,1,stride,1],padding='VALID'))\n",
    "        direct_z2 = tf.nn.relu(tf.nn.conv2d(tf.log(direct_zx+10e-15),wavg,strides=[1,1,1,stride_y],padding='VALID',data_format='NCHW'))\n",
    "        direct_z3 = tf.nn.relu(tf.nn.conv2d(direct_z2,w2avg,strides=[1,1,1,1],padding='VALID',data_format='NCHW'))\n",
    "        direct_y = tf.nn.sigmoid(tf.matmul(\n",
    "            tf.concat([tf.reshape(direct_z3,[tf.shape(xd)[0],int(num_regions3_x*num_regions3_y*k3)]),\n",
    "                     tf.ones([tf.shape(xd)[0],1], tf.float32)],1),betaavg))\n",
    "        direct_loss = tf.reduce_mean(tf.nn.l2_loss(direct_y-yd))\n",
    "        "
   ]
  },
  {
   "cell_type": "markdown",
   "metadata": {},
   "source": [
    "#### 5.3 Evaluation of the graph\n",
    "\n",
    "For the aplication of the neuronal network a moving average of the weights is used. Therefore, a different function for evaluation is used.\n",
    "\n",
    "Inside the function predict_direct_model the mean squared error is calculated directly."
   ]
  },
  {
   "cell_type": "code",
   "execution_count": 56,
   "metadata": {},
   "outputs": [],
   "source": [
    "# function for prediction without training that splits up the whole set\n",
    "# in small subsets to prevent errors of type \"ResourceExhaustedError\"\n",
    "# input: \n",
    "# - sess: the actual session\n",
    "# - X: sample, size: (n,1,window,1)\n",
    "# - Y: corresponding labels, size: (n,mm)\n",
    "# output:\n",
    "#  Yhat: prediction, size: (n,mm)\n",
    "#  mse: Mean Squared Error when comparing Y and Yhat\n",
    "def predict_direct_model(sess, X, Y):\n",
    "    Yhat = np.empty((len(X),mm))\n",
    "    subdiv = 100\n",
    "    subset = X.shape[0]/subdiv\n",
    "    mse = 0\n",
    "    for j in range(subdiv):\n",
    "        Yhat[int(subset*j):int(subset*(j+1))], se = sess.run([direct_y,direct_loss], \n",
    "                                                         feed_dict={xd: X[int(subset*j):int(subset*(j+1))],\n",
    "                                                                    yd: Y[int(subset*j):int(subset*(j+1))]})\n",
    "        mse += se\n",
    "\n",
    "    return Yhat, mse/float(subdiv)"
   ]
  },
  {
   "cell_type": "markdown",
   "metadata": {},
   "source": [
    "### 6. Training"
   ]
  },
  {
   "cell_type": "code",
   "execution_count": 57,
   "metadata": {},
   "outputs": [],
   "source": [
    "if debugging == True:\n",
    "    num_steps = 5\n",
    "    control_step = 1\n",
    "else:\n",
    "    num_steps = 300000\n",
    "    control_step = 1000\n",
    "\n",
    "gpu_memory_growth = False"
   ]
  },
  {
   "cell_type": "code",
   "execution_count": 58,
   "metadata": {},
   "outputs": [],
   "source": [
    "# arrays for input data (batch)\n",
    "xmb = np.empty([batch_size,1,window,1],dtype=np.float32)\n",
    "ymb = np.empty([batch_size,1,mm],dtype=np.float32)"
   ]
  },
  {
   "cell_type": "code",
   "execution_count": 59,
   "metadata": {},
   "outputs": [],
   "source": [
    "# train saver\n",
    "saver = tf.train.Saver({'wavg': wavg, 'w2avg': w2avg, 'betaavg': betaavg})"
   ]
  },
  {
   "cell_type": "code",
   "execution_count": 60,
   "metadata": {},
   "outputs": [
    {
     "name": "stdout",
     "output_type": "stream",
     "text": [
      "Initialized\n",
      "iter\t test_squ_loss\t test_avg_prec\t train_squ_loss\t train_avg_prec\t regularization\t time (in s)\n",
      "1 \t 1774.52914307 \t 0.01498712 \t 2416.64270508 \t 0.01848589 \t 253.081 \t 33.02560878\n",
      "1001 \t 578.23144928 \t 0.30070088 \t 842.30477356 \t 0.33441585 \t 255.605 \t 539.47744656\n",
      "2001 \t 274.99009262 \t 0.51037048 \t 415.84526978 \t 0.53977823 \t 256.26 \t 539.64069295\n",
      "3001 \t 166.65559174 \t 0.58904409 \t 257.69496399 \t 0.60996324 \t 256.769 \t 540.547086\n",
      "4001 \t 117.08202866 \t 0.62653261 \t 184.68053101 \t 0.64098866 \t 257.225 \t 540.39966464\n",
      "5001 \t 92.53661472 \t 0.64850733 \t 148.56236099 \t 0.65818463 \t 257.666 \t 540.74291611\n",
      "6001 \t 79.80252346 \t 0.66259854 \t 129.90293915 \t 0.66924019 \t 258.092 \t 539.92923379\n",
      "7001 \t 72.7537734 \t 0.6728635 \t 119.68309624 \t 0.67703952 \t 258.491 \t 539.64271832\n",
      "8001 \t 68.66226709 \t 0.6800237 \t 113.77709145 \t 0.68285832 \t 258.89 \t 540.57047725\n",
      "9001 \t 66.10314537 \t 0.68578882 \t 110.13908272 \t 0.68755093 \t 259.276 \t 541.15296125\n",
      "10001 \t 64.42218225 \t 0.69035438 \t 107.76964935 \t 0.69145613 \t 259.651 \t 540.18022823\n",
      "11001 \t 63.29391108 \t 0.69398893 \t 106.14735985 \t 0.69483449 \t 260.006 \t 541.34598732\n",
      "12001 \t 62.44233969 \t 0.69737295 \t 104.94629044 \t 0.69779967 \t 260.354 \t 540.43050432\n",
      "13001 \t 61.77987957 \t 0.70041169 \t 104.01638626 \t 0.70055136 \t 260.7 \t 540.40870905\n",
      "14001 \t 61.27462349 \t 0.70295769 \t 103.27167809 \t 0.70299561 \t 261.039 \t 540.55995727\n",
      "15001 \t 60.84394413 \t 0.70539994 \t 102.63597084 \t 0.70531412 \t 261.391 \t 540.53055072\n",
      "16001 \t 60.47211887 \t 0.70755707 \t 102.08539474 \t 0.70745535 \t 261.727 \t 540.79481792\n",
      "17001 \t 60.1382266 \t 0.70966414 \t 101.58635918 \t 0.70948059 \t 262.057 \t 544.98197532\n",
      "18001 \t 59.85805574 \t 0.71162681 \t 101.1354261 \t 0.71137307 \t 262.39 \t 542.40320587\n",
      "19001 \t 59.5810787 \t 0.71355122 \t 100.7212442 \t 0.71318698 \t 262.721 \t 541.33249402\n",
      "20001 \t 59.34314499 \t 0.7152147 \t 100.33241043 \t 0.71490718 \t 263.046 \t 540.59422565\n",
      "21001 \t 59.12807957 \t 0.7168073 \t 99.96804726 \t 0.71654151 \t 263.354 \t 542.20445371\n",
      "22001 \t 58.9342954 \t 0.71827834 \t 99.63176636 \t 0.71804424 \t 263.66 \t 541.81462908\n",
      "23001 \t 58.74432475 \t 0.71965576 \t 99.30572365 \t 0.71953513 \t 263.96 \t 541.73903823\n",
      "24001 \t 58.55677143 \t 0.72103578 \t 98.9967765 \t 0.72093437 \t 264.265 \t 540.3459208\n",
      "25001 \t 58.38091175 \t 0.72238812 \t 98.69210312 \t 0.72234744 \t 264.565 \t 542.20470953\n",
      "26001 \t 58.22307706 \t 0.72360927 \t 98.40570061 \t 0.72366017 \t 264.868 \t 540.9165771\n",
      "27001 \t 58.07049112 \t 0.72474875 \t 98.12118622 \t 0.72493241 \t 265.175 \t 540.91544247\n",
      "28001 \t 57.91359034 \t 0.72595344 \t 97.86122612 \t 0.72614307 \t 265.471 \t 540.95711803\n",
      "29001 \t 57.78123141 \t 0.72694731 \t 97.60386032 \t 0.72728899 \t 265.767 \t 540.70202804\n",
      "30001 \t 57.65876324 \t 0.72793943 \t 97.35744675 \t 0.72841508 \t 266.066 \t 540.52684498\n",
      "31001 \t 57.53976736 \t 0.72890316 \t 97.12541191 \t 0.72950789 \t 266.349 \t 541.10824084\n",
      "32001 \t 57.42562749 \t 0.72994181 \t 96.91977486 \t 0.73050187 \t 266.633 \t 541.26264191\n",
      "33001 \t 57.31959646 \t 0.73079072 \t 96.71318733 \t 0.73143446 \t 266.91 \t 540.97974586\n",
      "34001 \t 57.22890318 \t 0.73149362 \t 96.51259064 \t 0.73235226 \t 267.192 \t 540.82241702\n",
      "35001 \t 57.14608978 \t 0.73217334 \t 96.30849167 \t 0.73330513 \t 267.469 \t 541.86023498\n",
      "36001 \t 57.04136425 \t 0.7329767 \t 96.12535881 \t 0.73419843 \t 267.76 \t 540.11166978\n",
      "37001 \t 56.93824591 \t 0.73379573 \t 95.93661591 \t 0.73505048 \t 268.034 \t 540.8008523\n",
      "38001 \t 56.84985857 \t 0.73451267 \t 95.74503365 \t 0.73594321 \t 268.313 \t 540.94249105\n",
      "39001 \t 56.74960202 \t 0.73528442 \t 95.56635483 \t 0.73678711 \t 268.594 \t 540.49168515\n",
      "40001 \t 56.65878645 \t 0.73595975 \t 95.39760208 \t 0.73758677 \t 268.873 \t 539.93048477\n",
      "41001 \t 56.58245953 \t 0.7365691 \t 95.23913551 \t 0.73834549 \t 269.135 \t 541.7227087\n",
      "42001 \t 56.49276138 \t 0.73742591 \t 95.08463768 \t 0.73908113 \t 269.402 \t 541.07685757\n",
      "43001 \t 56.42614026 \t 0.73803911 \t 94.92380455 \t 0.73985641 \t 269.665 \t 540.71722937\n",
      "44001 \t 56.33999895 \t 0.73879056 \t 94.77252823 \t 0.74056407 \t 269.936 \t 540.90988612\n",
      "45001 \t 56.26774686 \t 0.73929209 \t 94.61957817 \t 0.74127601 \t 270.199 \t 540.90478849\n",
      "46001 \t 56.18559032 \t 0.73991645 \t 94.46992577 \t 0.74195266 \t 270.465 \t 542.84052825\n",
      "47001 \t 56.09326799 \t 0.74062627 \t 94.3257534 \t 0.74264204 \t 270.727 \t 540.41365933\n",
      "48001 \t 56.01314498 \t 0.74118672 \t 94.1807415 \t 0.7432457 \t 270.992 \t 540.38033962\n",
      "49001 \t 55.93223853 \t 0.74191092 \t 94.03184547 \t 0.74391367 \t 271.255 \t 541.38323236\n",
      "50001 \t 55.84261702 \t 0.74272871 \t 93.89902077 \t 0.7445276 \t 271.521 \t 541.34919047\n",
      "51001 \t 55.78385941 \t 0.74330409 \t 93.76406929 \t 0.74513985 \t 271.766 \t 539.72867489\n",
      "52001 \t 55.7202323 \t 0.74377513 \t 93.62915169 \t 0.74576375 \t 272.02 \t 539.66190338\n",
      "53001 \t 55.6420047 \t 0.74439267 \t 93.4985553 \t 0.74634055 \t 272.276 \t 539.56390953\n",
      "54001 \t 55.57802991 \t 0.7449136 \t 93.37452034 \t 0.7469102 \t 272.521 \t 539.12692595\n",
      "55001 \t 55.52402272 \t 0.74530329 \t 93.25223877 \t 0.7474781 \t 272.776 \t 542.88027596\n",
      "56001 \t 55.46089458 \t 0.74576171 \t 93.13149475 \t 0.74799911 \t 273.017 \t 541.4623723\n",
      "57001 \t 55.39111471 \t 0.74627676 \t 93.00863861 \t 0.7485085 \t 273.269 \t 542.17823315\n",
      "58001 \t 55.3390983 \t 0.74674795 \t 92.88427956 \t 0.74904942 \t 273.521 \t 539.78823757\n",
      "59001 \t 55.29981988 \t 0.74708532 \t 92.76474358 \t 0.74962168 \t 273.768 \t 540.96400714\n",
      "60001 \t 55.25848799 \t 0.747418 \t 92.63215836 \t 0.75023885 \t 274.02 \t 544.43914366\n",
      "61001 \t 55.20391315 \t 0.74781599 \t 92.50519867 \t 0.7508115 \t 274.263 \t 544.22121549\n",
      "62001 \t 55.16212881 \t 0.74811717 \t 92.38719742 \t 0.75138095 \t 274.499 \t 544.09637094\n",
      "63001 \t 55.1083013 \t 0.74851808 \t 92.26482452 \t 0.75196371 \t 274.738 \t 544.19977903\n",
      "64001 \t 55.05354225 \t 0.7489957 \t 92.14372353 \t 0.75252276 \t 274.974 \t 544.12702775\n",
      "65001 \t 55.00788391 \t 0.74937043 \t 92.03463676 \t 0.75304295 \t 275.212 \t 544.46937966\n",
      "66001 \t 54.97463598 \t 0.74964364 \t 91.92182838 \t 0.75355451 \t 275.458 \t 545.02908707\n",
      "67001 \t 54.9170148 \t 0.75016369 \t 91.81747688 \t 0.75400051 \t 275.687 \t 543.24355602\n",
      "68001 \t 54.85931019 \t 0.75052499 \t 91.72175079 \t 0.75443246 \t 275.922 \t 543.65747356\n",
      "69001 \t 54.81877964 \t 0.75078547 \t 91.63443626 \t 0.75485681 \t 276.16 \t 542.88929248\n",
      "70001 \t 54.79171882 \t 0.75100866 \t 91.54189468 \t 0.75529084 \t 276.397 \t 543.31292415\n",
      "71001 \t 54.74842249 \t 0.75128855 \t 91.45947708 \t 0.75570293 \t 276.62 \t 541.83060908\n",
      "72001 \t 54.69367384 \t 0.75171274 \t 91.36530014 \t 0.75613162 \t 276.845 \t 543.25910378\n",
      "73001 \t 54.62990354 \t 0.75221739 \t 91.27000298 \t 0.75655419 \t 277.07 \t 542.86429\n",
      "74001 \t 54.58446749 \t 0.75254909 \t 91.17726608 \t 0.75699017 \t 277.301 \t 543.18669176\n",
      "75001 \t 54.55399489 \t 0.75272388 \t 91.08984779 \t 0.75739976 \t 277.522 \t 542.47903466\n",
      "76001 \t 54.53896537 \t 0.75289029 \t 90.99661179 \t 0.75783236 \t 277.746 \t 542.81550455\n",
      "77001 \t 54.51450095 \t 0.75308444 \t 90.91349525 \t 0.75821437 \t 277.975 \t 542.37352967\n",
      "78001 \t 54.47837948 \t 0.75331046 \t 90.82536064 \t 0.75859753 \t 278.198 \t 543.2253108\n",
      "79001 \t 54.43139574 \t 0.75370993 \t 90.74278534 \t 0.75892979 \t 278.425 \t 542.20006037\n",
      "80001 \t 54.37762755 \t 0.7541348 \t 90.64051926 \t 0.75933996 \t 278.662 \t 541.74122834\n",
      "81001 \t 54.34933754 \t 0.75436589 \t 90.54762993 \t 0.75975196 \t 278.874 \t 544.56531882\n",
      "82001 \t 54.32688683 \t 0.75443168 \t 90.45785202 \t 0.76014752 \t 279.083 \t 543.25131297\n",
      "83001 \t 54.28104729 \t 0.75457709 \t 90.37932312 \t 0.76047534 \t 279.301 \t 543.02984667\n",
      "84001 \t 54.25789 \t 0.75474536 \t 90.29233978 \t 0.76085251 \t 279.52 \t 542.88569927\n",
      "85001 \t 54.23360082 \t 0.75491394 \t 90.21094635 \t 0.76121226 \t 279.732 \t 543.34947991\n",
      "86001 \t 54.218118 \t 0.755066 \t 90.14264191 \t 0.76153674 \t 279.949 \t 543.29933238\n",
      "87001 \t 54.18703151 \t 0.75535964 \t 90.07787148 \t 0.7618782 \t 280.166 \t 543.06503725\n",
      "88001 \t 54.14265232 \t 0.75569536 \t 90.00641983 \t 0.76223648 \t 280.384 \t 544.230268\n",
      "89001 \t 54.10728415 \t 0.75595224 \t 89.93985016 \t 0.76254587 \t 280.599 \t 544.85157943\n",
      "90001 \t 54.08829486 \t 0.75612107 \t 89.86801659 \t 0.76289379 \t 280.812 \t 544.06670618\n",
      "91001 \t 54.04929948 \t 0.75635793 \t 89.79776772 \t 0.76321092 \t 281.022 \t 543.62513232\n",
      "92001 \t 54.01121901 \t 0.75664489 \t 89.7326033 \t 0.76353226 \t 281.214 \t 543.57416391\n",
      "93001 \t 53.99297585 \t 0.75678355 \t 89.65594681 \t 0.76389129 \t 281.421 \t 544.01177168\n",
      "94001 \t 53.98389692 \t 0.75684117 \t 89.56788185 \t 0.7643069 \t 281.625 \t 544.19867826\n",
      "95001 \t 53.96308453 \t 0.75698005 \t 89.49353188 \t 0.76463507 \t 281.83 \t 543.82910037\n"
     ]
    },
    {
     "name": "stdout",
     "output_type": "stream",
     "text": [
      "96001 \t 53.93884791 \t 0.75711118 \t 89.42696259 \t 0.76488715 \t 282.037 \t 542.72797942\n",
      "97001 \t 53.92445641 \t 0.75712161 \t 89.34864563 \t 0.76521107 \t 282.241 \t 543.367239\n",
      "98001 \t 53.92228288 \t 0.75698285 \t 89.27488953 \t 0.76549912 \t 282.456 \t 543.83230114\n",
      "99001 \t 53.91007485 \t 0.75704587 \t 89.19512329 \t 0.76580248 \t 282.664 \t 543.25806022\n",
      "100001 \t 53.91439196 \t 0.75699625 \t 89.12168991 \t 0.76614486 \t 282.866 \t 543.61598444\n",
      "101001 \t 53.89024576 \t 0.7570456 \t 89.04675453 \t 0.76649416 \t 283.062 \t 543.75285077\n",
      "102001 \t 53.88730269 \t 0.75703264 \t 88.97792404 \t 0.76679335 \t 283.25 \t 544.53056288\n",
      "103001 \t 53.87390511 \t 0.75719776 \t 88.91288391 \t 0.76709974 \t 283.448 \t 543.85879254\n",
      "104001 \t 53.84498598 \t 0.75751179 \t 88.84247406 \t 0.76740011 \t 283.641 \t 543.54112339\n",
      "105001 \t 53.81261708 \t 0.75769326 \t 88.77803246 \t 0.76769923 \t 283.841 \t 543.92980742\n",
      "106001 \t 53.77793971 \t 0.75796432 \t 88.71398163 \t 0.76796274 \t 284.038 \t 544.009197\n",
      "107001 \t 53.76585995 \t 0.75811677 \t 88.65605141 \t 0.76820133 \t 284.233 \t 544.45186377\n",
      "108001 \t 53.7548971 \t 0.7583108 \t 88.60127472 \t 0.76846084 \t 284.432 \t 545.03779316\n",
      "109001 \t 53.74023001 \t 0.75836121 \t 88.53661507 \t 0.76872301 \t 284.627 \t 545.15876365\n",
      "110001 \t 53.70810237 \t 0.75850366 \t 88.47414795 \t 0.76898984 \t 284.823 \t 546.09827113\n",
      "111001 \t 53.6852482 \t 0.7587504 \t 88.41336967 \t 0.76927198 \t 285.013 \t 544.52502203\n",
      "112001 \t 53.64012045 \t 0.75909884 \t 88.3586377 \t 0.76952572 \t 285.201 \t 543.928931\n",
      "113001 \t 53.6016849 \t 0.75935529 \t 88.29260674 \t 0.76977239 \t 285.381 \t 544.5286653\n",
      "114001 \t 53.569436 \t 0.75949592 \t 88.24072975 \t 0.77003026 \t 285.572 \t 544.1967752\n",
      "115001 \t 53.54012385 \t 0.75971672 \t 88.17129013 \t 0.77031561 \t 285.753 \t 544.12131977\n",
      "116001 \t 53.52221 \t 0.75985026 \t 88.10213799 \t 0.77058041 \t 285.939 \t 545.21517396\n",
      "117001 \t 53.49918122 \t 0.76001828 \t 88.03945915 \t 0.77085649 \t 286.129 \t 544.62166595\n",
      "118001 \t 53.46290028 \t 0.76025492 \t 87.98193909 \t 0.77111422 \t 286.323 \t 544.26639748\n",
      "119001 \t 53.44610063 \t 0.76037405 \t 87.91927467 \t 0.77142212 \t 286.51 \t 543.25262022\n",
      "120001 \t 53.41217779 \t 0.76071634 \t 87.85201538 \t 0.77172261 \t 286.692 \t 544.31424856\n",
      "121001 \t 53.38342101 \t 0.76092606 \t 87.79640709 \t 0.77196484 \t 286.867 \t 543.20922661\n",
      "122001 \t 53.3786393 \t 0.76093491 \t 87.74577209 \t 0.77219 \t 287.052 \t 544.23450708\n",
      "123001 \t 53.3608449 \t 0.76107046 \t 87.68789505 \t 0.77245005 \t 287.222 \t 545.71923566\n",
      "124001 \t 53.33877292 \t 0.76128332 \t 87.62705002 \t 0.77275102 \t 287.4 \t 543.51517916\n",
      "125001 \t 53.32116939 \t 0.76138595 \t 87.57517082 \t 0.77298925 \t 287.577 \t 544.67203474\n",
      "126001 \t 53.31146559 \t 0.76150272 \t 87.51429131 \t 0.77327581 \t 287.755 \t 543.49744749\n",
      "127001 \t 53.2909896 \t 0.76170251 \t 87.46276878 \t 0.77349817 \t 287.937 \t 544.81111836\n",
      "128001 \t 53.26903491 \t 0.76178978 \t 87.40487282 \t 0.77372805 \t 288.115 \t 543.07830048\n",
      "129001 \t 53.25234132 \t 0.76181514 \t 87.35356758 \t 0.77393067 \t 288.294 \t 544.65356421\n",
      "130001 \t 53.25512621 \t 0.76175197 \t 87.30519867 \t 0.77415125 \t 288.465 \t 546.16553617\n",
      "131001 \t 53.25638548 \t 0.76170361 \t 87.25243782 \t 0.77438947 \t 288.636 \t 545.19738865\n",
      "132001 \t 53.25181129 \t 0.76169059 \t 87.1894352 \t 0.77469352 \t 288.809 \t 544.69405437\n",
      "133001 \t 53.24612968 \t 0.76171177 \t 87.1311174 \t 0.77491322 \t 288.972 \t 543.52076983\n",
      "134001 \t 53.2593155 \t 0.76155062 \t 87.07583923 \t 0.77510717 \t 289.141 \t 545.82165813\n",
      "135001 \t 53.24059334 \t 0.7616146 \t 87.01388802 \t 0.77537822 \t 289.308 \t 543.75417614\n",
      "136001 \t 53.23629502 \t 0.76155461 \t 86.96221977 \t 0.77557733 \t 289.478 \t 546.49152923\n",
      "137001 \t 53.22275632 \t 0.76157586 \t 86.90859138 \t 0.77576343 \t 289.649 \t 544.24621296\n",
      "138001 \t 53.1969243 \t 0.76176022 \t 86.85209038 \t 0.77601411 \t 289.819 \t 543.85433865\n",
      "139001 \t 53.16582297 \t 0.76200584 \t 86.79530273 \t 0.77624978 \t 289.99 \t 544.46981525\n",
      "140001 \t 53.13616977 \t 0.76222265 \t 86.74248726 \t 0.77645154 \t 290.161 \t 544.7228992\n",
      "141001 \t 53.12094827 \t 0.76232812 \t 86.68864944 \t 0.77669418 \t 290.317 \t 545.01016736\n",
      "142001 \t 53.10185701 \t 0.76248619 \t 86.64043755 \t 0.77690804 \t 290.478 \t 543.69714212\n",
      "143001 \t 53.09271317 \t 0.76260574 \t 86.60188812 \t 0.77710142 \t 290.635 \t 545.10473108\n",
      "144001 \t 53.06635511 \t 0.76281606 \t 86.57048744 \t 0.77724912 \t 290.796 \t 544.60154724\n",
      "145001 \t 53.05450166 \t 0.76291684 \t 86.52534294 \t 0.77746612 \t 290.952 \t 545.48391247\n",
      "146001 \t 53.060418 \t 0.7629265 \t 86.49409584 \t 0.77761519 \t 291.113 \t 548.80211949\n",
      "147001 \t 53.04714192 \t 0.76311089 \t 86.46191154 \t 0.77776605 \t 291.273 \t 546.6341095\n",
      "148001 \t 53.01936617 \t 0.76331196 \t 86.42311775 \t 0.77794749 \t 291.431 \t 543.80045915\n",
      "149001 \t 52.98992229 \t 0.76357829 \t 86.38521797 \t 0.77811296 \t 291.595 \t 542.92735004\n",
      "150001 \t 52.98397917 \t 0.76360044 \t 86.34559364 \t 0.77828476 \t 291.756 \t 543.60664773\n",
      "151001 \t 52.97162431 \t 0.76362445 \t 86.30105431 \t 0.7784949 \t 291.907 \t 548.72787166\n",
      "152001 \t 52.9623962 \t 0.76369977 \t 86.26167221 \t 0.77867123 \t 292.06 \t 544.52949905\n",
      "153001 \t 52.94183039 \t 0.7638208 \t 86.216763 \t 0.77890277 \t 292.213 \t 544.82081556\n",
      "154001 \t 52.91739235 \t 0.7640022 \t 86.1752282 \t 0.77910301 \t 292.37 \t 546.25188732\n",
      "155001 \t 52.91479805 \t 0.76398811 \t 86.13125847 \t 0.77926649 \t 292.517 \t 544.23704481\n",
      "156001 \t 52.92185795 \t 0.76399669 \t 86.09584671 \t 0.77940292 \t 292.671 \t 545.05360007\n",
      "157001 \t 52.91423643 \t 0.76414921 \t 86.0444976 \t 0.77963725 \t 292.825 \t 545.21872282\n",
      "158001 \t 52.90878762 \t 0.76418378 \t 85.99185562 \t 0.77984349 \t 292.98 \t 547.27177882\n",
      "159001 \t 52.89866508 \t 0.76418224 \t 85.94858162 \t 0.78001304 \t 293.133 \t 545.52895951\n",
      "160001 \t 52.88624932 \t 0.76426074 \t 85.8986219 \t 0.78022515 \t 293.284 \t 543.3704288\n",
      "161001 \t 52.85490173 \t 0.76450412 \t 85.85731651 \t 0.7804173 \t 293.433 \t 544.44873691\n",
      "162001 \t 52.84292234 \t 0.76460717 \t 85.82228577 \t 0.7806169 \t 293.58 \t 544.47905588\n",
      "163001 \t 52.83290038 \t 0.76462808 \t 85.78327614 \t 0.78079224 \t 293.725 \t 545.71104479\n",
      "164001 \t 52.83340914 \t 0.76458458 \t 85.75235565 \t 0.7809381 \t 293.872 \t 543.71526861\n",
      "165001 \t 52.82822174 \t 0.76468018 \t 85.71379684 \t 0.78113786 \t 294.016 \t 545.12000871\n",
      "166001 \t 52.83576386 \t 0.76472333 \t 85.68328102 \t 0.78129572 \t 294.16 \t 545.76481867\n",
      "167001 \t 52.82827697 \t 0.76481052 \t 85.64536697 \t 0.78143648 \t 294.302 \t 544.61050367\n",
      "168001 \t 52.82303593 \t 0.76484988 \t 85.59808395 \t 0.78162323 \t 294.449 \t 544.3236289\n",
      "169001 \t 52.82420254 \t 0.76486175 \t 85.55853294 \t 0.78181304 \t 294.595 \t 545.45295238\n",
      "170001 \t 52.81967472 \t 0.76483174 \t 85.52186188 \t 0.78194635 \t 294.74 \t 544.61441159\n",
      "171001 \t 52.81371405 \t 0.7648767 \t 85.48969856 \t 0.78211658 \t 294.877 \t 544.60217071\n",
      "172001 \t 52.80768222 \t 0.7648868 \t 85.45619331 \t 0.78222773 \t 295.015 \t 544.0100987\n",
      "173001 \t 52.78915722 \t 0.7650019 \t 85.41414726 \t 0.78236678 \t 295.161 \t 544.4192102\n",
      "174001 \t 52.76791019 \t 0.76515458 \t 85.37552689 \t 0.78253656 \t 295.297 \t 544.26933837\n",
      "175001 \t 52.75121889 \t 0.76523425 \t 85.34083252 \t 0.782719 \t 295.439 \t 545.61226845\n",
      "176001 \t 52.7193274 \t 0.76541253 \t 85.30143166 \t 0.78291632 \t 295.579 \t 544.93913436\n",
      "177001 \t 52.70117387 \t 0.76561071 \t 85.2613176 \t 0.7831129 \t 295.715 \t 544.06206465\n",
      "178001 \t 52.6898582 \t 0.76570191 \t 85.22084923 \t 0.78327916 \t 295.856 \t 545.41730118\n",
      "179001 \t 52.69873834 \t 0.76562622 \t 85.19181168 \t 0.7834051 \t 295.996 \t 545.09674311\n",
      "180001 \t 52.67450015 \t 0.76584544 \t 85.15279259 \t 0.78355242 \t 296.136 \t 545.00798607\n",
      "181001 \t 52.65364211 \t 0.76599851 \t 85.11431808 \t 0.78367848 \t 296.268 \t 546.13549805\n",
      "182001 \t 52.624558 \t 0.76619473 \t 85.08345039 \t 0.78381032 \t 296.399 \t 544.8191433\n",
      "183001 \t 52.60886099 \t 0.76637623 \t 85.05100914 \t 0.78398503 \t 296.533 \t 544.40545034\n",
      "184001 \t 52.60029857 \t 0.76648981 \t 85.01012825 \t 0.78419606 \t 296.664 \t 542.89994812\n",
      "185001 \t 52.59394553 \t 0.76649681 \t 84.97537621 \t 0.78434109 \t 296.796 \t 544.38717961\n",
      "186001 \t 52.56165701 \t 0.7667237 \t 84.94328842 \t 0.78448888 \t 296.927 \t 543.95520067\n",
      "187001 \t 52.53329007 \t 0.76696492 \t 84.9051368 \t 0.78466212 \t 297.059 \t 544.7193594\n",
      "188001 \t 52.52016737 \t 0.76714323 \t 84.87215187 \t 0.7848006 \t 297.194 \t 545.19444489\n",
      "189001 \t 52.51898001 \t 0.76725115 \t 84.83177567 \t 0.78496034 \t 297.331 \t 543.9372921\n",
      "190001 \t 52.50735486 \t 0.76727302 \t 84.79191757 \t 0.78511502 \t 297.46 \t 544.02258015\n",
      "191001 \t 52.49900902 \t 0.76726682 \t 84.75188644 \t 0.78523381 \t 297.585 \t 545.33780169\n",
      "192001 \t 52.50101212 \t 0.7672249 \t 84.71767647 \t 0.78539778 \t 297.712 \t 544.99471521\n"
     ]
    },
    {
     "name": "stdout",
     "output_type": "stream",
     "text": [
      "193001 \t 52.50549292 \t 0.76717559 \t 84.6801757 \t 0.78558207 \t 297.84 \t 545.73823476\n",
      "194001 \t 52.50354667 \t 0.76712394 \t 84.64663811 \t 0.7857553 \t 297.962 \t 545.56683612\n",
      "195001 \t 52.49135493 \t 0.76725681 \t 84.61023705 \t 0.7859513 \t 298.087 \t 545.65556455\n",
      "196001 \t 52.50268991 \t 0.76726516 \t 84.58877968 \t 0.78606543 \t 298.211 \t 543.93644834\n",
      "197001 \t 52.48839072 \t 0.76747873 \t 84.56082962 \t 0.78619573 \t 298.34 \t 544.36750484\n",
      "198001 \t 52.47195947 \t 0.76772294 \t 84.5284407 \t 0.78632505 \t 298.468 \t 546.60080934\n",
      "199001 \t 52.44718534 \t 0.76799188 \t 84.49225288 \t 0.7864379 \t 298.591 \t 544.74734259\n",
      "200001 \t 52.45407136 \t 0.76799541 \t 84.45696152 \t 0.78661387 \t 298.714 \t 543.73006058\n",
      "201001 \t 52.45497668 \t 0.76798376 \t 84.42780228 \t 0.78675623 \t 298.84 \t 545.07489347\n",
      "202001 \t 52.45970142 \t 0.7679161 \t 84.39693649 \t 0.7868847 \t 298.958 \t 546.934582\n",
      "203001 \t 52.45579891 \t 0.76794991 \t 84.35802055 \t 0.78701763 \t 299.08 \t 544.13563418\n",
      "204001 \t 52.457171 \t 0.76795291 \t 84.33637154 \t 0.78715281 \t 299.2 \t 544.65468955\n",
      "205001 \t 52.45183228 \t 0.76799954 \t 84.30073677 \t 0.78730327 \t 299.319 \t 545.38923788\n",
      "206001 \t 52.45138155 \t 0.76798567 \t 84.28093933 \t 0.78738654 \t 299.441 \t 544.22328639\n",
      "207001 \t 52.4612189 \t 0.76782589 \t 84.25362991 \t 0.78749261 \t 299.566 \t 544.4602809\n",
      "208001 \t 52.46343956 \t 0.76771781 \t 84.22727028 \t 0.78758142 \t 299.685 \t 545.22097993\n",
      "209001 \t 52.45194711 \t 0.76784085 \t 84.20199341 \t 0.78766247 \t 299.803 \t 545.2102437\n",
      "210001 \t 52.45680028 \t 0.76776654 \t 84.1789183 \t 0.78776162 \t 299.919 \t 545.79040956\n",
      "211001 \t 52.44871449 \t 0.7677538 \t 84.14727203 \t 0.787873 \t 300.033 \t 546.458673\n",
      "212001 \t 52.43905159 \t 0.76779236 \t 84.11892311 \t 0.78798537 \t 300.149 \t 544.90574241\n",
      "213001 \t 52.45403687 \t 0.76758966 \t 84.08440208 \t 0.78810158 \t 300.26 \t 544.67622375\n",
      "214001 \t 52.43588325 \t 0.76760263 \t 84.05563347 \t 0.78821324 \t 300.378 \t 540.77307773\n",
      "215001 \t 52.43204757 \t 0.76764854 \t 84.01982811 \t 0.788384 \t 300.491 \t 537.56817317\n",
      "216001 \t 52.41943207 \t 0.76767038 \t 83.99534599 \t 0.78852359 \t 300.607 \t 538.22761488\n",
      "217001 \t 52.41651287 \t 0.76770157 \t 83.96407761 \t 0.78869944 \t 300.724 \t 537.68693304\n",
      "218001 \t 52.41744773 \t 0.76769488 \t 83.93008789 \t 0.78885965 \t 300.843 \t 537.39950228\n",
      "219001 \t 52.39574637 \t 0.76777722 \t 83.89754135 \t 0.78896539 \t 300.954 \t 538.52607536\n",
      "220001 \t 52.39207434 \t 0.76768731 \t 83.87024651 \t 0.78907318 \t 301.069 \t 537.98213053\n",
      "221001 \t 52.37799054 \t 0.76774065 \t 83.83604462 \t 0.78917337 \t 301.179 \t 537.1650362\n",
      "222001 \t 52.37062616 \t 0.76780423 \t 83.80444695 \t 0.78927726 \t 301.292 \t 537.55795169\n",
      "223001 \t 52.36466096 \t 0.76782672 \t 83.77916229 \t 0.78935822 \t 301.398 \t 538.79209757\n",
      "224001 \t 52.36785213 \t 0.76777883 \t 83.7450872 \t 0.78948633 \t 301.512 \t 538.12178397\n",
      "225001 \t 52.35701402 \t 0.76788076 \t 83.70873322 \t 0.78964927 \t 301.621 \t 536.98553491\n",
      "226001 \t 52.36588825 \t 0.76790223 \t 83.67574272 \t 0.78980571 \t 301.729 \t 537.5359416\n",
      "227001 \t 52.36418633 \t 0.76784627 \t 83.64609535 \t 0.78990272 \t 301.839 \t 537.78228688\n",
      "228001 \t 52.34685803 \t 0.7680245 \t 83.61865974 \t 0.79004448 \t 301.947 \t 536.05537701\n",
      "229001 \t 52.34115495 \t 0.76807921 \t 83.58747681 \t 0.79022275 \t 302.06 \t 537.58093905\n",
      "230001 \t 52.34630929 \t 0.76811321 \t 83.56470154 \t 0.79034233 \t 302.17 \t 537.09627485\n",
      "231001 \t 52.34387466 \t 0.76814961 \t 83.54436722 \t 0.79045262 \t 302.271 \t 537.49209905\n",
      "232001 \t 52.35358511 \t 0.76809279 \t 83.52489502 \t 0.79053567 \t 302.377 \t 538.80930877\n",
      "233001 \t 52.35854702 \t 0.76803172 \t 83.51269089 \t 0.79062553 \t 302.478 \t 539.10725951\n",
      "234001 \t 52.35106754 \t 0.76807188 \t 83.50451759 \t 0.79071241 \t 302.584 \t 539.30562758\n",
      "235001 \t 52.35155892 \t 0.76804524 \t 83.48075394 \t 0.79082213 \t 302.684 \t 536.71606708\n",
      "236001 \t 52.34177238 \t 0.7680892 \t 83.45205078 \t 0.79093699 \t 302.787 \t 538.24390721\n",
      "237001 \t 52.33054149 \t 0.76816186 \t 83.41059639 \t 0.7911199 \t 302.893 \t 537.92360854\n",
      "238001 \t 52.32309315 \t 0.76823208 \t 83.37031891 \t 0.79132468 \t 302.998 \t 537.60200477\n",
      "239001 \t 52.30949525 \t 0.76826752 \t 83.3387944 \t 0.79147244 \t 303.1 \t 538.12027717\n",
      "240001 \t 52.30200544 \t 0.76835564 \t 83.31420013 \t 0.79156738 \t 303.202 \t 537.92963743\n",
      "241001 \t 52.28680764 \t 0.7684529 \t 83.28278519 \t 0.79169628 \t 303.297 \t 541.24874449\n",
      "242001 \t 52.27336554 \t 0.76840852 \t 83.24645012 \t 0.79183453 \t 303.398 \t 539.5676055\n",
      "243001 \t 52.28656231 \t 0.7682103 \t 83.21571144 \t 0.79198572 \t 303.497 \t 537.91759777\n",
      "244001 \t 52.28057796 \t 0.76819101 \t 83.18900414 \t 0.79209274 \t 303.597 \t 541.19058681\n",
      "245001 \t 52.27086694 \t 0.76816434 \t 83.16352829 \t 0.79211819 \t 303.695 \t 538.30034661\n",
      "246001 \t 52.27104408 \t 0.76816794 \t 83.14126663 \t 0.79216344 \t 303.796 \t 539.33087516\n",
      "247001 \t 52.27742033 \t 0.76809387 \t 83.11236542 \t 0.79225419 \t 303.897 \t 538.54350972\n",
      "248001 \t 52.28424348 \t 0.76801073 \t 83.08300827 \t 0.79237446 \t 304.0 \t 537.62771893\n",
      "249001 \t 52.28500292 \t 0.76802182 \t 83.05335876 \t 0.79247451 \t 304.098 \t 538.07076597\n",
      "250001 \t 52.28462452 \t 0.76797523 \t 83.0281321 \t 0.79256532 \t 304.199 \t 538.25656939\n",
      "251001 \t 52.28743058 \t 0.76797058 \t 83.01492767 \t 0.79261271 \t 304.29 \t 539.00641036\n",
      "252001 \t 52.26370089 \t 0.76817482 \t 82.99487152 \t 0.79269259 \t 304.383 \t 539.16636872\n",
      "253001 \t 52.24155573 \t 0.76836356 \t 82.97619911 \t 0.7927729 \t 304.479 \t 537.85079813\n",
      "254001 \t 52.22761402 \t 0.76848847 \t 82.95582527 \t 0.79287768 \t 304.574 \t 538.69693995\n",
      "255001 \t 52.23000296 \t 0.76847427 \t 82.93813705 \t 0.79293671 \t 304.665 \t 539.59152484\n",
      "256001 \t 52.21579327 \t 0.76864468 \t 82.91941238 \t 0.79301984 \t 304.759 \t 539.01699591\n",
      "257001 \t 52.19712109 \t 0.76874162 \t 82.89816139 \t 0.79310034 \t 304.856 \t 542.35956073\n",
      "258001 \t 52.21298852 \t 0.76864371 \t 82.86863319 \t 0.79325382 \t 304.947 \t 538.74865198\n",
      "259001 \t 52.22607266 \t 0.76862249 \t 82.84543617 \t 0.79339048 \t 305.042 \t 538.7681334\n",
      "260001 \t 52.22944023 \t 0.76859749 \t 82.82033279 \t 0.79352987 \t 305.136 \t 538.27477407\n",
      "261001 \t 52.24182695 \t 0.76856261 \t 82.79787201 \t 0.79362045 \t 305.226 \t 540.12084031\n",
      "262001 \t 52.24339625 \t 0.76868792 \t 82.77815987 \t 0.79373009 \t 305.313 \t 538.63578486\n",
      "263001 \t 52.23605743 \t 0.76883878 \t 82.75281563 \t 0.79383007 \t 305.408 \t 538.98154664\n",
      "264001 \t 52.23193096 \t 0.76894708 \t 82.71913254 \t 0.79395146 \t 305.497 \t 539.69571185\n",
      "265001 \t 52.21880035 \t 0.76906211 \t 82.69075432 \t 0.79408268 \t 305.586 \t 539.65826321\n",
      "266001 \t 52.21258219 \t 0.76916146 \t 82.67534615 \t 0.79412991 \t 305.673 \t 538.78685451\n",
      "267001 \t 52.1936034 \t 0.76930861 \t 82.65075729 \t 0.79421693 \t 305.763 \t 548.45967722\n",
      "268001 \t 52.1928609 \t 0.769394 \t 82.6282457 \t 0.79432727 \t 305.856 \t 538.35901499\n",
      "269001 \t 52.20602077 \t 0.76929844 \t 82.60729301 \t 0.79442652 \t 305.945 \t 538.25529885\n",
      "270001 \t 52.22057854 \t 0.7691567 \t 82.59039001 \t 0.79447517 \t 306.038 \t 538.76874352\n",
      "271001 \t 52.21544613 \t 0.76925684 \t 82.56677727 \t 0.79459588 \t 306.124 \t 539.37664771\n",
      "272001 \t 52.21291247 \t 0.76931539 \t 82.54613358 \t 0.79472722 \t 306.207 \t 540.24441838\n",
      "273001 \t 52.21708638 \t 0.76916778 \t 82.53040009 \t 0.7947841 \t 306.292 \t 539.22117352\n",
      "274001 \t 52.21682448 \t 0.76907726 \t 82.51085526 \t 0.79484202 \t 306.375 \t 539.51825142\n",
      "275001 \t 52.22026384 \t 0.76897578 \t 82.4842189 \t 0.79494059 \t 306.46 \t 539.48031044\n",
      "276001 \t 52.21921372 \t 0.76903091 \t 82.4643248 \t 0.79502041 \t 306.546 \t 539.01623607\n",
      "277001 \t 52.2171154 \t 0.7690132 \t 82.44050575 \t 0.79515318 \t 306.633 \t 548.21073008\n",
      "278001 \t 52.20252122 \t 0.76905381 \t 82.41647003 \t 0.79528969 \t 306.719 \t 555.88697219\n",
      "279001 \t 52.20283525 \t 0.76906259 \t 82.39409409 \t 0.79542078 \t 306.807 \t 557.45969868\n",
      "280001 \t 52.18691652 \t 0.76909774 \t 82.37207924 \t 0.79550215 \t 306.891 \t 545.86230707\n",
      "281001 \t 52.20211825 \t 0.7689877 \t 82.35130241 \t 0.79559249 \t 306.976 \t 547.2646687\n",
      "282001 \t 52.21579658 \t 0.76888852 \t 82.3392276 \t 0.79563222 \t 307.06 \t 545.47554755\n",
      "283001 \t 52.23960286 \t 0.7686474 \t 82.32476082 \t 0.79567519 \t 307.14 \t 553.4569664\n",
      "284001 \t 52.25445763 \t 0.76852728 \t 82.31811668 \t 0.79568225 \t 307.222 \t 558.39359331\n",
      "285001 \t 52.24314612 \t 0.76863205 \t 82.30828865 \t 0.79575529 \t 307.302 \t 558.7978723\n",
      "286001 \t 52.24194393 \t 0.76864937 \t 82.28700714 \t 0.7958257 \t 307.388 \t 555.53910589\n",
      "287001 \t 52.22778294 \t 0.76879244 \t 82.26450279 \t 0.79590108 \t 307.466 \t 551.96339202\n",
      "288001 \t 52.19574447 \t 0.76902546 \t 82.2393576 \t 0.79599887 \t 307.546 \t 551.67809629\n",
      "289001 \t 52.17008634 \t 0.76912601 \t 82.22021629 \t 0.79610261 \t 307.628 \t 551.9005177\n"
     ]
    },
    {
     "name": "stdout",
     "output_type": "stream",
     "text": [
      "290001 \t 52.14327092 \t 0.76931919 \t 82.20002213 \t 0.79621456 \t 307.711 \t 552.25188303\n",
      "291001 \t 52.13030952 \t 0.76938447 \t 82.17811432 \t 0.79631236 \t 307.787 \t 552.51575136\n",
      "292001 \t 52.11388554 \t 0.76946612 \t 82.15575478 \t 0.7964117 \t 307.867 \t 549.1782186\n",
      "293001 \t 52.11423985 \t 0.7694318 \t 82.13356018 \t 0.79651815 \t 307.943 \t 549.82873058\n",
      "294001 \t 52.11190169 \t 0.7694991 \t 82.11470734 \t 0.79660096 \t 308.021 \t 548.69490504\n",
      "295001 \t 52.12566043 \t 0.76950067 \t 82.09516319 \t 0.79668718 \t 308.099 \t 548.55338788\n",
      "296001 \t 52.12222643 \t 0.76962583 \t 82.08033104 \t 0.79670093 \t 308.178 \t 550.2971735\n",
      "297001 \t 52.13036561 \t 0.76956032 \t 82.05902252 \t 0.79680362 \t 308.257 \t 547.90722537\n",
      "298001 \t 52.14432141 \t 0.76944742 \t 82.03444244 \t 0.79692766 \t 308.335 \t 549.46138787\n",
      "299001 \t 52.15547127 \t 0.76935897 \t 82.00892288 \t 0.79701882 \t 308.412 \t 548.15608764\n",
      "\n",
      "TRAINING DONE\n"
     ]
    }
   ],
   "source": [
    "with tf.Session(graph=graph) as session:\n",
    "    tf.global_variables_initializer().run()\n",
    "    print(\"Initialized\")\n",
    "    ptime = time.time()\n",
    "    tfconfig = tf.ConfigProto()\n",
    "    tfconfig.gpu_options.allow_growth=gpu_memory_growth\n",
    "    init_op = tf.global_variables_initializer()    \n",
    "    sess = tf.Session(config=tfconfig)\n",
    "    sess.run(init_op)\n",
    "    print ('iter\\t test_squ_loss\\t test_avg_prec\\t',\n",
    "           'train_squ_loss\\t train_avg_prec\\t regularization\\t time (in s)')\n",
    "    for step in range(num_steps):        \n",
    "        #print('Step',step)\n",
    "        #print('There are {} samples in the test set'.format(len(model_stats.test_ids)))\n",
    "        #print('There are {} samples in the train set'.format(len(model_stats.train_ids)))\n",
    "       \n",
    "        xmb, ymb = get_training_batch(model_stats, batch_size, window, \n",
    "                                      pitch_transforms, jitter)\n",
    "        \n",
    "        # every 1000-nd step save the results           \n",
    "        if step%control_step==0:\n",
    "            # training step \n",
    "            # to check output the loss (save the loss but you cannot compare it with the mse_train)\n",
    "            _, np_loss, np_global_step, np_lr, reg_np = \\\n",
    "            sess.run([training_op, loss, global_step, lr, reg], \n",
    "                                     feed_dict={xb: xmb, yb: ymb})\n",
    "            \n",
    "            # A) run model on test set\n",
    "                        \n",
    "            # 1. get the test set\n",
    "            X,Y = get_test_sample(model_stats.test_ids, window, 1000)\n",
    "            Y = Y[:,base_note:base_note+mm] # in general without effect\n",
    "            # shape Xtest: (1000*len(test_ids), 1, 16384, 1)\n",
    "            # shape Ytest: (1000*len(test_ids), 128)\n",
    "            # extended test-set: 11 samples\n",
    "\n",
    "            \n",
    "            # 2. prediction of output and calculation of\n",
    "            # - MSE\n",
    "            # - average precision\n",
    "            Y_p, mse_test = predict_direct_model(sess, X, Y)\n",
    "            avp_test = average_precision_score(Y.flatten(), Y_p.flatten())\n",
    "            \n",
    "            del X,Y,Y_p\n",
    "            \n",
    "            # B) run model on training set\n",
    "            \n",
    "            # 1. get training sample\n",
    "            X,Y = get_training_sample(window)\n",
    "            Y = Y[:,base_note:base_note+mm] # in general without effect\n",
    "            # shape Xtrain: (15000, 1, 16384, 1)\n",
    "            # shape Ytrain: (15000, 128)\n",
    "            \n",
    "            # 2. prediction of output and calculation of\n",
    "            # - MSE\n",
    "            # - average precision\n",
    "            Y_p, mse_train = predict_direct_model(sess, X, Y)\n",
    "            avp_train = average_precision_score(Y.flatten(), Y_p.flatten())\n",
    "            \n",
    "            del X,Y,Y_p\n",
    "            \n",
    "            # c) Print the temporary results\n",
    "            print (np_global_step,'\\t', round(mse_test,8),\n",
    "                    '\\t', round(avp_test,8),\n",
    "                    '\\t', round(mse_train,8),\n",
    "                    '\\t', round(avp_train,8),\n",
    "                    '\\t', round(reg_np,8),\n",
    "                    '\\t', round(time.time() - ptime,8))\n",
    "            \n",
    "            #D) Save the temporary results\n",
    "            model_stats.stats['iter'][2].append(np_global_step)\n",
    "            # protocol learning rate\n",
    "            model_stats.stats['lr'][2].append(np_lr)\n",
    "            # protocol runtime\n",
    "            model_stats.stats['time'][2].append(time.time() - ptime)\n",
    "            # protocol weights and its norms\n",
    "            weight_norms = dict()\n",
    "            for name, w in model_stats.weights.items():\n",
    "                weight_norms[name] = np.mean(np.linalg.norm(w.eval(session=sess),axis=0))\n",
    "            for name, norm in weight_norms.items():\n",
    "                model_stats.stats['n'+name][2].append(norm)\n",
    "            # protocol training errors     \n",
    "            track = []\n",
    "            model_stats.stats['mse_train_1'][2].append(np_loss)\n",
    "            model_stats.stats['mse_train'][2].append(mse_train)\n",
    "            track += [tf.summary.scalar('mse_train', mse_train)]\n",
    "            model_stats.stats['avp_train'][2].append(avp_train)\n",
    "            track += [tf.summary.scalar('avp_train', avp_train)]\n",
    "            # protocol test errors\n",
    "            model_stats.stats['mse_test'][2].append(mse_test)\n",
    "            track += [tf.summary.scalar('mse_test', mse_test)]\n",
    "            model_stats.stats['avp_test'][2].append(avp_test)\n",
    "            track += [tf.summary.scalar('avp_test', avp_test)]\n",
    "            ptime = time.time()\n",
    "            \n",
    "                   \n",
    "        else:\n",
    "            #training step \n",
    "            sess.run([training_op], feed_dict={xb: xmb, yb: ymb})\n",
    "        \n",
    "        if step/num_steps==0.5 or (step+1)/num_steps==1:\n",
    "            saver.save(sess, 'models_'+notebook_reference+'/model', global_step=step)            \n",
    "        \n",
    "    print ('\\nTRAINING DONE')"
   ]
  },
  {
   "cell_type": "code",
   "execution_count": 61,
   "metadata": {},
   "outputs": [],
   "source": [
    "X,Y = get_test_sample(model_stats.test_ids, window, 1000)\n",
    "Y = Y[:,base_note:base_note+mm] # in general without effect\n",
    "# shape Xtest: (1000*len(test_ids), 1, 16384, 1)\n",
    "# shape Ytest: (1000*len(test_ids), 128)\n",
    "# extended test-set: 11 samples\n",
    "\n",
    "\n",
    "# 2. prediction of output and calculation of\n",
    "# - MSE\n",
    "# - average precision\n",
    "Y_p, mse_test = predict_direct_model(sess, X, Y)"
   ]
  },
  {
   "cell_type": "code",
   "execution_count": null,
   "metadata": {},
   "outputs": [],
   "source": []
  },
  {
   "cell_type": "markdown",
   "metadata": {},
   "source": [
    "### 7. Post Processing\n",
    "\n",
    "Define functions to save the model_results diccionary to a file and load it."
   ]
  },
  {
   "cell_type": "code",
   "execution_count": 62,
   "metadata": {},
   "outputs": [],
   "source": [
    "# in case diccionary should be printed\n",
    "def print_dict(dictionary):\n",
    "    for key, value in  dictionary.items():\n",
    "        print (key)\n",
    "        print (value)\n",
    "#print_dict(model_stats.stats)\n",
    "    \n",
    "#save diccionary\n",
    "def save_obj(obj, name ):\n",
    "    with open(name + '.pkl', 'wb') as f:\n",
    "        pickle.dump(obj, f, pickle.HIGHEST_PROTOCOL)\n",
    "\n",
    "# load diccionary\n",
    "def load_obj(name ):\n",
    "    with open(name + '.pkl', 'rb') as f:\n",
    "        return pickle.load(f)\n"
   ]
  },
  {
   "cell_type": "markdown",
   "metadata": {},
   "source": [
    "#### 7.1 Plots"
   ]
  },
  {
   "cell_type": "code",
   "execution_count": 63,
   "metadata": {},
   "outputs": [],
   "source": [
    "# save diccionary to have a look at outputs at other times\n",
    "save_obj(model_stats.stats, 'results/'+notebook_reference+'_stats')"
   ]
  },
  {
   "cell_type": "code",
   "execution_count": 68,
   "metadata": {},
   "outputs": [],
   "source": [
    "results_stats = load_obj('results/'+notebook_reference+'_stats')\n",
    "\n",
    "# size of plots\n",
    "width = 20\n",
    "height = 13\n",
    "fontsize = 24\n",
    "control_step = 1000"
   ]
  },
  {
   "cell_type": "code",
   "execution_count": 69,
   "metadata": {},
   "outputs": [
    {
     "data": {
      "text/plain": [
       "<matplotlib.text.Text at 0x7f0bd06b73c8>"
      ]
     },
     "execution_count": 69,
     "metadata": {},
     "output_type": "execute_result"
    },
    {
     "data": {
      "image/png": "[encoded data removed]",
      "text/plain": [
       "<matplotlib.figure.Figure at 0x7f0bd068a630>"
      ]
     },
     "metadata": {
      "needs_background": "light"
     },
     "output_type": "display_data"
    }
   ],
   "source": [
    "iters_res = results_stats['iter'][2]\n",
    "time_res = results_stats['time'][2]\n",
    "lr_res = results_stats['lr'][2]\n",
    "\n",
    "plt.figure(figsize=(width, height/2))\n",
    "plt.rcParams['xtick.labelsize']=fontsize\n",
    "plt.rcParams['ytick.labelsize']=fontsize\n",
    "#plot time needed for 'control_step' steps\n",
    "\"\"\"\n",
    "plt.subplot(2, 1, 1)\n",
    "plt.title('Runtime and Learning Rate')\n",
    "plt.plot(iters_res[1:], time_res[1:], c=\"darkblue\")\n",
    "plt.ylabel('Runtime of last '+str(control_step)+' steps (sec)')\n",
    "plt.ylim( (0.9*np.min(time_res[1:]), 1.1*np.max(time_res[1:])))\n",
    "\n",
    "plt.subplot(2, 1, 2)\n",
    "\"\"\"\n",
    "plt.subplot(1, 1, 1)\n",
    "plt.plot(iters_res[1:], lr_res[1:], c=\"darkblue\")\n",
    "plt.ylabel('Learning rate',fontsize=fontsize)\n",
    "plt.xlabel('Iteration',fontsize=fontsize)\n",
    "\n",
    "#plt.savefig('results/plots/'+notebook_reference+'_runtime_lr.png')"
   ]
  },
  {
   "cell_type": "code",
   "execution_count": 70,
   "metadata": {},
   "outputs": [
    {
     "data": {
      "text/plain": [
       "<matplotlib.text.Text at 0x7f0bd0101a20>"
      ]
     },
     "execution_count": 70,
     "metadata": {},
     "output_type": "execute_result"
    },
    {
     "data": {
      "image/png": "[encoded data removed]",
      "text/plain": [
       "<matplotlib.figure.Figure at 0x7f0bd01e3c50>"
      ]
     },
     "metadata": {
      "needs_background": "light"
     },
     "output_type": "display_data"
    }
   ],
   "source": [
    "mse_train_res = results_stats['mse_train'][2]\n",
    "mse_test_res = results_stats['mse_test'][2]\n",
    "\n",
    "avp_train_res = results_stats['avp_train'][2]\n",
    "avp_test_res = results_stats['avp_test'][2]\n",
    "\n",
    "plt.figure(figsize=(width, height))\n",
    "\n",
    "#plot mean squared error\n",
    "plt.subplot(2, 1, 1)\n",
    "#plt.title('Error and Precision',fontsize=fontsize)\n",
    "plt.plot(iters_res, mse_train_res, label='Training', c=\"c\")\n",
    "plt.plot(iters_res, mse_test_res, label='Test', c=\"darkblue\")\n",
    "plt.legend(fontsize=fontsize)\n",
    "plt.ylabel('Mean Square Error',fontsize=fontsize)\n",
    "\n",
    "#plot average precision\n",
    "plt.subplot(2, 1, 2)\n",
    "plt.plot(iters_res, avp_train_res, label='Training', c=\"c\")\n",
    "plt.plot(iters_res, avp_test_res, label='Test', c=\"darkblue\")\n",
    "plt.legend(fontsize=fontsize)\n",
    "plt.ylabel('Average Precision',fontsize=fontsize)\n",
    "plt.xlabel('Iteration',fontsize=fontsize)\n",
    "\n",
    "#plt.savefig('results/plots/'+notebook_reference+'_error_prec.png')"
   ]
  },
  {
   "cell_type": "code",
   "execution_count": 71,
   "metadata": {},
   "outputs": [
    {
     "data": {
      "text/plain": [
       "<matplotlib.text.Text at 0x7f0ba83bae48>"
      ]
     },
     "execution_count": 71,
     "metadata": {},
     "output_type": "execute_result"
    },
    {
     "data": {
      "image/png": "[encoded data removed]",
      "text/plain": [
       "<matplotlib.figure.Figure at 0x7f0bd87a4e48>"
      ]
     },
     "metadata": {
      "needs_background": "light"
     },
     "output_type": "display_data"
    }
   ],
   "source": [
    "nw = results_stats['nw'][2]\n",
    "nw2 = results_stats['nw2'][2]\n",
    "nbeta = results_stats['nbeta'][2]\n",
    "\n",
    "plt.figure(figsize=(width, height))\n",
    "\n",
    "plt.subplot(2, 1, 1)\n",
    "#plt.title('Norm of the Weights of Hidden and Output Layer',fontsize=fontsize)\n",
    "plt.plot(iters_res, nw, label='2nd layer', c=\"darkblue\")\n",
    "plt.plot(iters_res, nw2, label='3rd layer', c=\"c\")\n",
    "\n",
    "plt.legend(fontsize=fontsize)\n",
    "plt.ylabel('l2-Norm',fontsize=fontsize)\n",
    "\n",
    "plt.subplot(2, 1, 2)\n",
    "\n",
    "plt.plot(iters_res, nbeta, label='Output layer', c=\"darkblue\")\n",
    "plt.legend(fontsize=fontsize)\n",
    "plt.ylabel('l2-Norm',fontsize=fontsize)\n",
    "plt.xlabel('Iteration',fontsize=fontsize)\n",
    "\n",
    "#plt.savefig('results/plots/'+notebook_reference+'_weight_norms.png')"
   ]
  },
  {
   "cell_type": "code",
   "execution_count": null,
   "metadata": {},
   "outputs": [],
   "source": []
  },
  {
   "cell_type": "markdown",
   "metadata": {},
   "source": [
    "#### 7.2 Mirex Statistics\n",
    "\n",
    "Statistics that are necesarry for evaluation. The autuor used a threshold of 0.4 for calculation of error etc..."
   ]
  },
  {
   "cell_type": "code",
   "execution_count": 72,
   "metadata": {},
   "outputs": [],
   "source": [
    "def mirex_statistics(Y, Y_p, threshold=.5, base_note=0, mm=128):\n",
    "    \n",
    "    avp = average_precision_score(Y.flatten(), Y_p.flatten())\n",
    "\n",
    "    # we want zeros and ones\n",
    "    Yhat_p = Y_p>threshold\n",
    "    \n",
    "    # obtain frequencies\n",
    "    Yp_list = []\n",
    "    Y_list = []\n",
    "    \n",
    "    # for every sample\n",
    "    for i in range(len(Yhat_p)):\n",
    "        fhat = []\n",
    "        f = []\n",
    "        \n",
    "        for note in range(mm):\n",
    "            if Yhat_p[i][note] == 1:\n",
    "                fhat.append(440.*2**(((note+base_note) - 69.)/12.))\n",
    "            if Y[i][note] == 1:\n",
    "                f.append(440.*2**(((note+base_note) - 69.)/12.))\n",
    "\n",
    "        Yp_list.append(np.array(fhat))\n",
    "        Y_list.append(np.array(f))\n",
    "\n",
    "    # Precision, Recall, Accuracy, Substitution, Miss, False Alarm, and Total Error scores \n",
    "    # based both on raw frequency values and values mapped to a single octave (chroma)\n",
    "    \n",
    "    P,R,Acc,Esub,Emiss,Efa,Etot,cP,cR,cAcc,cEsub,cEmiss,cEfa,cEtot = \\\n",
    "    mir_eval.multipitch.metrics(np.arange(len(Y_list))/100., Y_list,\n",
    "                                np.arange(len(Yp_list))/100., Yp_list)\n",
    "\n",
    "\n",
    "    print('{:.2f}\\t{:.3f}\\t{:.3f}\\t{:.3f}\\t{:.3f}\\t{:.3f}\\t{:.3f}\\t{:.3f}\\t{:.3f}'.format(\n",
    "        threshold,100*avp,100*P,100*R,Acc,Etot,Esub,Emiss,Efa))\n",
    "\n",
    "    return avp,P,R,Acc,Etot\n"
   ]
  },
  {
   "cell_type": "code",
   "execution_count": 73,
   "metadata": {},
   "outputs": [
    {
     "name": "stdout",
     "output_type": "stream",
     "text": [
      "INFO:tensorflow:Restoring parameters from models_190314/model-299999\n",
      "Model restored.\n"
     ]
    }
   ],
   "source": [
    "tf.reset_default_graph()\n",
    "\n",
    "num_steps = 300000\n",
    "\n",
    "# Add ops to save and restore all the variables.\n",
    "saver = tf.train.Saver({'wavg': wavg, 'w2avg': w2avg, 'betaavg': betaavg})\n",
    "\n",
    "# Later, launch the model, use the saver to restore variables from disk, and\n",
    "# do some work with the model.\n",
    "with tf.Session(graph=graph) as sess:\n",
    "    # Restore variables from disk.\n",
    "    saver.restore(sess, 'models_'+notebook_reference+'/model-'+str(num_steps-1))\n",
    "    print(\"Model restored.\")\n",
    "    # Check the values of the variables\n",
    "\n",
    "    # A) run model on test set\n",
    "\n",
    "    # 1. get the test set\n",
    "    X, Y = get_test_sample(model_stats.test_ids, window, 1000)\n",
    "    Y = Y[:,base_note:base_note+mm] # in general without effect\n",
    "    # shape Xtest: (1000*len(test_ids), 1, 16384, 1)\n",
    "    # shape Ytest: (1000*len(test_ids), 128)\n",
    "    # extended test-set: 11 samples\n",
    "\n",
    "\n",
    "    # 2. prediction of output and calculation of\n",
    "    # - MSE\n",
    "    # - average precision\n",
    "    Y_p, mse_test = predict_direct_model(sess, X, Y)\n"
   ]
  },
  {
   "cell_type": "markdown",
   "metadata": {},
   "source": [
    "With the output of the test sample predicted calculate the mirex statistics:\n",
    "\n",
    "Average Precision (not from mireval), Precision, Recall, Accuracy, Total Error, Substitution, Miss, False Alarm"
   ]
  },
  {
   "cell_type": "code",
   "execution_count": 76,
   "metadata": {},
   "outputs": [
    {
     "name": "stdout",
     "output_type": "stream",
     "text": [
      "Thr\tAvgP\tP\tR\tAcc\tETot\tESub\tEmiss\tEfa\n",
      "0.30\t76.937\t66.959\t79.091\t0.569\t0.490\t0.109\t0.100\t0.281\n",
      "0.35\t76.937\t69.474\t76.076\t0.570\t0.465\t0.108\t0.131\t0.226\n",
      "0.40\t76.937\t71.710\t72.898\t0.566\t0.452\t0.106\t0.165\t0.181\n",
      "0.45\t76.937\t73.737\t69.821\t0.559\t0.449\t0.102\t0.200\t0.147\n",
      "0.50\t76.937\t75.607\t66.512\t0.548\t0.454\t0.095\t0.239\t0.119\n"
     ]
    }
   ],
   "source": [
    "print('Thr\\tAvgP\\tP\\tR\\tAcc\\tETot\\tESub\\tEmiss\\tEfa')\n",
    "for th in [.3, .35,.4, .45, .5]:\n",
    "    #print(\"When using threshold\",th)\n",
    "    avp,P,R,Acc,Etot = mirex_statistics(Y, Y_p, th)"
   ]
  },
  {
   "cell_type": "code",
   "execution_count": null,
   "metadata": {},
   "outputs": [],
   "source": []
  }
 ],
 "metadata": {
  "kernelspec": {
   "display_name": "Python 3",
   "language": "python",
   "name": "python3"
  },
  "language_info": {
   "codemirror_mode": {
    "name": "ipython",
    "version": 3
   },
   "file_extension": ".py",
   "mimetype": "text/x-python",
   "name": "python",
   "nbconvert_exporter": "python",
   "pygments_lexer": "ipython3",
   "version": "3.6.6"
  }
 },
 "nbformat": 4,
 "nbformat_minor": 2
}
