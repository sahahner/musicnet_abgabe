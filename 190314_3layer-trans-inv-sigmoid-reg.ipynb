{
 "cells": [
  {
   "cell_type": "markdown",
   "metadata": {},
   "source": [
    "## Version SIGMOID-REG: \n",
    "- 44,100 Hz sample rate \n",
    "- regularization with beta = 0.001\n",
    "- 300,000 iterations\n",
    "- 0.95 learning rate decay\n",
    "- sigmoid output function\n",
    "- add a BIAS to output layer\n",
    "- learning rate 0.005\n",
    "\n",
    "**Problem:** regularization too strong with 0.01\n"
   ]
  },
  {
   "cell_type": "markdown",
   "metadata": {},
   "source": [
    "### 0. Import the packages"
   ]
  },
  {
   "cell_type": "code",
   "execution_count": 1,
   "metadata": {},
   "outputs": [],
   "source": [
    "import os,sys,shutil,mmap\n",
    "import pickle as pickle\n",
    "import numpy as np                                       # fast vectors and matrices\n",
    "import matplotlib.pyplot as plt                          # plotting\n",
    "from scipy.fftpack import fft\n",
    "\n",
    "import time\n",
    "\n",
    "sys.path.insert(0,'lib/')\n",
    "import config\n",
    "\n",
    "from sklearn.metrics import average_precision_score\n",
    "\n",
    "import tensorflow as tf\n",
    "\n",
    "import mir_eval\n",
    "\n",
    "%matplotlib inline\n",
    "\n",
    "notebook_reference = str(190314_3)"
   ]
  },
  {
   "cell_type": "code",
   "execution_count": 2,
   "metadata": {},
   "outputs": [],
   "source": [
    "debugging = False\n",
    "delete_ids = [2560, 1792, 2562, 2506, 2564, 2566, 1793, 2568, 2570, 2571, 2572, 2573, 2575, 2576, 2302, 2581, 2582, \n",
    "              2586, 2075, 2076, 2077, 2590, 2079, 2080, 2081, 2594, 2595, 2596, 2603, 2678, 2397, 2608, 2611, 2614, \n",
    "              2104, 2105, 2619, 2620, 2621, 2622, 2112, 2113, 2114, 2627, 2116, 2629, 2118, 2119, 2632, 2633, 2127, \n",
    "              2131, 2138, 2319, 2140, 2405, 2659, 2148, 2149, 2150, 2151, 2154, 2155, 2156, 2157, 2158, 2159, 2160, \n",
    "              2161, 2677, 2166, 2167, 2168, 2169, 2239, 2325, 2177, 2178, 2179, 2180, 1729, 2186, 2242, 2194, 2195, \n",
    "              2196, 1829, 2198, 2200, 2201, 2202, 2203, 2204, 2330, 2207, 2208, 2209, 2210, 2211, 2212, 2213, 2214, \n",
    "              2215, 2588, 2218, 2219, 2220, 2221, 2222, 2224, 2225, 2227, 2228, 2229, 2230, 2231, 2232, 2234, 2591, \n",
    "              2237, 2238, 1727, 1728, 2241, 1730, 2243, 2244, 1733, 1734, 2593, 2248, 1739, 2240, 2082, 1742, 2083, \n",
    "              1749, 1750, 1751, 1752, 1755, 1756, 1757, 1758, 1760, 1763, 1764, 1765, 1766, 1768, 2282, 1771, 1772, \n",
    "              1773, 1775, 1776, 1777, 2292, 2293, 2294, 2295, 2296, 2297, 1919, 1788, 1789, 1790, 2304, 2305, 2307, \n",
    "              2308, 2310, 2313, 2314, 2315, 1805, 2318, 1807, 2320, 2322, 1811, 1812, 1813, 1817, 1818, 2334, 2335, \n",
    "              2336, 1828, 2341, 2342, 2343, 2567, 2345, 2346, 1835, 2348, 2350, 2491, 2357, 2358, 2359, 2364, 2365, \n",
    "              2366, 2368, 2371, 2372, 2373, 2374, 2529, 2376, 2377, 2379, 2443, 2381, 2383, 2384, 1873, 2388, 2389, \n",
    "              2390, 2391, 2392, 2393, 2618, 2398, 2403, 2404, 1893, 2406, 2410, 2411, 2415, 2417, 2147, 2451, 2420, \n",
    "              2422, 2423, 2424, 1916, 2538, 1918, 2431, 2432, 2433, 1922, 1923, 2436, 2441, 2442, 1931, 1932, 2626, \n",
    "              1735, 2285, 1859, 2247, 2117, 2288, 2466, 2444, 2289, 2472, 2473, 2476, 2477, 2478, 2480, 2481, 2482, \n",
    "              2483, 2462, 2486, 2487, 2488, 2490, 2463, 2492, 2494, 2555, 2497, 1822, 2501, 2502, 2504, 2505, 2078, 2507]"
   ]
  },
  {
   "cell_type": "markdown",
   "metadata": {},
   "source": [
    "### 1. Import the data\n",
    "Import the recording and labels of the 331 recordings from the data base.\n",
    "\n",
    "#### 1.1 Import the labels of the data set.\n",
    "The 331 labels are saved in a dictionary whose\n",
    "- keys are integers (the ids of the recordings)\n",
    "- values are intervaltrees (for the different intervals of the recording it gives the played notes between 1 and 128)"
   ]
  },
  {
   "cell_type": "code",
   "execution_count": 3,
   "metadata": {},
   "outputs": [],
   "source": [
    "with open(config.labels_path, 'rb') as f:\n",
    "    labels = pickle.load(f)"
   ]
  },
  {
   "cell_type": "code",
   "execution_count": 4,
   "metadata": {},
   "outputs": [
    {
     "name": "stdout",
     "output_type": "stream",
     "text": [
      "331 labels\n"
     ]
    }
   ],
   "source": [
    "print(len(labels), 'labels')"
   ]
  },
  {
   "cell_type": "code",
   "execution_count": 5,
   "metadata": {},
   "outputs": [
    {
     "name": "stdout",
     "output_type": "stream",
     "text": [
      "2239\n",
      "<class 'intervaltree.intervaltree.IntervalTree'>\n"
     ]
    }
   ],
   "source": [
    "for key, value in labels.items() :\n",
    "    if key == 2239:\n",
    "        # id of the recording\n",
    "        print (key)\n",
    "        # intervaltree containing for each note intervals in which it is played\n",
    "        print (type(value))"
   ]
  },
  {
   "cell_type": "markdown",
   "metadata": {},
   "source": [
    "#### 1.2 Import recordings\n",
    "\n",
    "Create a dictionary containing the data (recordings). Use Memory-mapped file objects.\n",
    "For each recording data[rec_id] is a tuple:\n",
    "1. data[rec_id][0] is the memory-mapped file object to the recording. It can be accesed by \n",
    "~~~~~~\n",
    "np.frombuffer(data[rec_id][0], dtype=np.float32).copy()\n",
    "~~~~~~\n",
    "2. data[rec_id][1] is its length (float)"
   ]
  },
  {
   "cell_type": "code",
   "execution_count": 6,
   "metadata": {},
   "outputs": [],
   "source": [
    "sz_float = 4"
   ]
  },
  {
   "cell_type": "code",
   "execution_count": 7,
   "metadata": {},
   "outputs": [],
   "source": [
    "data = dict()\n",
    "for record in os.listdir(config.records_path):\n",
    "    fd = os.open(config.records_path + record, os.O_RDONLY)\n",
    "    buff = mmap.mmap(fd, 0, mmap.MAP_SHARED, mmap.PROT_READ)\n",
    "    data[int(record[:-4])] = (buff, len(buff)/sz_float)\n",
    "    os.close(fd)"
   ]
  },
  {
   "cell_type": "code",
   "execution_count": 8,
   "metadata": {},
   "outputs": [
    {
     "name": "stdout",
     "output_type": "stream",
     "text": [
      "Key: 2494 , Format: <class 'int'>\n",
      "Value: (<mmap.mmap object at 0x7f7f897e9270>, 13100544.0)\n",
      "1. Entry: Memory-mapped file objects , <mmap.mmap object at 0x7f7f897e4618>\n",
      "For example:\n",
      "[ 0.00036621  0.00039673  0.00036621  0.00036621  0.00033569  0.00033569\n",
      "  0.00036621  0.00036621  0.00036621  0.00033569  0.00036621  0.00039673]\n",
      "2. Entry: length of recording 5293440.0 , Type: <class 'float'>\n"
     ]
    }
   ],
   "source": [
    "for key, value in data.items() :\n",
    "    if key == 2494:\n",
    "        # id of the recording\n",
    "        print ('Key:',key,', Format:',type(key))\n",
    "        # its value is a tuple\n",
    "        print ('Value:',value)\n",
    "        # 1. value: reference to recording\n",
    "        print (\"1. Entry: Memory-mapped file objects ,\", data[2239][0])\n",
    "        # to access content use:\n",
    "        x = np.frombuffer(data[2239][0], dtype=np.float32).copy()\n",
    "        print('For example:')\n",
    "        print(x[3005:3017])\n",
    "        print (\"2. Entry: length of recording\",str(data[2239][1]),\", Type:\",type(data[2239][1]))\n",
    "        #print(len(x))"
   ]
  },
  {
   "cell_type": "markdown",
   "metadata": {},
   "source": [
    "#### 1.3 Split up in the test and train set"
   ]
  },
  {
   "cell_type": "code",
   "execution_count": 9,
   "metadata": {},
   "outputs": [
    {
     "name": "stdout",
     "output_type": "stream",
     "text": [
      "There are 11 samples in the test set\n",
      "There are 320 samples in the train set\n"
     ]
    }
   ],
   "source": [
    "extended_test_set = True\n",
    "use_mirex = True\n",
    "    \n",
    "# use the small or big test set\n",
    "if extended_test_set:\n",
    "    test_ids = config.test_ids_ext\n",
    "else:\n",
    "    test_ids = config.test_ids\n",
    "\n",
    "# include the mirex dev set in test results\n",
    "if use_mirex:\n",
    "    test_ids = test_ids + config.mirex_id\n",
    "\n",
    "train_ids = [rec_id for rec_id in labels.keys() if rec_id not in test_ids]\n",
    "\n",
    "if debugging == True:\n",
    "    train_ids = [rec_id for rec_id in train_ids if rec_id not in delete_ids]\n",
    "\n",
    "\n",
    "print('There are {} samples in the test set'.format(len(test_ids)))\n",
    "print('There are {} samples in the train set'.format(len(train_ids)))"
   ]
  },
  {
   "cell_type": "markdown",
   "metadata": {},
   "source": [
    "### 2. Preprocessing\n",
    "\n",
    "The input data (recordings) are normalized and the possible note range is defines to 128 notes. The lowest note is ..., the highest ... ."
   ]
  },
  {
   "cell_type": "code",
   "execution_count": 10,
   "metadata": {},
   "outputs": [],
   "source": [
    "# Normalize the recordings\n",
    "normalize = True\n",
    "# Possible notes are from range [base_note, base_note + m)\n",
    "base_note = 0\n",
    "mm = 128"
   ]
  },
  {
   "cell_type": "markdown",
   "metadata": {},
   "source": [
    "#### 2.1 Data augmentation\n",
    "\n",
    "Always make two small changes to input data by randomly stretching or shrinking our input audio that are not noticable by human hearing, but augment the data set:\n",
    "1. Pitch-shift in the frequency domain: Randomly  shifting  each data points in a minibatch by an integral number of semitones. This reinforces the architectural structure of the translation-invariant network.\n",
    "2. Jittering: continuous shift to each data point. This makes the models more robust to tuning variation between recordings --> regularization\n",
    "\n",
    "Define a function for extracting a sequence and its label as well as applying the data augmentation."
   ]
  },
  {
   "cell_type": "code",
   "execution_count": 11,
   "metadata": {},
   "outputs": [],
   "source": [
    "# pitching: stretching or shrinking our input audio with linear interpolation\n",
    "pitch_transforms=5 # =/- 5 semitones\n",
    "jitter=.1"
   ]
  },
  {
   "cell_type": "markdown",
   "metadata": {},
   "source": [
    "Pitch-shifting corresponds to a multiplication by $2^{1/12}$ (an octave is equal to 12 semitones and corresponds to a factor 2 in the frequency domain) for each semirone.\n",
    "\n",
    "A scaling factor in the frequency domain implies also a scaling factor in the time domain. (speeding up the recording $\\to$ higher frequency $\\to$ sounds higher.\n"
   ]
  },
  {
   "cell_type": "code",
   "execution_count": 12,
   "metadata": {},
   "outputs": [],
   "source": [
    "# function to obtain one data sample from recordings\n",
    "# input:\n",
    "# - rec_id: the id of the recording\n",
    "# - s: frame-number to extract\n",
    "# - window: windowsize\n",
    "# - pitchshift: shift the label by pitchshift halftones\n",
    "# - scaling_factor: scaling factor in frequency domain (includes corrections because of pitch shift and jitter)\n",
    "# - normalize: boolean\n",
    "# output\n",
    "# - x: audio segment of length window\n",
    "# - y: labels, 0-1-vector of length mm\n",
    "def get_data(rec_id,s,window,pitch_shift,scaling_factor, normalize=True):\n",
    "   \n",
    "    x = np.frombuffer(data[rec_id][0][s*sz_float:int(\n",
    "        s+scaling_factor*window)*sz_float], dtype=np.float32).copy()\n",
    "    \n",
    "    if normalize: \n",
    "        x /= np.linalg.norm(x) + config.epsilon\n",
    "\n",
    "    xp = np.arange(window,dtype=np.float32)\n",
    "    # interpolate the discrete function (np.arange(len(x)), x) at the points (scaling_factor*xp)\n",
    "    x = np.interp(scaling_factor*xp,np.arange(len(x),dtype=np.float32),x).astype(np.float32)\n",
    "    # real-valued audio frame with values in the range [−1,1], sampled at 44.1 kHz\n",
    "    # -> x has length window\n",
    "    \n",
    "    y = np.zeros(mm)\n",
    "    # select center of frame\n",
    "    for label in labels[rec_id][s+scaling_factor*window/2]:\n",
    "        y[label.data[1]+pitch_shift-base_note] = 1 # apply pitch shift here (in frequency domain)\n",
    "    \n",
    "    return x,y"
   ]
  },
  {
   "cell_type": "markdown",
   "metadata": {},
   "source": [
    "#### 2.1 Batch-selection\n",
    "Create the training batch applying the above explained methods for Data augmentation"
   ]
  },
  {
   "cell_type": "code",
   "execution_count": 13,
   "metadata": {},
   "outputs": [],
   "source": [
    "# function to create an input batch for one training step\n",
    "# input:\n",
    "# - model_stats: model_results-class containing training_ids\n",
    "# - batch_size (integer)\n",
    "# - window: window-length\n",
    "# - pitch_transforms: integer in [-5,5], number of maximum semitones shifted\n",
    "# - jitter: float in [-0.1,0.1], tuning variation\n",
    "# output:\n",
    "# - xmb: batch for a training step, size: (batch_size,1,window,1)\n",
    "# - ymb: corresponding labels to the batch xmb, size: (batch_size,1,mm)\n",
    "def get_training_batch(model_stats, batch_size, window, pitch_transforms=0, jitter=0):\n",
    "    # arrays for input data (batch)\n",
    "    xmbatch = np.empty([batch_size,1,window,1],dtype=np.float32)\n",
    "    ymbatch = np.empty([batch_size,1,mm],dtype=np.float32)\n",
    "        \n",
    "    # picking randomly batch_size recordings\n",
    "    rec_ids = [model_stats.train_ids[r] for r in \\\n",
    "               np.random.randint(0,len(model_stats.train_ids),batch_size)]\n",
    "        \n",
    "    if pitch_transforms > 0:\n",
    "        transform_type = np.random.randint(-pitch_transforms,\n",
    "                                           pitch_transforms,batch_size)\n",
    "\n",
    "    if jitter > 0:\n",
    "        jitter_amount = np.random.uniform(-jitter,jitter,batch_size)\n",
    "\n",
    "    for i in range(batch_size):\n",
    "        scaling_factor = 1\n",
    "        shift = 0\n",
    "        if pitch_transforms > 0:\n",
    "            shift = transform_type[i]\n",
    "            # half-step has a frequency ratio of 2^(1/12)\n",
    "            # (shift + jitter_amount) halfsteps are shifted\n",
    "            if jitter > 0:\n",
    "                scaling_factor = (2.**((shift+jitter_amount[i])/12.))\n",
    "            else:\n",
    "                # only shift the halftones from pitch_transform\n",
    "                scaling_factor = (2.**(shift/12.))\n",
    "        \n",
    "        # multiply in frequency domain by scaling_factor\n",
    "        \n",
    "        # pick a frame for training randomly\n",
    "        s = np.random.randint(0,data[rec_ids[i]][1]-scaling_factor*window)\n",
    "        xmbatch[i,0,:,0],ymbatch[i,0,:] = get_data(rec_ids[i],s,window,pitch_shift=shift,scaling_factor=scaling_factor)\n",
    "        \n",
    "    return xmbatch, ymbatch"
   ]
  },
  {
   "cell_type": "markdown",
   "metadata": {},
   "source": [
    "#### 2.3 Creation of Training and Test set for protocolling\n",
    "\n",
    "Routines that create sample for the protcoling:\n",
    "1. Routine to obtain the training samples from numpy-file.\n",
    "2. Routine to obtain test samples given the recording IDs of the test samples."
   ]
  },
  {
   "cell_type": "code",
   "execution_count": 14,
   "metadata": {},
   "outputs": [],
   "source": [
    "\n",
    "# function to obtain training sample which is already saved in \n",
    "# numpy fromat in file. only normalization is necessary.\n",
    "# input:\n",
    "# - d: window size (integer)\n",
    "# - normalize: boolean\n",
    "# output:\n",
    "# - Xtrain: training sample of size (15000, 1, d, 1)\n",
    "# - Ytrain: corresponding labels of size (15000, 128)\n",
    "def get_training_sample(d=16384, normalize=True):\n",
    "    cachex = config.tmp + 'Xtrain_ext{}.npy'.format(d)\n",
    "    cachey = config.tmp + 'Ytrain_ext{}.npy'.format(d)\n",
    "    #shape Xtrain: (15000, 1, 16384, 1)\n",
    "    #shape Ytrain: (15000, 128)\n",
    "    if os.path.exists(cachex) and os.path.exists(cachey):\n",
    "        Xtrain = np.load(cachex)\n",
    "        Ytrain = np.load(cachey)\n",
    "    else:\n",
    "        print(cachex)\n",
    "        print(cachey)\n",
    "        raise Exception('Unimplemented')\n",
    "\n",
    "    if normalize:\n",
    "        Xtrain = Xtrain.reshape(len(Xtrain),1,d,1)\n",
    "        for i in range(len(Xtrain)):\n",
    "            Xtrain[i] /= np.linalg.norm(Xtrain[i]) + config.epsilon\n",
    "\n",
    "    return Xtrain,Ytrain\n",
    "\n",
    "\n",
    "# function to obtain test sample using get_data(). every sample is split \n",
    "# up in count sequences.\n",
    "# input:\n",
    "# - rec_ids: ids of test samples\n",
    "# - window: size of the input frame\n",
    "# - count: number of sequences to be created for each sample\n",
    "# - fixed_stride: -1 (stride is adapted to sample) or nonnegative integer\n",
    "# - pitch_shift: value by which recording is stretched or shrinked\n",
    "# output:\n",
    "# - Xtest: test sample of size (count*len(rec_ids),1,window,1)\n",
    "# - Ytest: corresponding labels of size (count*len(rec_ids),mm)\n",
    "def get_test_sample(rec_ids, window, count, fixed_stride=-1, pitch_shift=0):\n",
    "    Xtest = np.zeros([count*len(rec_ids),1,window,1])\n",
    "    Ytest = np.zeros([count*len(rec_ids),mm])\n",
    "    offset = 44100\n",
    "    # calculate scaling factor\n",
    "    sf = 2.**(pitch_shift/12.)\n",
    "    # for every sample create 1000 sequences\n",
    "    for i in range(len(rec_ids)):\n",
    "        X = np.zeros([count,1,window,1])\n",
    "        Y = np.zeros([count,mm])\n",
    "        # calculate teh stride in case it is not fixed\n",
    "        stride = (data[rec_ids[i]][1]-offset-int(sf*window))/count if fixed_stride==-1 else fixed_stride\n",
    "        for j in range(count):\n",
    "            X[j,0,:,0],Y[j] = get_data(rec_ids[i],int(offset+j*stride),window,pitch_shift=int(round(pitch_shift)),scaling_factor=sf)\n",
    "        \n",
    "        Xtest[i*count:(i+1)*count] = X\n",
    "        Ytest[i*count:(i+1)*count] = Y\n",
    "    return Xtest, Ytest"
   ]
  },
  {
   "cell_type": "markdown",
   "metadata": {},
   "source": [
    "Save the results, losses, precicions and weights at each protocol point inside a class."
   ]
  },
  {
   "cell_type": "code",
   "execution_count": 15,
   "metadata": {},
   "outputs": [],
   "source": [
    "class model_results():\n",
    "    def __init__(self, test_ids, train_ids):\n",
    "        # weights\n",
    "        self.weights = dict()\n",
    "        # step\n",
    "        self.iter = 0\n",
    "        # result statistics\n",
    "        self.stats = dict()\n",
    "        self.stats['iter'] = [False,'{:<8}',[]]\n",
    "        # time that has passed since last record\n",
    "        self.stats['time'] = [True,'{:<8.0f}',[]]\n",
    "        self.stats['lr'] = [False,'{:<8.6f}',[]]\n",
    "        # mean squared errors\n",
    "        self.stats['mse_train_1'] = [True,'{:<16.6f}',[]]\n",
    "        self.stats['mse_train'] = [True,'{:<16.6f}',[]]\n",
    "        self.stats['mse_test'] = [True,'{:<16.6f}',[]]\n",
    "        # precicions\n",
    "        self.stats['avp_train'] = [True,'{:<16.6f}',[]]\n",
    "        self.stats['avp_test'] = [True,'{:<16.6f}',[]]\n",
    "        \n",
    "        self.averages = []\n",
    "        \n",
    "        self.test_ids = test_ids\n",
    "        self.train_ids = train_ids\n",
    "\n",
    "    # Register the weights inside the list w_list. \n",
    "    # The list name_list contains the corresponding names of the wariables in w_list\n",
    "    def register_weights(self, w_list, name_list):\n",
    "        if len(w_list) != len(name_list):\n",
    "            print(\"error: input lists need to have same length\")\n",
    "            \n",
    "        for ii in range(len(w_list)):\n",
    "            w = w_list[ii]\n",
    "            name = name_list[ii]\n",
    "            # register the norm of the weights\n",
    "            self.stats['n'+name] = [False,'{:<8.3f}',[]] \n",
    "            # register the weights\n",
    "            self.weights[name] = w\n",
    "            \n",
    "        return None\n",
    "        \n",
    "model_stats = model_results(test_ids, train_ids)\n"
   ]
  },
  {
   "cell_type": "markdown",
   "metadata": {},
   "source": [
    "### 4. Error measures\n",
    "Define the error measures for comparing the correct labeling Y with the extimated labeling Y_hat.\n",
    "Both labelings are of size (mm) for each segment. The errors are calculated at each protocol point for the training and the test set.\n",
    "1. Mean Squared Error: When applying the model to a sequence or sequences the mean squared error is calculated directly by applying the tensorflow function.\n",
    "~~~~~~~~~~~~~~~~~~~~~\n",
    "tf.reduce_mean(tf.nn.l2_loss( Y_hat - Y ))\n",
    "~~~~~~~~~~~~~~~~~~~~~\n",
    "2. Average Precision: The average precision is calculated with the metric function from the sklear package.\n",
    "~~~~~~~~~~~~~~~~~~~~~\n",
    "sklearn.metrics.average_precision_score\n",
    "~~~~~~~~~~~~~~~~~~~~~\n"
   ]
  },
  {
   "cell_type": "markdown",
   "metadata": {},
   "source": [
    "### 5. Define the graph\n",
    "\n",
    "Define batch size (batch_size segments at each training step). Also define a small factor wscale to scale the weights. Regularization can be avoided."
   ]
  },
  {
   "cell_type": "code",
   "execution_count": 16,
   "metadata": {},
   "outputs": [],
   "source": [
    "batch_size=150\n",
    "if debugging == True:\n",
    "    batch_size = 4\n",
    "out = 1"
   ]
  },
  {
   "cell_type": "markdown",
   "metadata": {},
   "source": [
    "#### 5.1 Define layers"
   ]
  },
  {
   "cell_type": "markdown",
   "metadata": {},
   "source": [
    "#### First layer: \n",
    "\n",
    "Lenth of the input (segment) is window=16384. Compute a strided convolution with a d=4096-sample recptive field and a stride=512 sample stride. Since every segment has 16384 samples there are 25 regions for each frame.\n",
    "\n",
    "After the convolution for each region a filterbank computation is calculated. \n",
    "As a filter a log=spaced filterbank is chosen (k=512 sine and cosine filters with logarithmically spaced frequencies from 50 hz to 6000 hz) which is going to be applied to all the regions of the convolution of size d=4096"
   ]
  },
  {
   "cell_type": "code",
   "execution_count": 17,
   "metadata": {},
   "outputs": [],
   "source": [
    "# variables for input layer\n",
    "\n",
    "# input size of segment, predict notes played at midpoint of segment\n",
    "window=16384\n",
    "# size of regions that outputs the convolution from layer one (receptive field)\n",
    "dd = 4096\n",
    "#stride for first layer convolution\n",
    "stride=512\n",
    "# --> 25 regions\n",
    "\n",
    "# variables for filterbank (= first layer)\n",
    "# number of nodes in first layer (by filterbank get from dd nodes to kk nodes)\n",
    "kk = 512 "
   ]
  },
  {
   "cell_type": "code",
   "execution_count": 18,
   "metadata": {},
   "outputs": [],
   "source": [
    "def create_filters(d,k):\n",
    "    # create k filters\n",
    "    # d is the length of the receptive field (input)\n",
    "    x = np.linspace(0, 2*np.pi, d, endpoint=False)\n",
    "    wsin = np.empty((1,d,1,k), dtype=np.float32)\n",
    "    wcos = np.empty((1,d,1,k), dtype=np.float32)\n",
    "    start_freq = 50.\n",
    "    end_freq = 6000.\n",
    "    num_cycles = start_freq*d/44100.                                          \n",
    "    scaling_ind = np.log(end_freq/start_freq)/k\n",
    "    window_mask = 1.0-1.0*np.cos(x)\n",
    "    for ind in range(k):\n",
    "        wsin[0,:,0,ind] = window_mask*np.sin(np.exp(ind*scaling_ind)*num_cycles*x)\n",
    "        wcos[0,:,0,ind] = window_mask*np.cos(np.exp(ind*scaling_ind)*num_cycles*x)\n",
    "            \n",
    "    return wsin,wcos"
   ]
  },
  {
   "cell_type": "markdown",
   "metadata": {},
   "source": [
    "#### Second layer:"
   ]
  },
  {
   "cell_type": "code",
   "execution_count": 19,
   "metadata": {},
   "outputs": [],
   "source": [
    "# variables for second layer\n",
    "d2_x = 1          # lvl2 input dims_x\n",
    "d2_y = 128          # lvl2 input dims_y\n",
    "k2 = 128        # num lvl2 filters\n",
    "stride_y = 2    # lvl2 stride"
   ]
  },
  {
   "cell_type": "markdown",
   "metadata": {},
   "source": [
    "#### Third layer:"
   ]
  },
  {
   "cell_type": "code",
   "execution_count": 20,
   "metadata": {},
   "outputs": [],
   "source": [
    "# variables for third layer\n",
    "d3_x = 25 # lvl3 input dims_x\n",
    "d3_y = 1 # lvl3 input dims_y (fully connected)\n",
    "k3 = 4096 # num lvl3 filters"
   ]
  },
  {
   "cell_type": "markdown",
   "metadata": {},
   "source": [
    "Calculate the sizes of nodes at each layer"
   ]
  },
  {
   "cell_type": "code",
   "execution_count": 21,
   "metadata": {},
   "outputs": [
    {
     "name": "stdout",
     "output_type": "stream",
     "text": [
      "First layer regions: (25,512)\n",
      "Second layer regions: (25,193)\n",
      "Third layer regions: (1,193)\n"
     ]
    }
   ],
   "source": [
    "num_regions  = int(1 + (window-dd)/stride)\n",
    "print ('First layer regions: ({},{})'.format(num_regions,kk))\n",
    "num_regions2_x  = int(1 + (num_regions-d2_x)/1)\n",
    "num_regions2_y = int(1 + (kk-d2_y)/stride_y)\n",
    "print ('Second layer regions: ({},{})'.format(num_regions2_x,num_regions2_y))\n",
    "num_regions3_x = int(1 + (num_regions2_x - d3_x)/1)\n",
    "num_regions3_y = int(1 + (num_regions2_y - d3_y)/1)\n",
    "print ('Third layer regions: ({},{})'.format(num_regions3_x,num_regions3_y))\n",
    "\n",
    "# create filters (shape: (1, 4096, 1, 512)) = number of regions x size of region\n",
    "wsin,wcos = create_filters(dd,kk)"
   ]
  },
  {
   "cell_type": "markdown",
   "metadata": {},
   "source": [
    "#### 5.2 Define tf.Graph()\n",
    "Set it all together and define the graph.\n",
    "\n",
    "For evaluation not the trained weights, but its moving averages with decay 0.9998 are utilized. The shadow variables are maintained by tf.train.ExponentialMovingAverage. In the block for evaluating the direct model their values are retrieved."
   ]
  },
  {
   "cell_type": "code",
   "execution_count": 22,
   "metadata": {},
   "outputs": [
    {
     "name": "stdout",
     "output_type": "stream",
     "text": [
      "---- Weights ----\n",
      "w <tf.Variable 'parameters/w:0' shape=(1, 128, 1, 128) dtype=float32_ref>\n",
      "w2 <tf.Variable 'parameters/w2:0' shape=(25, 1, 128, 4096) dtype=float32_ref>\n",
      "beta <tf.Variable 'parameters/beta:0' shape=(790529, 128) dtype=float32_ref>\n",
      "---- Layers ----\n",
      "zx Tensor(\"queued_model/add:0\", shape=(?, 1, 25, 512), dtype=float32)\n",
      "z2 Tensor(\"queued_model/Relu:0\", shape=(?, 128, 25, 193), dtype=float32)\n",
      "z3 Tensor(\"queued_model/Relu_1:0\", shape=(?, 4096, 1, 193), dtype=float32)\n",
      "y Tensor(\"queued_model/MatMul:0\", shape=(150, 128), dtype=float32)\n",
      "loss Tensor(\"queued_model/logistic_loss:0\", shape=(150, 128), dtype=float32)\n"
     ]
    }
   ],
   "source": [
    "tf.set_random_seed(999)\n",
    "\n",
    "#end_learning_rate = .00001/3/3/3\n",
    "starter_learning_rate = .005\n",
    "mom = .95\n",
    "\n",
    "beta_reg = 0.001\n",
    "\n",
    "graph = tf.Graph()\n",
    "\n",
    "with graph.as_default():\n",
    "     \n",
    "    # if the input is a batch\n",
    "    with tf.variable_scope('data_queue'):\n",
    "        xb = tf.placeholder(tf.float32, shape=[None, 1, window+(out-1)*stride, 1])\n",
    "        yb = tf.placeholder(tf.float32, shape=[None, out, mm])\n",
    "\n",
    "        xq, yq = xb, yb\n",
    "        \n",
    "    # if the input is just one segment\n",
    "    with tf.variable_scope('direct_data'):\n",
    "        xd = tf.placeholder(tf.float32, shape=[None,1,window,1])\n",
    "        yd = tf.placeholder(tf.float32, shape=[None, mm])\n",
    "    \n",
    "    print ('---- Weights ----')\n",
    "    with tf.variable_scope('parameters'): #glorot  \n",
    "        w = tf.get_variable('w', [d2_x,d2_y,1,k2]) # 1 x 128 x 1 x 128 (16.384 values)\n",
    "        print ('w',w)\n",
    "        w2 = tf.get_variable('w2', [d3_x,d3_y,k2,k3]) # 25 x 1 x 128 x 4096 (13.107.200 values)\n",
    "        print ('w2',w2)\n",
    "        beta = tf.get_variable('beta', [int(num_regions3_x*num_regions3_y*k3)+1,mm]) \n",
    "        # (1*193*4096+1) x 128 (101.187.584 + 128 values) BIAS!!\n",
    "        print ('beta',beta)\n",
    "        model_stats.register_weights([w,w2,beta],['w','w2','beta'])\n",
    "\n",
    "    print ('---- Layers ----')\n",
    "    with tf.variable_scope('queued_model'):\n",
    "        zx = tf.square(tf.nn.conv2d(xq,wsin,strides=[1,1,stride,1],padding='VALID')) \\\n",
    "           + tf.square(tf.nn.conv2d(xq,wcos,strides=[1,1,stride,1],padding='VALID'))\n",
    "        print ('zx',zx)\n",
    "        z2 = tf.nn.relu(tf.nn.conv2d(tf.log(zx+10e-15),w,strides=[1,1,1,stride_y],padding='VALID',data_format='NCHW'))\n",
    "        print ('z2',z2)\n",
    "        z3 = tf.nn.relu(tf.nn.conv2d(z2,w2,strides=[1,1,1,1],padding='VALID',data_format='NCHW'))\n",
    "        print ('z3',z3)\n",
    "        y = tf.matmul(\n",
    "            tf.concat([tf.reshape(z3,[batch_size,int(num_regions3_x*num_regions3_y*k3)]),\n",
    "                      tf.ones([batch_size,1], tf.float32)],1),beta)\n",
    "        print ('y',y)\n",
    "        #loss = tf.reduce_mean(tf.nn.l2_loss(y-tf.reshape(yq,[batch_size,mm])))\n",
    "        loss = tf.nn.sigmoid_cross_entropy_with_logits(labels=tf.reshape(yq,[batch_size,mm]), logits=y) \n",
    "        print ('loss',loss)\n",
    "            \n",
    "    # learning rate decay\n",
    "    global_step = tf.Variable(0, trainable=False)\n",
    "    lr = tf.train.exponential_decay(starter_learning_rate, global_step, 10000, 0.95, staircase=True)\n",
    "\n",
    "    reg = tf.nn.l2_loss(w) + tf.nn.l2_loss(w2) + tf.nn.l2_loss(beta)\n",
    "    \n",
    "    opt_op = tf.train.MomentumOptimizer(lr,mom).minimize(tf.reduce_mean(loss + beta_reg*reg), global_step=global_step)\n",
    "    \n",
    "    #opt_op = tf.train.MomentumOptimizer(lr,mom).minimize(tf.reduce_mean(loss), global_step=global_step)\n",
    "\n",
    "    \n",
    "    # Create an ExponentialMovingAverage object\n",
    "    ema = tf.train.ExponentialMovingAverage(decay=0.9998)\n",
    "    \n",
    "    with tf.control_dependencies([opt_op]):\n",
    "        training_op = ema.apply([w, w2, beta])\n",
    "    \n",
    "    with tf.variable_scope('direct_model'):\n",
    "        # use ema.average(var) to return the average of variable var\n",
    "        wavg = ema.average(w)\n",
    "        w2avg = ema.average(w2)\n",
    "        betaavg = ema.average(beta)\n",
    "\n",
    "        direct_zx = tf.square(tf.nn.conv2d(xd,wsin,strides=[1,1,stride,1],padding='VALID')) \\\n",
    "                + tf.square(tf.nn.conv2d(xd,wcos,strides=[1,1,stride,1],padding='VALID'))\n",
    "        direct_z2 = tf.nn.relu(tf.nn.conv2d(tf.log(direct_zx+10e-15),wavg,strides=[1,1,1,stride_y],padding='VALID',data_format='NCHW'))\n",
    "        direct_z3 = tf.nn.relu(tf.nn.conv2d(direct_z2,w2avg,strides=[1,1,1,1],padding='VALID',data_format='NCHW'))\n",
    "        direct_y = tf.nn.sigmoid(tf.matmul(\n",
    "            tf.concat([tf.reshape(direct_z3,[tf.shape(xd)[0],int(num_regions3_x*num_regions3_y*k3)]),\n",
    "                     tf.ones([tf.shape(xd)[0],1], tf.float32)],1),betaavg))\n",
    "        direct_loss = tf.reduce_mean(tf.nn.l2_loss(direct_y-yd))\n",
    "        "
   ]
  },
  {
   "cell_type": "markdown",
   "metadata": {},
   "source": [
    "#### 5.3 Evaluation of the graph\n",
    "\n",
    "For the aplication of the neuronal network a moving average of the weights is used. Therefore, a different function for evaluation is used.\n",
    "\n",
    "Inside the function predict_direct_model the mean squared error is calculated directly."
   ]
  },
  {
   "cell_type": "code",
   "execution_count": 23,
   "metadata": {},
   "outputs": [],
   "source": [
    "# function for prediction without training that splits up the whole set\n",
    "# in small subsets to prevent errors of type \"ResourceExhaustedError\"\n",
    "# input: \n",
    "# - sess: the actual session\n",
    "# - X: sample, size: (n,1,window,1)\n",
    "# - Y: corresponding labels, size: (n,mm)\n",
    "# output:\n",
    "#  Yhat: prediction, size: (n,mm)\n",
    "#  mse: Mean Squared Error when comparing Y and Yhat\n",
    "def predict_direct_model(sess, X, Y):\n",
    "    Yhat = np.empty((len(X),mm))\n",
    "    subdiv = 100\n",
    "    subset = X.shape[0]/subdiv\n",
    "    mse = 0\n",
    "    for j in range(subdiv):\n",
    "        Yhat[int(subset*j):int(subset*(j+1))], se = sess.run([direct_y,direct_loss], \n",
    "                                                         feed_dict={xd: X[int(subset*j):int(subset*(j+1))],\n",
    "                                                                    yd: Y[int(subset*j):int(subset*(j+1))]})\n",
    "        mse += se\n",
    "\n",
    "    return Yhat, mse/float(subdiv)"
   ]
  },
  {
   "cell_type": "markdown",
   "metadata": {},
   "source": [
    "### 6. Training"
   ]
  },
  {
   "cell_type": "code",
   "execution_count": 24,
   "metadata": {},
   "outputs": [],
   "source": [
    "if debugging == True:\n",
    "    num_steps = 5\n",
    "    control_step = 1\n",
    "else:\n",
    "    num_steps = 300000\n",
    "    control_step = 1000\n",
    "\n",
    "gpu_memory_growth = False"
   ]
  },
  {
   "cell_type": "code",
   "execution_count": 25,
   "metadata": {},
   "outputs": [],
   "source": [
    "# arrays for input data (batch)\n",
    "xmb = np.empty([batch_size,1,window,1],dtype=np.float32)\n",
    "ymb = np.empty([batch_size,1,mm],dtype=np.float32)"
   ]
  },
  {
   "cell_type": "code",
   "execution_count": 26,
   "metadata": {},
   "outputs": [],
   "source": [
    "# train saver\n",
    "saver = tf.train.Saver({'wavg': wavg, 'w2avg': w2avg, 'betaavg': betaavg})"
   ]
  },
  {
   "cell_type": "code",
   "execution_count": 27,
   "metadata": {},
   "outputs": [
    {
     "name": "stdout",
     "output_type": "stream",
     "text": [
      "Initialized\n",
      "iter\t test_squ_loss\t test_avg_prec\t train_squ_loss\t train_avg_prec\t regularization\t time (in s)\n",
      "1 \t 1759.24099365 \t 0.01829637 \t 2397.60881348 \t 0.02447197 \t 253.11 \t 43.96683335\n",
      "1001 \t 628.95217133 \t 0.26540181 \t 911.46930908 \t 0.32198955 \t 210.339 \t 653.33821988\n",
      "2001 \t 319.94045532 \t 0.50366021 \t 480.32232513 \t 0.54156016 \t 173.078 \t 648.9419744\n",
      "3001 \t 196.56282867 \t 0.58286275 \t 301.47463531 \t 0.60957113 \t 142.466 \t 652.41518116\n",
      "4001 \t 135.86790009 \t 0.61845684 \t 212.23669174 \t 0.63765514 \t 117.401 \t 650.83550286\n",
      "5001 \t 104.19691124 \t 0.63838904 \t 165.58737244 \t 0.65242397 \t 96.8605 \t 639.52318954\n",
      "6001 \t 87.31431416 \t 0.65083502 \t 140.80395256 \t 0.66138698 \t 80.0343 \t 649.62681103\n",
      "7001 \t 77.96727203 \t 0.6592902 \t 127.22979622 \t 0.66740739 \t 66.2599 \t 644.32499909\n",
      "8001 \t 72.59596333 \t 0.66519465 \t 119.53448059 \t 0.67169543 \t 54.987 \t 638.53809214\n",
      "9001 \t 69.37192528 \t 0.66956518 \t 115.00602081 \t 0.67485923 \t 45.7402 \t 649.69667578\n",
      "10001 \t 67.34565651 \t 0.67306799 \t 112.25126274 \t 0.67726662 \t 38.1704 \t 649.38743949\n",
      "11001 \t 66.04183565 \t 0.67573951 \t 110.51466614 \t 0.67923393 \t 32.2485 \t 638.13488698\n",
      "12001 \t 65.15967848 \t 0.67780905 \t 109.37256142 \t 0.68084849 \t 27.3582 \t 646.56769562\n",
      "13001 \t 64.55253672 \t 0.67958394 \t 108.59839668 \t 0.68224032 \t 23.3013 \t 652.13441062\n",
      "14001 \t 64.11228178 \t 0.68115591 \t 108.03195297 \t 0.68353354 \t 19.9399 \t 652.95850468\n",
      "15001 \t 63.77505173 \t 0.68255692 \t 107.61258263 \t 0.68467278 \t 17.1716 \t 653.51707768\n",
      "16001 \t 63.50263311 \t 0.68381827 \t 107.26643188 \t 0.68574313 \t 14.8801 \t 647.09364462\n",
      "17001 \t 63.27248384 \t 0.68507735 \t 106.98325302 \t 0.68666684 \t 12.973 \t 642.85064483\n",
      "18001 \t 63.07274292 \t 0.68629956 \t 106.73481255 \t 0.68756103 \t 11.3954 \t 643.40370011\n",
      "19001 \t 62.90628925 \t 0.68728392 \t 106.50768608 \t 0.68841429 \t 10.0928 \t 645.28368878\n",
      "20001 \t 62.76960602 \t 0.68813731 \t 106.30767548 \t 0.68917753 \t 9.01549 \t 660.38020849\n",
      "21001 \t 62.65209431 \t 0.68900182 \t 106.13267822 \t 0.68985929 \t 8.15055 \t 651.1910398\n",
      "22001 \t 62.54246115 \t 0.68969508 \t 105.96733391 \t 0.69053762 \t 7.437 \t 647.82347822\n",
      "23001 \t 62.44396025 \t 0.69036655 \t 105.80050507 \t 0.69122447 \t 6.84352 \t 638.66978335\n",
      "24001 \t 62.35465868 \t 0.69095069 \t 105.64529808 \t 0.69184066 \t 6.34773 \t 644.69647336\n",
      "25001 \t 62.25177303 \t 0.69169571 \t 105.48519829 \t 0.69249581 \t 5.93203 \t 657.72627544\n",
      "26001 \t 62.17775421 \t 0.69224727 \t 105.33949249 \t 0.69311921 \t 5.57131 \t 651.11404181\n",
      "27001 \t 62.08265711 \t 0.69295826 \t 105.19523361 \t 0.69371146 \t 5.29023 \t 646.93697691\n",
      "28001 \t 62.00352016 \t 0.69356603 \t 105.05989632 \t 0.69425572 \t 5.04372 \t 637.83395219\n",
      "29001 \t 61.94368847 \t 0.69411626 \t 104.93950691 \t 0.69475071 \t 4.84336 \t 641.05423856\n",
      "30001 \t 61.86828072 \t 0.69461648 \t 104.80828415 \t 0.69523828 \t 4.67126 \t 650.13067985\n",
      "31001 \t 61.80905365 \t 0.69506295 \t 104.69341721 \t 0.69567939 \t 4.53769 \t 654.90489292\n",
      "32001 \t 61.73471487 \t 0.69563931 \t 104.58143265 \t 0.69614067 \t 4.42312 \t 643.02443576\n",
      "33001 \t 61.69276415 \t 0.69599525 \t 104.48339127 \t 0.69654477 \t 4.33345 \t 643.21022677\n",
      "34001 \t 61.63255955 \t 0.69642662 \t 104.37622017 \t 0.69701364 \t 4.24579 \t 642.34290075\n",
      "35001 \t 61.57437767 \t 0.69685032 \t 104.28792343 \t 0.69740888 \t 4.17536 \t 653.85367751\n",
      "36001 \t 61.51651426 \t 0.69736917 \t 104.19111557 \t 0.69786941 \t 4.12193 \t 656.48095155\n",
      "37001 \t 61.44800013 \t 0.69791268 \t 104.10643799 \t 0.69829469 \t 4.07697 \t 649.10290265\n",
      "38001 \t 61.39920553 \t 0.6983049 \t 104.02224991 \t 0.69864677 \t 4.03766 \t 641.61620712\n",
      "39001 \t 61.34150051 \t 0.69878897 \t 103.94423988 \t 0.69899057 \t 4.01518 \t 648.97791457\n",
      "40001 \t 61.2799745 \t 0.69926029 \t 103.86371849 \t 0.69932813 \t 3.97519 \t 652.21290421\n",
      "41001 \t 61.23880766 \t 0.69964988 \t 103.78758041 \t 0.69967412 \t 3.94762 \t 660.28316355\n",
      "42001 \t 61.17839911 \t 0.7002105 \t 103.7126738 \t 0.69999924 \t 3.9314 \t 655.44087005\n",
      "43001 \t 61.13905666 \t 0.70057943 \t 103.65844742 \t 0.70025225 \t 3.92165 \t 650.41834092\n",
      "44001 \t 61.08852488 \t 0.70098835 \t 103.60853203 \t 0.70048668 \t 3.90728 \t 646.04059768\n",
      "45001 \t 61.04384695 \t 0.70137045 \t 103.54300644 \t 0.70073474 \t 3.89743 \t 646.62266088\n",
      "46001 \t 61.04039928 \t 0.70149168 \t 103.48868576 \t 0.70098941 \t 3.88342 \t 649.34575462\n",
      "47001 \t 61.02915514 \t 0.70154684 \t 103.43389359 \t 0.7012518 \t 3.88236 \t 659.28856301\n",
      "48001 \t 61.00956829 \t 0.70172734 \t 103.38124748 \t 0.70154867 \t 3.87035 \t 648.88261819\n",
      "49001 \t 60.97041105 \t 0.7020856 \t 103.31847618 \t 0.70187531 \t 3.86114 \t 640.40817952\n",
      "50001 \t 60.94354002 \t 0.70237997 \t 103.27067467 \t 0.70213879 \t 3.85914 \t 649.68032551\n",
      "51001 \t 60.93020164 \t 0.70249289 \t 103.23025017 \t 0.70235951 \t 3.85684 \t 658.60782027\n",
      "52001 \t 60.89252123 \t 0.70283333 \t 103.17869621 \t 0.70261624 \t 3.85578 \t 654.8052125\n",
      "53001 \t 60.85418795 \t 0.70317581 \t 103.1385791 \t 0.70281048 \t 3.8552 \t 639.75752211\n",
      "54001 \t 60.84175089 \t 0.7032351 \t 103.09920372 \t 0.70298139 \t 3.84345 \t 656.10219193\n",
      "55001 \t 60.80389339 \t 0.70358606 \t 103.05042061 \t 0.70320955 \t 3.84641 \t 663.60778785\n",
      "56001 \t 60.80239882 \t 0.70356705 \t 103.02104126 \t 0.70336889 \t 3.84288 \t 669.33913159\n",
      "57001 \t 60.78825979 \t 0.703694 \t 102.99326614 \t 0.70349351 \t 3.83718 \t 663.26526785\n",
      "58001 \t 60.76051222 \t 0.70394205 \t 102.95856346 \t 0.70365823 \t 3.83627 \t 656.22961593\n",
      "59001 \t 60.74668478 \t 0.70398278 \t 102.92337334 \t 0.70385626 \t 3.84122 \t 657.27115321\n",
      "60001 \t 60.72665321 \t 0.70420203 \t 102.89353851 \t 0.70399935 \t 3.83501 \t 652.63528275\n",
      "61001 \t 60.70555635 \t 0.7044 \t 102.86379128 \t 0.70414143 \t 3.83274 \t 653.89801741\n",
      "62001 \t 60.69342844 \t 0.70456029 \t 102.83681213 \t 0.70424008 \t 3.82772 \t 666.21633315\n",
      "63001 \t 60.68963575 \t 0.70464744 \t 102.80493156 \t 0.70440256 \t 3.83213 \t 658.04572082\n",
      "64001 \t 60.67787539 \t 0.70480668 \t 102.78584991 \t 0.70451813 \t 3.8275 \t 656.79660225\n",
      "65001 \t 60.67642929 \t 0.70479729 \t 102.77024117 \t 0.70455716 \t 3.82371 \t 643.33551288\n",
      "66001 \t 60.64224615 \t 0.70509824 \t 102.74965775 \t 0.70464005 \t 3.82873 \t 652.20613337\n",
      "67001 \t 60.62170553 \t 0.70521629 \t 102.72124184 \t 0.7047719 \t 3.82332 \t 657.6143074\n",
      "68001 \t 60.5974358 \t 0.70531893 \t 102.71287025 \t 0.7048226 \t 3.82106 \t 658.24829459\n",
      "69001 \t 60.58697733 \t 0.70547286 \t 102.70878983 \t 0.70488207 \t 3.81717 \t 643.62470746\n",
      "70001 \t 60.56607779 \t 0.70564732 \t 102.70344757 \t 0.70488377 \t 3.82831 \t 645.22885966\n",
      "71001 \t 60.58300247 \t 0.70554771 \t 102.68200806 \t 0.70496527 \t 3.82222 \t 654.80327272\n",
      "72001 \t 60.57199415 \t 0.70566753 \t 102.66940887 \t 0.70497961 \t 3.82732 \t 656.82043123\n",
      "73001 \t 60.56354462 \t 0.70575665 \t 102.66197876 \t 0.70498971 \t 3.8217 \t 647.74232888\n",
      "74001 \t 60.54820583 \t 0.70588737 \t 102.6397892 \t 0.7050897 \t 3.81962 \t 652.52283978\n",
      "75001 \t 60.54361273 \t 0.70590148 \t 102.61835495 \t 0.70520043 \t 3.82109 \t 649.11048388\n",
      "76001 \t 60.53255531 \t 0.70591145 \t 102.60132729 \t 0.7052757 \t 3.82052 \t 639.82354355\n",
      "77001 \t 60.53355011 \t 0.7058903 \t 102.58483177 \t 0.70538442 \t 3.82228 \t 646.19204307\n",
      "78001 \t 60.5144022 \t 0.70600411 \t 102.56371094 \t 0.70549307 \t 3.81795 \t 647.8165102\n",
      "79001 \t 60.50625822 \t 0.70603441 \t 102.54073799 \t 0.70561151 \t 3.82324 \t 626.82069612\n",
      "80001 \t 60.4786095 \t 0.70632011 \t 102.53333824 \t 0.70565528 \t 3.81918 \t 632.46366119\n",
      "81001 \t 60.47033714 \t 0.70632329 \t 102.50952927 \t 0.70577056 \t 3.82136 \t 633.45651603\n",
      "82001 \t 60.46127243 \t 0.70644493 \t 102.49792839 \t 0.70578695 \t 3.82467 \t 639.90193009\n",
      "83001 \t 60.44021374 \t 0.7066843 \t 102.47048706 \t 0.7059003 \t 3.81849 \t 642.82229114\n",
      "84001 \t 60.42299713 \t 0.70679406 \t 102.45396484 \t 0.70597412 \t 3.82482 \t 639.74039149\n",
      "85001 \t 60.40912149 \t 0.70693935 \t 102.44493401 \t 0.70601416 \t 3.8221 \t 638.99588346\n",
      "86001 \t 60.401381 \t 0.70712424 \t 102.43756775 \t 0.70608994 \t 3.81958 \t 632.3615098\n",
      "87001 \t 60.38288473 \t 0.70726428 \t 102.4195018 \t 0.70620004 \t 3.82326 \t 636.49637318\n",
      "88001 \t 60.34482851 \t 0.70760378 \t 102.40334496 \t 0.70627358 \t 3.81677 \t 641.98992634\n",
      "89001 \t 60.34169979 \t 0.70766626 \t 102.3811615 \t 0.70639525 \t 3.81954 \t 641.79277205\n",
      "90001 \t 60.34996756 \t 0.70757351 \t 102.369459 \t 0.70645238 \t 3.81507 \t 636.19413972\n",
      "91001 \t 60.32827812 \t 0.7076181 \t 102.34884163 \t 0.70656906 \t 3.81629 \t 623.8963294\n",
      "92001 \t 60.32535034 \t 0.70764793 \t 102.33941376 \t 0.70661858 \t 3.80831 \t 631.77961946\n",
      "93001 \t 60.32524467 \t 0.70778333 \t 102.32698318 \t 0.70673311 \t 3.81591 \t 641.53408456\n",
      "94001 \t 60.31224535 \t 0.70792095 \t 102.31545151 \t 0.70678453 \t 3.81522 \t 644.22772884\n"
     ]
    },
    {
     "name": "stdout",
     "output_type": "stream",
     "text": [
      "95001 \t 60.28318367 \t 0.7081997 \t 102.29875648 \t 0.706871 \t 3.81183 \t 639.11227179\n",
      "96001 \t 60.28574011 \t 0.70814778 \t 102.29892097 \t 0.70684013 \t 3.81528 \t 630.94154263\n",
      "97001 \t 60.27779097 \t 0.70814532 \t 102.28843689 \t 0.70687542 \t 3.81301 \t 640.779531\n",
      "98001 \t 60.27413834 \t 0.70811576 \t 102.27941971 \t 0.70688937 \t 3.81085 \t 641.92598915\n",
      "99001 \t 60.27495789 \t 0.70804854 \t 102.26910286 \t 0.70696008 \t 3.80941 \t 643.93874979\n",
      "100001 \t 60.27838058 \t 0.70801774 \t 102.25692757 \t 0.7070047 \t 3.81013 \t 642.76475072\n",
      "101001 \t 60.28650156 \t 0.7079158 \t 102.24488213 \t 0.70706258 \t 3.81087 \t 630.92592382\n",
      "102001 \t 60.29403599 \t 0.70789353 \t 102.2295443 \t 0.70712779 \t 3.80901 \t 628.41129827\n",
      "103001 \t 60.28199287 \t 0.70805852 \t 102.21171829 \t 0.70722373 \t 3.80199 \t 639.29724193\n",
      "104001 \t 60.27222692 \t 0.70820227 \t 102.21350418 \t 0.7072304 \t 3.80904 \t 646.90667343\n",
      "105001 \t 60.24377537 \t 0.7084034 \t 102.20403595 \t 0.70729102 \t 3.80307 \t 644.38879704\n",
      "106001 \t 60.22922958 \t 0.70854051 \t 102.19203873 \t 0.70731416 \t 3.80687 \t 641.88722301\n",
      "107001 \t 60.22020948 \t 0.708633 \t 102.18383148 \t 0.70736326 \t 3.80498 \t 629.02559638\n",
      "108001 \t 60.21642988 \t 0.7086389 \t 102.17359604 \t 0.70739391 \t 3.80624 \t 633.96255946\n",
      "109001 \t 60.21045914 \t 0.70867883 \t 102.16475243 \t 0.70748807 \t 3.80387 \t 642.709831\n",
      "110001 \t 60.20760677 \t 0.70868644 \t 102.15380096 \t 0.70757767 \t 3.8069 \t 651.88113236\n",
      "111001 \t 60.22050449 \t 0.70857948 \t 102.14110054 \t 0.70764565 \t 3.80583 \t 640.91795969\n",
      "112001 \t 60.21989445 \t 0.7086464 \t 102.13764603 \t 0.70765014 \t 3.80274 \t 623.5348773\n",
      "113001 \t 60.22679041 \t 0.70868619 \t 102.13870567 \t 0.70768048 \t 3.79573 \t 631.75209308\n",
      "114001 \t 60.23236338 \t 0.70859858 \t 102.13466461 \t 0.70769952 \t 3.80345 \t 636.46605325\n",
      "115001 \t 60.23433573 \t 0.70856347 \t 102.13488625 \t 0.70771783 \t 3.79606 \t 640.47208238\n",
      "116001 \t 60.228724 \t 0.70862595 \t 102.13095535 \t 0.70772214 \t 3.80131 \t 638.68864202\n",
      "117001 \t 60.23218128 \t 0.70853048 \t 102.11594826 \t 0.70776345 \t 3.79943 \t 636.50683379\n",
      "118001 \t 60.24452293 \t 0.70842819 \t 102.11130196 \t 0.70777909 \t 3.79574 \t 634.10723567\n",
      "119001 \t 60.25214602 \t 0.70845279 \t 102.10636124 \t 0.70780753 \t 3.79328 \t 632.74239683\n",
      "120001 \t 60.24718126 \t 0.70846905 \t 102.10876526 \t 0.70781777 \t 3.79548 \t 647.91885877\n",
      "121001 \t 60.25379288 \t 0.70847482 \t 102.12017365 \t 0.70779299 \t 3.79555 \t 632.81586027\n",
      "122001 \t 60.24037022 \t 0.70855528 \t 102.10863403 \t 0.70786844 \t 3.791 \t 639.85885859\n",
      "123001 \t 60.21728691 \t 0.70871641 \t 102.09987022 \t 0.7078984 \t 3.79261 \t 630.71817207\n",
      "124001 \t 60.20324789 \t 0.70878802 \t 102.09473145 \t 0.70792536 \t 3.79088 \t 632.98292327\n",
      "125001 \t 60.20930761 \t 0.70874387 \t 102.08086784 \t 0.7080092 \t 3.79141 \t 633.969877\n",
      "126001 \t 60.20739542 \t 0.70864515 \t 102.08229256 \t 0.70797607 \t 3.78809 \t 640.93834257\n",
      "127001 \t 60.20651079 \t 0.70853987 \t 102.07749275 \t 0.70799562 \t 3.79147 \t 645.19801855\n",
      "128001 \t 60.18487909 \t 0.7086657 \t 102.07399055 \t 0.7079891 \t 3.79071 \t 632.60853815\n",
      "129001 \t 60.20186365 \t 0.70848349 \t 102.07396126 \t 0.70798851 \t 3.7901 \t 625.08062649\n",
      "130001 \t 60.20922409 \t 0.70841744 \t 102.06391769 \t 0.70800617 \t 3.78968 \t 636.46039605\n",
      "131001 \t 60.18096481 \t 0.7086615 \t 102.04988625 \t 0.70808059 \t 3.79118 \t 630.04294777\n",
      "132001 \t 60.1766987 \t 0.7087084 \t 102.03232269 \t 0.70812291 \t 3.7856 \t 645.15669537\n",
      "133001 \t 60.17226931 \t 0.70865511 \t 102.01570168 \t 0.70819079 \t 3.78548 \t 634.30467391\n",
      "134001 \t 60.15126144 \t 0.70887628 \t 102.00959236 \t 0.7082378 \t 3.78568 \t 624.80559063\n",
      "135001 \t 60.13977259 \t 0.7090126 \t 101.99976189 \t 0.70827781 \t 3.78495 \t 632.88778234\n",
      "136001 \t 60.14741695 \t 0.70897353 \t 102.00471832 \t 0.70827931 \t 3.79088 \t 660.23032188\n",
      "137001 \t 60.15512814 \t 0.70897126 \t 102.00575035 \t 0.70826883 \t 3.79209 \t 632.48619556\n",
      "138001 \t 60.17375692 \t 0.70888058 \t 102.00918144 \t 0.7082413 \t 3.78987 \t 631.83845711\n",
      "139001 \t 60.16340458 \t 0.70897068 \t 102.01149292 \t 0.70823197 \t 3.78211 \t 633.76706386\n",
      "140001 \t 60.16289957 \t 0.70895447 \t 102.00738129 \t 0.70824438 \t 3.78569 \t 632.36156702\n",
      "141001 \t 60.14006315 \t 0.70915585 \t 102.01988846 \t 0.70817737 \t 3.78389 \t 637.5417459\n",
      "142001 \t 60.13889736 \t 0.70909565 \t 102.01833252 \t 0.70815675 \t 3.78814 \t 643.93034792\n",
      "143001 \t 60.13988445 \t 0.70905403 \t 102.01817299 \t 0.70814529 \t 3.78628 \t 630.64631629\n",
      "144001 \t 60.14196735 \t 0.70907578 \t 102.01294449 \t 0.70817696 \t 3.7889 \t 627.23868656\n",
      "145001 \t 60.13506086 \t 0.70922469 \t 102.00912308 \t 0.70823008 \t 3.78303 \t 635.3622725\n",
      "146001 \t 60.1189114 \t 0.709345 \t 102.00635757 \t 0.70822426 \t 3.78195 \t 645.11698151\n",
      "147001 \t 60.12581375 \t 0.70934385 \t 102.00620232 \t 0.70824026 \t 3.78421 \t 653.1526587\n",
      "148001 \t 60.11398874 \t 0.70946598 \t 102.0026873 \t 0.7082693 \t 3.78788 \t 640.90892768\n",
      "149001 \t 60.11449757 \t 0.70945909 \t 102.00316154 \t 0.70830449 \t 3.78163 \t 640.61810994\n",
      "150001 \t 60.12388939 \t 0.70935621 \t 102.01806488 \t 0.70822889 \t 3.77721 \t 631.87621284\n",
      "151001 \t 60.13992069 \t 0.70921726 \t 102.01480705 \t 0.70821347 \t 3.78228 \t 634.76626492\n",
      "152001 \t 60.11426334 \t 0.7093811 \t 102.00794037 \t 0.70820314 \t 3.7824 \t 642.03569055\n",
      "153001 \t 60.11215952 \t 0.70940305 \t 102.00984497 \t 0.70819842 \t 3.77634 \t 642.62923908\n",
      "154001 \t 60.11508146 \t 0.70936912 \t 102.01495247 \t 0.70819734 \t 3.78172 \t 637.71657944\n",
      "155001 \t 60.13161938 \t 0.70926827 \t 102.00884743 \t 0.70822524 \t 3.77931 \t 621.4028554\n",
      "156001 \t 60.12320427 \t 0.7092849 \t 101.99542191 \t 0.70828606 \t 3.77765 \t 635.48967528\n",
      "157001 \t 60.11984713 \t 0.70926722 \t 101.9873674 \t 0.70832875 \t 3.78192 \t 637.91285133\n",
      "158001 \t 60.09147259 \t 0.70955918 \t 101.98163857 \t 0.70833896 \t 3.77859 \t 643.82638407\n",
      "159001 \t 60.08936188 \t 0.70957859 \t 101.98103485 \t 0.70833886 \t 3.77618 \t 636.43377352\n",
      "160001 \t 60.09810007 \t 0.70946386 \t 101.97878967 \t 0.70833301 \t 3.77924 \t 627.34296703\n",
      "161001 \t 60.09889149 \t 0.70946463 \t 101.97051521 \t 0.70833565 \t 3.77644 \t 637.00164032\n",
      "162001 \t 60.08956142 \t 0.70946069 \t 101.96301277 \t 0.70831763 \t 3.78152 \t 636.314785\n",
      "163001 \t 60.08259737 \t 0.70950349 \t 101.9529509 \t 0.70834312 \t 3.77513 \t 643.92898989\n",
      "164001 \t 60.05978815 \t 0.70961887 \t 101.9487191 \t 0.70837058 \t 3.77481 \t 634.2301836\n",
      "165001 \t 60.03294302 \t 0.70977365 \t 101.93872742 \t 0.70844578 \t 3.77772 \t 635.32049155\n",
      "166001 \t 60.04159796 \t 0.7097354 \t 101.93229523 \t 0.70843476 \t 3.77996 \t 634.1086607\n",
      "167001 \t 60.03361172 \t 0.70983909 \t 101.92390076 \t 0.70844229 \t 3.7734 \t 635.9487505\n",
      "168001 \t 60.02691544 \t 0.70992488 \t 101.9228582 \t 0.70845397 \t 3.77483 \t 644.16268373\n",
      "169001 \t 60.0295837 \t 0.70985652 \t 101.92308372 \t 0.70845231 \t 3.77333 \t 638.77065682\n",
      "170001 \t 60.01897364 \t 0.70993571 \t 101.92296097 \t 0.70844387 \t 3.77332 \t 640.46667576\n",
      "171001 \t 60.02757915 \t 0.70989201 \t 101.92468903 \t 0.70842735 \t 3.77451 \t 629.95840144\n",
      "172001 \t 60.03382702 \t 0.70986755 \t 101.93182602 \t 0.70839084 \t 3.77308 \t 633.15878296\n",
      "173001 \t 60.06017456 \t 0.70972496 \t 101.92368851 \t 0.7084349 \t 3.77606 \t 638.99682355\n",
      "174001 \t 60.07984371 \t 0.70961274 \t 101.92190849 \t 0.70844935 \t 3.77421 \t 632.27717352\n",
      "175001 \t 60.06654613 \t 0.70974185 \t 101.9185778 \t 0.70843219 \t 3.77666 \t 636.32064939\n",
      "176001 \t 60.06280035 \t 0.70981714 \t 101.9138765 \t 0.70848478 \t 3.77125 \t 626.62904692\n",
      "177001 \t 60.05036961 \t 0.70993847 \t 101.9106076 \t 0.70852632 \t 3.77715 \t 624.17898726\n",
      "178001 \t 60.05328205 \t 0.70988928 \t 101.90384209 \t 0.70859131 \t 3.77668 \t 639.94754219\n",
      "179001 \t 60.08415079 \t 0.70964303 \t 101.89237381 \t 0.70864587 \t 3.77232 \t 636.06174231\n",
      "180001 \t 60.09955963 \t 0.7094668 \t 101.90148659 \t 0.70860711 \t 3.77253 \t 634.74672055\n",
      "181001 \t 60.11365217 \t 0.70941492 \t 101.89738029 \t 0.70864469 \t 3.77273 \t 635.04597044\n",
      "182001 \t 60.12662468 \t 0.70930246 \t 101.89047958 \t 0.70869318 \t 3.77214 \t 635.44459701\n",
      "183001 \t 60.12467087 \t 0.70925671 \t 101.87797142 \t 0.70872651 \t 3.77441 \t 644.47768569\n",
      "184001 \t 60.12061134 \t 0.70940839 \t 101.86690254 \t 0.70878693 \t 3.77479 \t 639.41109371\n",
      "185001 \t 60.13581919 \t 0.709248 \t 101.8588765 \t 0.7088127 \t 3.77448 \t 645.0492425\n",
      "186001 \t 60.11699249 \t 0.70936003 \t 101.85257652 \t 0.70884055 \t 3.77284 \t 638.3408525\n",
      "187001 \t 60.11106388 \t 0.70939419 \t 101.84628517 \t 0.70888362 \t 3.77257 \t 630.3600266\n",
      "188001 \t 60.10799618 \t 0.70943937 \t 101.84028534 \t 0.70892437 \t 3.77035 \t 631.11814022\n",
      "189001 \t 60.11005424 \t 0.70944658 \t 101.83876625 \t 0.70892027 \t 3.76885 \t 645.56207681\n",
      "190001 \t 60.1192362 \t 0.70935532 \t 101.83927292 \t 0.70890586 \t 3.77365 \t 639.03600693\n"
     ]
    },
    {
     "name": "stdout",
     "output_type": "stream",
     "text": [
      "191001 \t 60.09619497 \t 0.70948906 \t 101.83551292 \t 0.70891945 \t 3.76937 \t 644.34133577\n",
      "192001 \t 60.08106863 \t 0.70956533 \t 101.8316095 \t 0.70893841 \t 3.76684 \t 635.38992405\n",
      "193001 \t 60.07485285 \t 0.70966314 \t 101.83043022 \t 0.70896628 \t 3.76267 \t 627.89405322\n",
      "194001 \t 60.08823677 \t 0.70957709 \t 101.82961456 \t 0.70894828 \t 3.76653 \t 632.95961094\n",
      "195001 \t 60.09002707 \t 0.70968197 \t 101.82980911 \t 0.70895146 \t 3.76616 \t 644.80582952\n",
      "196001 \t 60.09846085 \t 0.70964722 \t 101.83493629 \t 0.70893141 \t 3.76644 \t 643.48635578\n",
      "197001 \t 60.12253881 \t 0.70946212 \t 101.84020912 \t 0.70888216 \t 3.76798 \t 631.19277954\n",
      "198001 \t 60.11482838 \t 0.7095593 \t 101.83344894 \t 0.70889957 \t 3.7679 \t 628.85157204\n",
      "199001 \t 60.09050112 \t 0.70970325 \t 101.8302446 \t 0.70893474 \t 3.76866 \t 638.07580686\n",
      "200001 \t 60.06917719 \t 0.70985692 \t 101.82482605 \t 0.7089797 \t 3.77059 \t 640.54982281\n",
      "201001 \t 60.07134571 \t 0.70982241 \t 101.81734688 \t 0.70901524 \t 3.76696 \t 643.17029428\n",
      "202001 \t 60.061887 \t 0.70995509 \t 101.81688782 \t 0.70901062 \t 3.76396 \t 638.45368862\n",
      "203001 \t 60.06498421 \t 0.70988502 \t 101.81642624 \t 0.70901481 \t 3.76753 \t 627.4793582\n",
      "204001 \t 60.07410877 \t 0.70982263 \t 101.81406502 \t 0.7090307 \t 3.76432 \t 635.7139585\n",
      "205001 \t 60.08093847 \t 0.7098134 \t 101.8168679 \t 0.70903544 \t 3.76683 \t 646.66666889\n",
      "206001 \t 60.06047321 \t 0.70995759 \t 101.82370056 \t 0.7090334 \t 3.76792 \t 641.39691186\n",
      "207001 \t 60.05398426 \t 0.70998853 \t 101.82904411 \t 0.70898981 \t 3.76509 \t 635.93376279\n",
      "208001 \t 60.04060572 \t 0.71014498 \t 101.82582741 \t 0.70902534 \t 3.77033 \t 637.17251372\n",
      "209001 \t 60.02429226 \t 0.71031938 \t 101.8152858 \t 0.70910789 \t 3.77327 \t 633.10617304\n",
      "210001 \t 59.99487787 \t 0.71053954 \t 101.79599052 \t 0.70919895 \t 3.77332 \t 635.08455062\n",
      "211001 \t 59.9815958 \t 0.71067436 \t 101.79687073 \t 0.7091635 \t 3.76517 \t 646.83618879\n",
      "212001 \t 59.9866378 \t 0.71066391 \t 101.79016335 \t 0.70918949 \t 3.76724 \t 640.37810946\n",
      "213001 \t 59.99380253 \t 0.71062622 \t 101.77806931 \t 0.7092201 \t 3.76731 \t 640.32628822\n",
      "214001 \t 60.01040762 \t 0.71053891 \t 101.77426254 \t 0.70923467 \t 3.76906 \t 631.79396534\n",
      "215001 \t 60.03057745 \t 0.71038913 \t 101.77454659 \t 0.70921589 \t 3.76639 \t 630.81699347\n",
      "216001 \t 60.01718117 \t 0.71040977 \t 101.76460999 \t 0.70925218 \t 3.76884 \t 639.02907681\n",
      "217001 \t 60.01526138 \t 0.71037726 \t 101.75820717 \t 0.70928534 \t 3.76891 \t 641.84137416\n",
      "218001 \t 60.03116493 \t 0.71019784 \t 101.75617317 \t 0.70929524 \t 3.76831 \t 639.16668177\n",
      "219001 \t 60.02023069 \t 0.71025051 \t 101.75347832 \t 0.70931412 \t 3.76881 \t 633.99412537\n",
      "220001 \t 60.02053291 \t 0.71022575 \t 101.75480759 \t 0.70931064 \t 3.7683 \t 632.29120803\n",
      "221001 \t 60.00340679 \t 0.71037106 \t 101.75681656 \t 0.70928128 \t 3.76851 \t 643.98464489\n",
      "222001 \t 60.00762711 \t 0.71038596 \t 101.75499184 \t 0.70927694 \t 3.76778 \t 640.86442828\n",
      "223001 \t 60.00412777 \t 0.71047842 \t 101.75269089 \t 0.70930921 \t 3.76522 \t 633.77751994\n",
      "224001 \t 60.00914419 \t 0.71043073 \t 101.76106178 \t 0.70927219 \t 3.76755 \t 633.29459047\n",
      "225001 \t 59.99753761 \t 0.71051644 \t 101.76220695 \t 0.70929602 \t 3.76655 \t 635.31647539\n",
      "226001 \t 60.00461479 \t 0.71036511 \t 101.76373833 \t 0.70931773 \t 3.76253 \t 635.76482725\n",
      "227001 \t 60.01650675 \t 0.71022667 \t 101.76345367 \t 0.70932845 \t 3.76253 \t 642.45095921\n",
      "228001 \t 60.01359623 \t 0.71019395 \t 101.77449471 \t 0.70928692 \t 3.76291 \t 640.05982423\n",
      "229001 \t 60.00399336 \t 0.71021623 \t 101.76996414 \t 0.70932175 \t 3.76359 \t 632.21949482\n",
      "230001 \t 60.00468689 \t 0.71012011 \t 101.76834961 \t 0.70930336 \t 3.76275 \t 632.04202867\n",
      "231001 \t 60.00720741 \t 0.71013011 \t 101.76486496 \t 0.70930846 \t 3.7627 \t 630.39564419\n",
      "232001 \t 60.00598616 \t 0.71015791 \t 101.76418671 \t 0.70932597 \t 3.76587 \t 646.02869272\n",
      "233001 \t 60.01384239 \t 0.71015031 \t 101.76112213 \t 0.70933526 \t 3.76341 \t 644.02573586\n",
      "234001 \t 60.0114427 \t 0.71023574 \t 101.76173027 \t 0.70932541 \t 3.76291 \t 643.15309715\n",
      "235001 \t 60.00870171 \t 0.71027767 \t 101.75955963 \t 0.70930971 \t 3.76464 \t 635.55312276\n",
      "236001 \t 59.98582872 \t 0.71046188 \t 101.7572731 \t 0.70930578 \t 3.76227 \t 629.6808064\n",
      "237001 \t 59.97992393 \t 0.71057191 \t 101.74963501 \t 0.70933767 \t 3.76013 \t 641.3163712\n",
      "238001 \t 59.97171543 \t 0.71064285 \t 101.7493438 \t 0.70935318 \t 3.76232 \t 649.62735748\n",
      "239001 \t 59.98530037 \t 0.71050969 \t 101.75899483 \t 0.70930675 \t 3.76458 \t 641.88268876\n",
      "240001 \t 59.9928784 \t 0.71035357 \t 101.75951439 \t 0.709279 \t 3.76087 \t 630.46438622\n",
      "241001 \t 59.99452553 \t 0.71028645 \t 101.75491669 \t 0.70927739 \t 3.76587 \t 627.27590275\n",
      "242001 \t 60.00075872 \t 0.71022508 \t 101.74033218 \t 0.70936288 \t 3.7621 \t 640.27546906\n",
      "243001 \t 60.01032122 \t 0.71016072 \t 101.73619576 \t 0.70939209 \t 3.76194 \t 648.23615861\n",
      "244001 \t 60.01967627 \t 0.71008809 \t 101.73604637 \t 0.7094009 \t 3.76587 \t 640.0119257\n",
      "245001 \t 60.00730951 \t 0.71014909 \t 101.73962135 \t 0.70938622 \t 3.76313 \t 635.00015855\n",
      "246001 \t 60.00858501 \t 0.71011887 \t 101.74909561 \t 0.709348 \t 3.76161 \t 631.13857365\n",
      "247001 \t 60.012672 \t 0.71006108 \t 101.75007942 \t 0.70933677 \t 3.76493 \t 643.04553485\n",
      "248001 \t 60.00927025 \t 0.71008515 \t 101.74198257 \t 0.70933772 \t 3.76616 \t 649.49420166\n",
      "249001 \t 60.01164053 \t 0.70998789 \t 101.73939384 \t 0.70934753 \t 3.76564 \t 644.52066636\n",
      "250001 \t 59.99708307 \t 0.71008133 \t 101.734366 \t 0.70938591 \t 3.76593 \t 641.71516228\n",
      "251001 \t 60.00195107 \t 0.71005521 \t 101.7273658 \t 0.70941641 \t 3.76873 \t 633.45712328\n",
      "252001 \t 59.99366291 \t 0.71013968 \t 101.71975838 \t 0.70946717 \t 3.7698 \t 633.05626464\n",
      "253001 \t 59.99831326 \t 0.71015897 \t 101.71936272 \t 0.70947783 \t 3.76576 \t 640.02853274\n",
      "254001 \t 60.00517227 \t 0.71010946 \t 101.71180351 \t 0.709529 \t 3.76624 \t 651.98773241\n",
      "255001 \t 60.00968624 \t 0.71007527 \t 101.7040934 \t 0.70954443 \t 3.76294 \t 633.87888145\n",
      "256001 \t 60.00679672 \t 0.71009272 \t 101.70142441 \t 0.70954236 \t 3.7623 \t 641.04162645\n",
      "257001 \t 60.00784859 \t 0.71009543 \t 101.69943672 \t 0.70955529 \t 3.764 \t 632.20201349\n",
      "258001 \t 60.01384678 \t 0.71009551 \t 101.69297905 \t 0.70955887 \t 3.76749 \t 637.91770196\n",
      "259001 \t 60.0182597 \t 0.71013674 \t 101.70206429 \t 0.70951451 \t 3.76605 \t 637.13378358\n",
      "260001 \t 60.0258087 \t 0.71007938 \t 101.70858368 \t 0.7094667 \t 3.76674 \t 642.42418432\n",
      "261001 \t 60.01688478 \t 0.71017536 \t 101.70942352 \t 0.70946641 \t 3.76449 \t 636.32459807\n",
      "262001 \t 60.01368137 \t 0.71023386 \t 101.72051437 \t 0.70941501 \t 3.7639 \t 623.04276252\n",
      "263001 \t 59.99254137 \t 0.7104115 \t 101.71808922 \t 0.70942701 \t 3.7662 \t 644.79670477\n",
      "264001 \t 59.99204973 \t 0.71042481 \t 101.7206913 \t 0.7094137 \t 3.76686 \t 642.63697267\n",
      "265001 \t 59.99454811 \t 0.7104513 \t 101.73078453 \t 0.70936749 \t 3.76814 \t 640.60351014\n",
      "266001 \t 59.98099438 \t 0.71065219 \t 101.73468269 \t 0.70939066 \t 3.76606 \t 634.43608689\n",
      "267001 \t 59.96391878 \t 0.71077088 \t 101.73229645 \t 0.70942683 \t 3.76639 \t 634.46927738\n",
      "268001 \t 59.98074366 \t 0.71056023 \t 101.72746048 \t 0.7094405 \t 3.76885 \t 647.58072495\n",
      "269001 \t 60.00024172 \t 0.71036787 \t 101.71451714 \t 0.70944646 \t 3.76833 \t 639.04722214\n",
      "270001 \t 59.99760328 \t 0.7102959 \t 101.6984864 \t 0.70950613 \t 3.76941 \t 650.43784022\n",
      "271001 \t 59.98245174 \t 0.7103744 \t 101.68884842 \t 0.70955394 \t 3.76938 \t 637.19759345\n",
      "272001 \t 59.9825881 \t 0.71040163 \t 101.68853378 \t 0.70952583 \t 3.77184 \t 633.1472578\n",
      "273001 \t 59.9713175 \t 0.7105423 \t 101.67557549 \t 0.70955539 \t 3.76722 \t 639.15206695\n",
      "274001 \t 59.987675 \t 0.7104246 \t 101.67476372 \t 0.70953417 \t 3.76789 \t 640.42123532\n",
      "275001 \t 60.00189169 \t 0.71022737 \t 101.67458916 \t 0.70957191 \t 3.76547 \t 645.03801584\n",
      "276001 \t 60.00816244 \t 0.71022809 \t 101.67549644 \t 0.70959032 \t 3.76529 \t 645.55696058\n",
      "277001 \t 59.99887009 \t 0.71033681 \t 101.68389862 \t 0.70955666 \t 3.76367 \t 640.78900051\n",
      "278001 \t 60.00847176 \t 0.71034302 \t 101.68787788 \t 0.70953361 \t 3.76479 \t 630.14667034\n",
      "279001 \t 59.99637251 \t 0.71043622 \t 101.6796814 \t 0.70955457 \t 3.76704 \t 635.59094429\n",
      "280001 \t 59.99950747 \t 0.71048443 \t 101.68368935 \t 0.7095407 \t 3.76739 \t 645.68596363\n",
      "281001 \t 60.00016634 \t 0.71045848 \t 101.6746254 \t 0.70954502 \t 3.76801 \t 645.40269852\n",
      "282001 \t 60.00568386 \t 0.71037187 \t 101.68186295 \t 0.7094949 \t 3.76884 \t 636.65226817\n",
      "283001 \t 60.00936432 \t 0.71031321 \t 101.68805031 \t 0.70946206 \t 3.77006 \t 626.26338816\n",
      "284001 \t 60.02354338 \t 0.7102302 \t 101.68904449 \t 0.70946766 \t 3.77034 \t 637.07805991\n",
      "285001 \t 60.00763996 \t 0.71035808 \t 101.68012672 \t 0.7095293 \t 3.769 \t 637.61421108\n",
      "286001 \t 60.01597324 \t 0.71032892 \t 101.68038567 \t 0.70955436 \t 3.76669 \t 645.62709188\n"
     ]
    },
    {
     "name": "stdout",
     "output_type": "stream",
     "text": [
      "287001 \t 60.02030403 \t 0.71028445 \t 101.6856691 \t 0.70954339 \t 3.76861 \t 639.02747869\n",
      "288001 \t 60.01919922 \t 0.71032221 \t 101.68390106 \t 0.70956156 \t 3.767 \t 631.31878495\n",
      "289001 \t 60.01338963 \t 0.71029423 \t 101.67665787 \t 0.70957582 \t 3.76771 \t 637.43450141\n",
      "290001 \t 60.01219015 \t 0.71031796 \t 101.67185783 \t 0.7096061 \t 3.7678 \t 645.11453152\n",
      "291001 \t 59.99674229 \t 0.71043551 \t 101.66080132 \t 0.70965529 \t 3.76893 \t 637.62152863\n",
      "292001 \t 60.00278276 \t 0.71029436 \t 101.65573723 \t 0.70969187 \t 3.7688 \t 640.55098367\n",
      "293001 \t 60.00891653 \t 0.71026776 \t 101.65192825 \t 0.70972322 \t 3.76679 \t 628.22982597\n",
      "294001 \t 59.99982479 \t 0.71031217 \t 101.65667297 \t 0.7096906 \t 3.76592 \t 632.66432619\n",
      "295001 \t 59.98406664 \t 0.71038894 \t 101.65694817 \t 0.70970389 \t 3.76694 \t 635.00568962\n",
      "296001 \t 59.98406174 \t 0.71035673 \t 101.65791389 \t 0.7097221 \t 3.76955 \t 645.42015386\n",
      "297001 \t 59.96171362 \t 0.71058993 \t 101.66064262 \t 0.7097194 \t 3.76849 \t 644.6555016\n",
      "298001 \t 59.96223572 \t 0.71062003 \t 101.65895081 \t 0.70971487 \t 3.76591 \t 633.15469861\n",
      "299001 \t 59.95785223 \t 0.71069802 \t 101.66215042 \t 0.70970372 \t 3.76413 \t 627.98285532\n",
      "\n",
      "TRAINING DONE\n"
     ]
    }
   ],
   "source": [
    "with tf.Session(graph=graph) as session:\n",
    "    tf.global_variables_initializer().run()\n",
    "    print(\"Initialized\")\n",
    "    ptime = time.time()\n",
    "    tfconfig = tf.ConfigProto()\n",
    "    tfconfig.gpu_options.allow_growth=gpu_memory_growth\n",
    "    init_op = tf.global_variables_initializer()    \n",
    "    sess = tf.Session(config=tfconfig)\n",
    "    sess.run(init_op)\n",
    "    print ('iter\\t test_squ_loss\\t test_avg_prec\\t',\n",
    "           'train_squ_loss\\t train_avg_prec\\t regularization\\t time (in s)')\n",
    "    for step in range(num_steps):        \n",
    "        #print('Step',step)\n",
    "        #print('There are {} samples in the test set'.format(len(model_stats.test_ids)))\n",
    "        #print('There are {} samples in the train set'.format(len(model_stats.train_ids)))\n",
    "       \n",
    "        xmb, ymb = get_training_batch(model_stats, batch_size, window, \n",
    "                                      pitch_transforms, jitter)\n",
    "        \n",
    "        # every 1000-nd step save the results           \n",
    "        if step%control_step==0:\n",
    "            # training step \n",
    "            # to check output the loss (save the loss but you cannot compare it with the mse_train)\n",
    "            _, np_loss, np_global_step, np_lr, reg_np = \\\n",
    "            sess.run([training_op, loss, global_step, lr, reg], \n",
    "                                     feed_dict={xb: xmb, yb: ymb})\n",
    "            \n",
    "            # A) run model on test set\n",
    "                        \n",
    "            # 1. get the test set\n",
    "            X,Y = get_test_sample(model_stats.test_ids, window, 1000)\n",
    "            Y = Y[:,base_note:base_note+mm] # in general without effect\n",
    "            # shape Xtest: (1000*len(test_ids), 1, 16384, 1)\n",
    "            # shape Ytest: (1000*len(test_ids), 128)\n",
    "            # extended test-set: 11 samples\n",
    "\n",
    "            \n",
    "            # 2. prediction of output and calculation of\n",
    "            # - MSE\n",
    "            # - average precision\n",
    "            Y_p, mse_test = predict_direct_model(sess, X, Y)\n",
    "            avp_test = average_precision_score(Y.flatten(), Y_p.flatten())\n",
    "            \n",
    "            del X,Y,Y_p\n",
    "            \n",
    "            # B) run model on training set\n",
    "            \n",
    "            # 1. get training sample\n",
    "            X,Y = get_training_sample(window)\n",
    "            Y = Y[:,base_note:base_note+mm] # in general without effect\n",
    "            # shape Xtrain: (15000, 1, 16384, 1)\n",
    "            # shape Ytrain: (15000, 128)\n",
    "            \n",
    "            # 2. prediction of output and calculation of\n",
    "            # - MSE\n",
    "            # - average precision\n",
    "            Y_p, mse_train = predict_direct_model(sess, X, Y)\n",
    "            avp_train = average_precision_score(Y.flatten(), Y_p.flatten())\n",
    "            \n",
    "            del X,Y,Y_p\n",
    "            \n",
    "            # c) Print the temporary results\n",
    "            print (np_global_step,'\\t', round(mse_test,8),\n",
    "                    '\\t', round(avp_test,8),\n",
    "                    '\\t', round(mse_train,8),\n",
    "                    '\\t', round(avp_train,8),\n",
    "                    '\\t', round(reg_np,8),\n",
    "                    '\\t', round(time.time() - ptime,8))\n",
    "            \n",
    "            #D) Save the temporary results\n",
    "            model_stats.stats['iter'][2].append(np_global_step)\n",
    "            # protocol learning rate\n",
    "            model_stats.stats['lr'][2].append(np_lr)\n",
    "            # protocol runtime\n",
    "            model_stats.stats['time'][2].append(time.time() - ptime)\n",
    "            # protocol weights and its norms\n",
    "            weight_norms = dict()\n",
    "            for name, w in model_stats.weights.items():\n",
    "                weight_norms[name] = np.mean(np.linalg.norm(w.eval(session=sess),axis=0))\n",
    "            for name, norm in weight_norms.items():\n",
    "                model_stats.stats['n'+name][2].append(norm)\n",
    "            # protocol training errors     \n",
    "            track = []\n",
    "            model_stats.stats['mse_train_1'][2].append(np_loss)\n",
    "            model_stats.stats['mse_train'][2].append(mse_train)\n",
    "            track += [tf.summary.scalar('mse_train', mse_train)]\n",
    "            model_stats.stats['avp_train'][2].append(avp_train)\n",
    "            track += [tf.summary.scalar('avp_train', avp_train)]\n",
    "            # protocol test errors\n",
    "            model_stats.stats['mse_test'][2].append(mse_test)\n",
    "            track += [tf.summary.scalar('mse_test', mse_test)]\n",
    "            model_stats.stats['avp_test'][2].append(avp_test)\n",
    "            track += [tf.summary.scalar('avp_test', avp_test)]\n",
    "            ptime = time.time()\n",
    "            \n",
    "                   \n",
    "        else:\n",
    "            #training step \n",
    "            sess.run([training_op], feed_dict={xb: xmb, yb: ymb})\n",
    "        \n",
    "        if step/num_steps==0.5 or (step+1)/num_steps==1:\n",
    "            saver.save(sess, 'models_'+notebook_reference+'/model', global_step=step)            \n",
    "        \n",
    "    print ('\\nTRAINING DONE')"
   ]
  },
  {
   "cell_type": "code",
   "execution_count": 28,
   "metadata": {},
   "outputs": [
    {
     "data": {
      "text/plain": [
       "'models_1903143/model-299999'"
      ]
     },
     "execution_count": 28,
     "metadata": {},
     "output_type": "execute_result"
    }
   ],
   "source": [
    "saver.save(sess, 'models_'+notebook_reference+'/model', global_step=step) "
   ]
  },
  {
   "cell_type": "code",
   "execution_count": null,
   "metadata": {},
   "outputs": [],
   "source": []
  },
  {
   "cell_type": "code",
   "execution_count": null,
   "metadata": {},
   "outputs": [],
   "source": []
  },
  {
   "cell_type": "markdown",
   "metadata": {},
   "source": [
    "### 7. Post Processing\n",
    "\n",
    "Define functions to save the model_results diccionary to a file and load it."
   ]
  },
  {
   "cell_type": "code",
   "execution_count": 29,
   "metadata": {},
   "outputs": [],
   "source": [
    "# in case diccionary should be printed\n",
    "def print_dict(dictionary):\n",
    "    for key, value in  dictionary.items():\n",
    "        print (key)\n",
    "        print (value)\n",
    "#print_dict(model_stats.stats)\n",
    "    \n",
    "#save diccionary\n",
    "def save_obj(obj, name ):\n",
    "    with open(name + '.pkl', 'wb') as f:\n",
    "        pickle.dump(obj, f, pickle.HIGHEST_PROTOCOL)\n",
    "\n",
    "# load diccionary\n",
    "def load_obj(name ):\n",
    "    with open(name + '.pkl', 'rb') as f:\n",
    "        return pickle.load(f)\n"
   ]
  },
  {
   "cell_type": "markdown",
   "metadata": {},
   "source": [
    "#### 7.1 Plots"
   ]
  },
  {
   "cell_type": "code",
   "execution_count": 30,
   "metadata": {},
   "outputs": [],
   "source": [
    "# save diccionary to have a look at outputs at other times\n",
    "save_obj(model_stats.stats, 'results/'+notebook_reference+'_stats')"
   ]
  },
  {
   "cell_type": "code",
   "execution_count": 31,
   "metadata": {},
   "outputs": [],
   "source": [
    "results_stats = load_obj('results/'+notebook_reference+'_stats')\n",
    "\n",
    "# size of plots\n",
    "width = 20\n",
    "height = 13\n",
    "fontsize = 24\n",
    "control_step = 1000"
   ]
  },
  {
   "cell_type": "code",
   "execution_count": 32,
   "metadata": {},
   "outputs": [
    {
     "data": {
      "text/plain": [
       "<matplotlib.text.Text at 0x7f7614066d68>"
      ]
     },
     "execution_count": 32,
     "metadata": {},
     "output_type": "execute_result"
    },
    {
     "data": {
      "image/png": "[encoded data removed]",
      "text/plain": [
       "<matplotlib.figure.Figure at 0x7f761407d748>"
      ]
     },
     "metadata": {
      "needs_background": "light"
     },
     "output_type": "display_data"
    }
   ],
   "source": [
    "iters_res = results_stats['iter'][2]\n",
    "time_res = results_stats['time'][2]\n",
    "lr_res = results_stats['lr'][2]\n",
    "\n",
    "plt.figure(figsize=(width, height/2))\n",
    "plt.rcParams['xtick.labelsize']=fontsize\n",
    "plt.rcParams['ytick.labelsize']=fontsize\n",
    "#plot time needed for 'control_step' steps\n",
    "\"\"\"\n",
    "plt.subplot(2, 1, 1)\n",
    "plt.title('Runtime and Learning Rate')\n",
    "plt.plot(iters_res[1:], time_res[1:], c=\"darkblue\")\n",
    "plt.ylabel('Runtime of last '+str(control_step)+' steps (sec)')\n",
    "plt.ylim( (0.9*np.min(time_res[1:]), 1.1*np.max(time_res[1:])))\n",
    "\n",
    "plt.subplot(2, 1, 2)\n",
    "\"\"\"\n",
    "plt.subplot(1, 1, 1)\n",
    "plt.plot(iters_res[1:], lr_res[1:], c=\"darkblue\")\n",
    "plt.ylabel('Learning rate',fontsize=fontsize)\n",
    "plt.xlabel('Iteration',fontsize=fontsize)\n",
    "\n",
    "#plt.savefig('results/plots/'+notebook_reference+'_runtime_lr.png')"
   ]
  },
  {
   "cell_type": "code",
   "execution_count": 33,
   "metadata": {},
   "outputs": [
    {
     "data": {
      "text/plain": [
       "<matplotlib.text.Text at 0x7f761417a048>"
      ]
     },
     "execution_count": 33,
     "metadata": {},
     "output_type": "execute_result"
    },
    {
     "data": {
      "image/png": "[encoded data removed]",
      "text/plain": [
       "<matplotlib.figure.Figure at 0x7f7614128400>"
      ]
     },
     "metadata": {
      "needs_background": "light"
     },
     "output_type": "display_data"
    }
   ],
   "source": [
    "mse_train_res = results_stats['mse_train'][2]\n",
    "mse_test_res = results_stats['mse_test'][2]\n",
    "\n",
    "avp_train_res = results_stats['avp_train'][2]\n",
    "avp_test_res = results_stats['avp_test'][2]\n",
    "\n",
    "plt.figure(figsize=(width, height))\n",
    "\n",
    "#plot mean squared error\n",
    "plt.subplot(2, 1, 1)\n",
    "#plt.title('Error and Precision',fontsize=fontsize)\n",
    "plt.plot(iters_res, mse_train_res, label='Training', c=\"c\")\n",
    "plt.plot(iters_res, mse_test_res, label='Test', c=\"darkblue\")\n",
    "plt.legend(fontsize=fontsize)\n",
    "plt.ylabel('Mean Square Error',fontsize=fontsize)\n",
    "\n",
    "#plot average precision\n",
    "plt.subplot(2, 1, 2)\n",
    "plt.plot(iters_res, avp_train_res, label='Training', c=\"c\")\n",
    "plt.plot(iters_res, avp_test_res, label='Test', c=\"darkblue\")\n",
    "plt.legend(fontsize=fontsize)\n",
    "plt.ylabel('Average Precision',fontsize=fontsize)\n",
    "plt.xlabel('Iteration',fontsize=fontsize)\n",
    "\n",
    "#plt.savefig('results/plots/'+notebook_reference+'_error_prec.png')"
   ]
  },
  {
   "cell_type": "code",
   "execution_count": 34,
   "metadata": {},
   "outputs": [
    {
     "data": {
      "text/plain": [
       "<matplotlib.text.Text at 0x7f761463f438>"
      ]
     },
     "execution_count": 34,
     "metadata": {},
     "output_type": "execute_result"
    },
    {
     "data": {
      "image/png": "[encoded data removed]",
      "text/plain": [
       "<matplotlib.figure.Figure at 0x7f7614772ac8>"
      ]
     },
     "metadata": {
      "needs_background": "light"
     },
     "output_type": "display_data"
    }
   ],
   "source": [
    "nw = results_stats['nw'][2]\n",
    "nw2 = results_stats['nw2'][2]\n",
    "nbeta = results_stats['nbeta'][2]\n",
    "\n",
    "plt.figure(figsize=(width, height))\n",
    "\n",
    "plt.subplot(2, 1, 1)\n",
    "#plt.title('Norm of the Weights of Hidden and Output Layer',fontsize=fontsize)\n",
    "plt.plot(iters_res, nw, label='2nd layer', c=\"darkblue\")\n",
    "plt.plot(iters_res, nw2, label='3rd layer', c=\"c\")\n",
    "\n",
    "plt.legend(fontsize=fontsize)\n",
    "plt.ylabel('l2-Norm',fontsize=fontsize)\n",
    "\n",
    "plt.subplot(2, 1, 2)\n",
    "\n",
    "plt.plot(iters_res, nbeta, label='Output layer', c=\"darkblue\")\n",
    "plt.legend(fontsize=fontsize)\n",
    "plt.ylabel('l2-Norm',fontsize=fontsize)\n",
    "plt.xlabel('Iteration',fontsize=fontsize)\n",
    "\n",
    "#plt.savefig('results/plots/'+notebook_reference+'_weight_norms.png')"
   ]
  },
  {
   "cell_type": "code",
   "execution_count": null,
   "metadata": {},
   "outputs": [],
   "source": []
  },
  {
   "cell_type": "markdown",
   "metadata": {},
   "source": [
    "#### 7.2 Mirex Statistics\n",
    "\n",
    "Statistics that are necesarry for evaluation. The autuor used a threshold of 0.4 for calculation of error etc..."
   ]
  },
  {
   "cell_type": "code",
   "execution_count": 37,
   "metadata": {},
   "outputs": [],
   "source": [
    "def mirex_statistics(Y, Y_p, threshold=.5, base_note=0, mm=128):\n",
    "    \n",
    "    avp = average_precision_score(Y.flatten(), Y_p.flatten())\n",
    "\n",
    "    # we want zeros and ones\n",
    "    Yhat_p = Y_p>threshold\n",
    "    \n",
    "    # obtain frequencies\n",
    "    Yp_list = []\n",
    "    Y_list = []\n",
    "    \n",
    "    # for every sample\n",
    "    for i in range(len(Yhat_p)):\n",
    "        fhat = []\n",
    "        f = []\n",
    "        \n",
    "        for note in range(mm):\n",
    "            if Yhat_p[i][note] == 1:\n",
    "                fhat.append(440.*2**(((note+base_note) - 69.)/12.))\n",
    "            if Y[i][note] == 1:\n",
    "                f.append(440.*2**(((note+base_note) - 69.)/12.))\n",
    "\n",
    "        Yp_list.append(np.array(fhat))\n",
    "        Y_list.append(np.array(f))\n",
    "\n",
    "    # Precision, Recall, Accuracy, Substitution, Miss, False Alarm, and Total Error scores \n",
    "    # based both on raw frequency values and values mapped to a single octave (chroma)\n",
    "    \n",
    "    P,R,Acc,Esub,Emiss,Efa,Etot,cP,cR,cAcc,cEsub,cEmiss,cEfa,cEtot = \\\n",
    "    mir_eval.multipitch.metrics(np.arange(len(Y_list))/100., Y_list,\n",
    "                                np.arange(len(Yp_list))/100., Yp_list)\n",
    "\n",
    "\n",
    "    print('{:.2f}\\t{:.3f}\\t{:.3f}\\t{:.3f}\\t{:.3f}\\t{:.3f}\\t{:.3f}\\t{:.3f}\\t{:.3f}'.format(\n",
    "        threshold,100*avp,100*P,100*R,Acc,Etot,Esub,Emiss,Efa))\n",
    "\n",
    "    return avp,P,R,Acc,Etot\n"
   ]
  },
  {
   "cell_type": "code",
   "execution_count": 38,
   "metadata": {},
   "outputs": [
    {
     "name": "stdout",
     "output_type": "stream",
     "text": [
      "INFO:tensorflow:Restoring parameters from models_1903143/model-299999\n",
      "Model restored.\n"
     ]
    }
   ],
   "source": [
    "tf.reset_default_graph()\n",
    "\n",
    "num_steps = 300000\n",
    "\n",
    "# Add ops to save and restore all the variables.\n",
    "saver = tf.train.Saver({'wavg': wavg, 'w2avg': w2avg, 'betaavg': betaavg})\n",
    "\n",
    "# Later, launch the model, use the saver to restore variables from disk, and\n",
    "# do some work with the model.\n",
    "with tf.Session(graph=graph) as sess:\n",
    "    # Restore variables from disk.\n",
    "    saver.restore(sess, 'models_'+notebook_reference+'/model-'+str(num_steps-1))\n",
    "    print(\"Model restored.\")\n",
    "    # Check the values of the variables\n",
    "\n",
    "    # A) run model on test set\n",
    "\n",
    "    # 1. get the test set\n",
    "    X, Y = get_test_sample(model_stats.test_ids, window, 1000)\n",
    "    Y = Y[:,base_note:base_note+mm] # in general without effect\n",
    "    # shape Xtest: (1000*len(test_ids), 1, 16384, 1)\n",
    "    # shape Ytest: (1000*len(test_ids), 128)\n",
    "    # extended test-set: 11 samples\n",
    "\n",
    "\n",
    "    # 2. prediction of output and calculation of\n",
    "    # - MSE\n",
    "    # - average precision\n",
    "    Y_p, mse_test = predict_direct_model(sess, X, Y)\n"
   ]
  },
  {
   "cell_type": "markdown",
   "metadata": {},
   "source": [
    "With the output of the test sample predicted calculate the mirex statistics:\n",
    "\n",
    "Average Precision (not from mireval), Precision, Recall, Accuracy, Total Error, Substitution, Miss, False Alarm"
   ]
  },
  {
   "cell_type": "code",
   "execution_count": 39,
   "metadata": {},
   "outputs": [
    {
     "name": "stdout",
     "output_type": "stream",
     "text": [
      "Thr\tAvgP\tP\tR\tAcc\tETot\tESub\tEmiss\tEfa\n",
      "0.30\t71.066\t63.283\t74.288\t0.519\t0.554\t0.135\t0.123\t0.296\n",
      "0.35\t71.066\t66.314\t70.266\t0.518\t0.525\t0.130\t0.168\t0.227\n",
      "0.40\t71.066\t68.924\t66.589\t0.512\t0.512\t0.122\t0.212\t0.178\n",
      "0.45\t71.066\t71.135\t62.270\t0.497\t0.517\t0.113\t0.264\t0.139\n",
      "0.50\t71.066\t73.317\t57.865\t0.478\t0.530\t0.102\t0.319\t0.109\n"
     ]
    }
   ],
   "source": [
    "print('Thr\\tAvgP\\tP\\tR\\tAcc\\tETot\\tESub\\tEmiss\\tEfa')\n",
    "for th in [.3, .35,.4, .45, .5]:\n",
    "    #print(\"When using threshold\",th)\n",
    "    avp,P,R,Acc,Etot = mirex_statistics(Y, Y_p, th)"
   ]
  },
  {
   "cell_type": "code",
   "execution_count": null,
   "metadata": {},
   "outputs": [],
   "source": []
  }
 ],
 "metadata": {
  "kernelspec": {
   "display_name": "Python 3",
   "language": "python",
   "name": "python3"
  },
  "language_info": {
   "codemirror_mode": {
    "name": "ipython",
    "version": 3
   },
   "file_extension": ".py",
   "mimetype": "text/x-python",
   "name": "python",
   "nbconvert_exporter": "python",
   "pygments_lexer": "ipython3",
   "version": "3.6.6"
  }
 },
 "nbformat": 4,
 "nbformat_minor": 2
}
