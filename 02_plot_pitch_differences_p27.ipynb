{
 "cells": [
  {
   "cell_type": "markdown",
   "metadata": {},
   "source": [
    "## 2. MusicNet pitch differences\n",
    "\n",
    "This tutorial demontrates the data using one recording as example. It depends on the NumPy, matplotlib, and intervaltree packages."
   ]
  },
  {
   "cell_type": "code",
   "execution_count": 1,
   "metadata": {
    "collapsed": true
   },
   "outputs": [],
   "source": [
    "import numpy as np                      # fast vectors and matrices\n",
    "import matplotlib.pyplot as plt         # plotting\n",
    "\n",
    "from IPython.display import Audio\n",
    "\n",
    "from intervaltree import Interval,IntervalTree\n",
    "\n",
    "import pickle\n",
    "\n",
    "%matplotlib inline"
   ]
  },
  {
   "cell_type": "markdown",
   "metadata": {},
   "source": [
    "### Constants\n",
    "\n",
    "A recording of a musical performance is a real-valued time series. The values of this time series represent sound pressure variations sampled at regular intervals, in this case 44,100Hz. The human ear interprets pressure periodicities as musical notes."
   ]
  },
  {
   "cell_type": "code",
   "execution_count": 104,
   "metadata": {
    "collapsed": true
   },
   "outputs": [],
   "source": [
    "fs = 44100      # samples/second"
   ]
  },
  {
   "cell_type": "markdown",
   "metadata": {
    "collapsed": true
   },
   "source": [
    "### Import\n",
    "Import the recording with ID 2494. It's the String Quartet No 11 in F minor (midi note number 42) from Beethoven, frist movement Allegro con brio."
   ]
  },
  {
   "cell_type": "code",
   "execution_count": 13,
   "metadata": {},
   "outputs": [],
   "source": [
    "X = np.load(open('data/XX.npy','rb'), encoding='latin1')\n",
    "Y = pickle.load(open('data/YY_label.p','rb'))"
   ]
  },
  {
   "cell_type": "code",
   "execution_count": 14,
   "metadata": {},
   "outputs": [
    {
     "name": "stdout",
     "output_type": "stream",
     "text": [
      "Python-Type of Music: <type 'numpy.ndarray'>\n",
      "The array has 13100544 elements\n",
      "13100544 / (44100 s^{-1}) = 297 seconds = 4.95 minutes of recording.\n",
      "\n",
      "Python-Type of Labels: <class 'intervaltree.intervaltree.IntervalTree'>\n"
     ]
    }
   ],
   "source": [
    "print \"Python-Type of Music:\",type(X)\n",
    "print \"The array has\",len(X),\"elements\"\n",
    "print \"13100544 / (44100 s^{-1}) =\",len(X) / fs,\"seconds =\", round(float(len(X))/fs/60,2),\"minutes of recording.\"\n",
    "print \"\"\n",
    "print \"Python-Type of Labels:\",type(Y)"
   ]
  },
  {
   "cell_type": "markdown",
   "metadata": {},
   "source": [
    "### The Music\n",
    "Extract frames of window size 16384 in music sample."
   ]
  },
  {
   "cell_type": "code",
   "execution_count": 23,
   "metadata": {},
   "outputs": [
    {
     "name": "stdout",
     "output_type": "stream",
     "text": [
      "Music sample contains 799 windows of length 0.371519274376 seconds.\n"
     ]
    }
   ],
   "source": [
    "window = 16384\n",
    "frames =  len(X) / window\n",
    "print(\"Music sample contains {} windows of length {} seconds.\".format(frames, float(window)/fs))\n"
   ]
  },
  {
   "cell_type": "code",
   "execution_count": 24,
   "metadata": {
    "collapsed": true
   },
   "outputs": [],
   "source": [
    "YY_per_window = np.zeros((frames, 128))"
   ]
  },
  {
   "cell_type": "code",
   "execution_count": 25,
   "metadata": {
    "collapsed": true
   },
   "outputs": [],
   "source": [
    "for i in range(frames):\n",
    "    labels = Y[i*window]\n",
    "    for label in labels:\n",
    "        YY_per_window[i,label.data[1]] = 1\n",
    "        "
   ]
  },
  {
   "cell_type": "code",
   "execution_count": 105,
   "metadata": {},
   "outputs": [
    {
     "data": {
      "text/plain": [
       "\"\\nfig = plt.figure(figsize=(15,7))\\nplt.rcParams['xtick.labelsize']=24\\nplt.rcParams['ytick.labelsize']=24\\nfor i in range(frames):\\n    for j in range(128):\\n        if YY_per_window[i,j] == 1:\\n            plt.plot(i, j, ls='', marker='.', c='royalblue')\\n\""
      ]
     },
     "execution_count": 105,
     "metadata": {},
     "output_type": "execute_result"
    }
   ],
   "source": [
    "\"\"\"\n",
    "fig = plt.figure(figsize=(15,7))\n",
    "plt.rcParams['xtick.labelsize']=24\n",
    "plt.rcParams['ytick.labelsize']=24\n",
    "for i in range(frames):\n",
    "    for j in range(128):\n",
    "        if YY_per_window[i,j] == 1:\n",
    "            plt.plot(i, j, ls='', marker='.', c='royalblue')\n",
    "\"\"\""
   ]
  },
  {
   "cell_type": "markdown",
   "metadata": {},
   "source": [
    "Now count the number of apearances of the different pitch jumps."
   ]
  },
  {
   "cell_type": "code",
   "execution_count": 106,
   "metadata": {},
   "outputs": [],
   "source": [
    "jumps = np.zeros(128)\n",
    "#register first window\n",
    "pitches = YY_per_window[0]\n",
    "\n",
    "for i in range(1,frames):\n",
    "    tmp = YY_per_window[i]\n",
    "    for j in np.where(pitches==1)[0]:\n",
    "        for k in np.where(tmp==1)[0]:\n",
    "            jumps[np.abs(j-k)] += 1\n",
    "    pitches = tmp\n",
    "jumps = jumps / sum(jumps)"
   ]
  },
  {
   "cell_type": "markdown",
   "metadata": {},
   "source": [
    "The plots shows that there are more and less probable pitch differences."
   ]
  },
  {
   "cell_type": "code",
   "execution_count": 107,
   "metadata": {},
   "outputs": [
    {
     "data": {
      "text/plain": [
       "<matplotlib.text.Text at 0x17408f98>"
      ]
     },
     "execution_count": 107,
     "metadata": {},
     "output_type": "execute_result"
    },
    {
     "data": {
      "image/png": "[encoded data removed]",
      "text/plain": [
       "<matplotlib.figure.Figure at 0x16ae5630>"
      ]
     },
     "metadata": {},
     "output_type": "display_data"
    }
   ],
   "source": [
    "fig = plt.figure(figsize=(20,10))\n",
    "plt.rcParams['xtick.labelsize']=24\n",
    "plt.rcParams['ytick.labelsize']=24\n",
    "for i in range(128):\n",
    "    plt.plot([i,i],[0,jumps[i]], c='cornflowerblue', linewidth = 6)\n",
    "plt.xlabel('Pitch Differences in Semitones)',fontsize=24)\n",
    "plt.ylabel('Frequency',fontsize=24)"
   ]
  },
  {
   "cell_type": "markdown",
   "metadata": {},
   "source": [
    "The most probable pitch differences (in half tones) are:"
   ]
  },
  {
   "cell_type": "code",
   "execution_count": 108,
   "metadata": {
    "collapsed": true
   },
   "outputs": [],
   "source": [
    "chords = [\"Perfect unison\", \"Minor second\", \"Major second\", \"Minor third\", \"Major third\", \"Perfect fourth\", \n",
    "          \"Tritone\", \"Perfect fifth\", \"Minor sixth\", \"Major sixth\", \"Minor seventh\", \"Major seventh\", \n",
    "          \"Perfect octave\", \"\", \"\", \"\", \"\", \"\", \"\", \"\", \"\", \"\", \"\", \"\", \n",
    "         \"Double octave\", \"\"]\n"
   ]
  },
  {
   "cell_type": "code",
   "execution_count": 109,
   "metadata": {},
   "outputs": [
    {
     "name": "stdout",
     "output_type": "stream",
     "text": [
      "Semitones\tChord\t\t\tFrequency of Pitch Difference \n",
      "0 \t\tPerfect unison \t\t13.59 %\n",
      "12 \t\tPerfect octave \t\t7.38 %\n",
      "9 \t\tMajor sixth \t\t4.54 %\n",
      "3 \t\tMinor third \t\t4.45 %\n",
      "7 \t\tPerfect fifth \t\t4.41 %\n",
      "15 \t\t\t\t\t3.92 %\n",
      "2 \t\tMajor second \t\t3.89 %\n",
      "24 \t\tDouble octave \t\t3.28 %\n",
      "4 \t\tMajor third \t\t3.27 %\n",
      "5 \t\tPerfect fourth \t\t3.23 %\n",
      "19 \t\t\t\t\t3.08 %\n",
      "16 \t\t\t\t\t3.05 %\n",
      "17 \t\t\t\t\t3.02 %\n",
      "1 \t\tMinor second \t\t2.54 %\n",
      "14 \t\t\t\t\t2.36 %\n",
      "8 \t\tMinor sixth \t\t2.35 %\n",
      "27 \t\t\t\t\t2.34 %\n",
      "6 \t\tTritone \t\t2.31 %\n",
      "21 \t\t\t\t\t1.79 %\n",
      "10 \t\tMinor seventh \t\t1.79 %\n",
      "29 \t\t\t\t\t1.74 %\n",
      "20 \t\t\t\t\t1.64 %\n",
      "31 \t\t\t\t\t1.63 %\n",
      "36 \t\t\t\t\t1.59 %\n",
      "26 \t\t\t\t\t1.53 %\n",
      "22 \t\t\t\t\t1.52 %\n",
      "18 \t\t\t\t\t1.44 %\n",
      "11 \t\tMajor seventh \t\t1.26 %\n",
      "43 \t\t\t\t\t1.22 %\n",
      "28 \t\t\t\t\t1.21 %\n"
     ]
    }
   ],
   "source": [
    "print(\"Semitones\\tChord\\t\\t\\tFrequency of Pitch Difference \")\n",
    "sorting = np.argsort(-jumps)\n",
    "for i in range(30):\n",
    "    if chords[min(sorting[i],25)] == \"\":\n",
    "        print sorting[i],\"\\t\\t\",chords[min(sorting[i],25)],\"\\t\\t\\t\",np.round(jumps[sorting[i]]*100,2),\"%\"\n",
    "    else:\n",
    "        print sorting[i],\"\\t\\t\",chords[min(sorting[i],25)],\"\\t\\t\",np.round(jumps[sorting[i]]*100,2),\"%\""
   ]
  },
  {
   "cell_type": "code",
   "execution_count": null,
   "metadata": {
    "collapsed": true
   },
   "outputs": [],
   "source": [
    "print(\"Semitones & Chord & Frequency of Pitch Difference \")\n",
    "sorting = np.argsort(-jumps)\n",
    "for i in range(30):\n",
    "    print sorting[i],\" & \",chords[min(sorting[i],25)],\" & \",np.round(jumps[sorting[i]]*100,2),\"\\%\""
   ]
  },
  {
   "cell_type": "code",
   "execution_count": null,
   "metadata": {},
   "outputs": [],
   "source": []
  }
 ],
 "metadata": {
  "kernelspec": {
   "display_name": "Python 3",
   "language": "python",
   "name": "python3"
  },
  "language_info": {
   "codemirror_mode": {
    "name": "ipython",
    "version": 3
   },
   "file_extension": ".py",
   "mimetype": "text/x-python",
   "name": "python",
   "nbconvert_exporter": "python",
   "pygments_lexer": "ipython3",
   "version": "3.6.6"
  }
 },
 "nbformat": 4,
 "nbformat_minor": 2
}
